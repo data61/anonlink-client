{
 "cells": [
  {
   "cell_type": "markdown",
   "metadata": {},
   "source": [
    "# Blocking API Proposal\n",
    "\n",
    "In this notebook, we demonstrate the (expected) use of blocking in anonlink-entity-servce. Suppose we have two data party - Alice and Bob. The steps of record linkage with blocking is as follows:\n",
    "\n",
    "1. For each data party, generate candidate blocks / reversed index locally\n",
    "2. For each data party, encode dataset with clkhash\n",
    "3. For each data party, upload candidate blocks and encoded dataset to anonlink-client\n",
    "4. Anonlink-client generates final blocks with candidate blocks uploaded from data parties and report block statistics\n",
    "5. Anonlink-client sends blocks and data to anonlink-entity-service for matching\n",
    "6. Anonlink-client sends results back to each data provider"
   ]
  },
  {
   "cell_type": "code",
   "execution_count": 1,
   "metadata": {},
   "outputs": [
    {
     "data": {
      "image/svg+xml": [
       "<svg content=\"&lt;mxfile host=&quot;www.draw.io&quot; modified=&quot;2019-11-07T04:34:41.216Z&quot; agent=&quot;Mozilla/5.0 (Macintosh; Intel Mac OS X 10_15_0) AppleWebKit/537.36 (KHTML, like Gecko) Chrome/78.0.3904.70 Safari/537.36&quot; etag=&quot;oKP-7MJfVk4eByEweM1G&quot; version=&quot;12.2.0&quot; type=&quot;device&quot; pages=&quot;1&quot;&gt;&lt;diagram id=&quot;ZjKPBfJJPTWIgTo6AzG3&quot; name=&quot;Page-1&quot;&gt;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&lt;/diagram&gt;&lt;/mxfile&gt;\" height=\"901px\" style=\"background-color: rgb(255, 255, 255);\" version=\"1.1\" viewBox=\"-0.5 -0.5 800 901\" width=\"800px\" xmlns=\"http://www.w3.org/2000/svg\" xmlns:xlink=\"http://www.w3.org/1999/xlink\"><defs/><g><rect fill=\"#f5f5f5\" height=\"260\" pointer-events=\"all\" stroke=\"#666666\" width=\"795\" x=\"2\" y=\"0\"/><rect fill=\"#f5f5f5\" height=\"206\" pointer-events=\"all\" stroke=\"#666666\" width=\"795\" x=\"0.5\" y=\"300\"/><rect fill=\"#f5f5f5\" height=\"360\" pointer-events=\"all\" stroke=\"#666666\" width=\"310\" x=\"489\" y=\"540\"/><rect fill=\"#f5f5f5\" height=\"360\" pointer-events=\"all\" stroke=\"#666666\" width=\"310\" x=\"2\" y=\"540\"/><path d=\"M 162 790 L 162 755 L 227 755 L 227 726.37\" fill=\"none\" pointer-events=\"stroke\" stroke=\"#000000\" stroke-miterlimit=\"10\"/><path d=\"M 227 721.12 L 230.5 728.12 L 227 726.37 L 223.5 728.12 Z\" fill=\"#000000\" pointer-events=\"all\" stroke=\"#000000\" stroke-miterlimit=\"10\"/><path d=\"M 162 790 L 162 755 L 87 755 L 87 726.37\" fill=\"none\" pointer-events=\"stroke\" stroke=\"#000000\" stroke-miterlimit=\"10\"/><path d=\"M 87 721.12 L 90.5 728.12 L 87 726.37 L 83.5 728.12 Z\" fill=\"#000000\" pointer-events=\"all\" stroke=\"#000000\" stroke-miterlimit=\"10\"/><rect fill=\"#f8cecc\" height=\"60\" pointer-events=\"all\" rx=\"9\" ry=\"9\" stroke=\"#b85450\" width=\"120\" x=\"101.5\" y=\"790\"/><g transform=\"translate(103.5,799.5)\"><switch><foreignObject height=\"40\" pointer-events=\"all\" requiredFeatures=\"http://www.w3.org/TR/SVG11/feature#Extensibility\" style=\"overflow:visible;\" width=\"116\"><div style=\"display: inline-block; font-size: 12px; font-family: Helvetica; color: rgb(0, 0, 0); line-height: 1.2; vertical-align: top; width: 116px; white-space: nowrap; overflow-wrap: normal; text-align: center;\" xmlns=\"http://www.w3.org/1999/xhtml\"><div style=\"display:inline-block;text-align:inherit;text-decoration:inherit;white-space:normal;\" xmlns=\"http://www.w3.org/1999/xhtml\">Personally Identifiable Information</div></div></foreignObject><text fill=\"#000000\" font-family=\"Helvetica\" font-size=\"12px\" text-anchor=\"middle\" x=\"58\" y=\"26\">Personally Identifiable Information</text></switch></g><path d=\"M 227 660 L 227 216.37\" fill=\"none\" pointer-events=\"stroke\" stroke=\"#000000\" stroke-miterlimit=\"10\"/><path d=\"M 227 211.12 L 230.5 218.12 L 227 216.37 L 223.5 218.12 Z\" fill=\"#000000\" pointer-events=\"all\" stroke=\"#000000\" stroke-miterlimit=\"10\"/><ellipse cx=\"226.5\" cy=\"690\" fill=\"#d5e8d4\" pointer-events=\"all\" rx=\"65\" ry=\"30\" stroke=\"#82b366\"/><g transform=\"translate(202.5,676.5)\"><switch><foreignObject height=\"26\" pointer-events=\"all\" requiredFeatures=\"http://www.w3.org/TR/SVG11/feature#Extensibility\" style=\"overflow:visible;\" width=\"48\"><div style=\"display: inline-block; font-size: 12px; font-family: Helvetica; color: rgb(0, 0, 0); line-height: 1.2; vertical-align: top; width: 50px; white-space: nowrap; overflow-wrap: normal; text-align: center;\" xmlns=\"http://www.w3.org/1999/xhtml\"><div style=\"display:inline-block;text-align:inherit;text-decoration:inherit;white-space:normal;\" xmlns=\"http://www.w3.org/1999/xhtml\">Encoder<br/>(clkhash)</div></div></foreignObject><text fill=\"#000000\" font-family=\"Helvetica\" font-size=\"12px\" text-anchor=\"middle\" x=\"24\" y=\"19\">[Not supported by viewer]</text></switch></g><path d=\"M 87 660 L 87 616.37\" fill=\"none\" pointer-events=\"stroke\" stroke=\"#000000\" stroke-miterlimit=\"10\"/><path d=\"M 87 611.12 L 90.5 618.12 L 87 616.37 L 83.5 618.12 Z\" fill=\"#000000\" pointer-events=\"all\" stroke=\"#000000\" stroke-miterlimit=\"10\"/><ellipse cx=\"86.5\" cy=\"690\" fill=\"#fff2cc\" pointer-events=\"all\" rx=\"65\" ry=\"30\" stroke=\"#d6b656\"/><g transform=\"translate(35.5,676.5)\"><switch><foreignObject height=\"26\" pointer-events=\"all\" requiredFeatures=\"http://www.w3.org/TR/SVG11/feature#Extensibility\" style=\"overflow:visible;\" width=\"102\"><div style=\"display: inline-block; font-size: 12px; font-family: Helvetica; color: rgb(0, 0, 0); line-height: 1.2; vertical-align: top; width: 104px; white-space: nowrap; overflow-wrap: normal; text-align: center;\" xmlns=\"http://www.w3.org/1999/xhtml\"><div style=\"display:inline-block;text-align:inherit;text-decoration:inherit;white-space:normal;\" xmlns=\"http://www.w3.org/1999/xhtml\">Blocking Generator<br/>(anonlink-client)</div></div></foreignObject><text fill=\"#000000\" font-family=\"Helvetica\" font-size=\"12px\" text-anchor=\"middle\" x=\"51\" y=\"19\">Blocking Generator&lt;br&gt;(anonlink-client)</text></switch></g><rect fill=\"none\" height=\"20\" pointer-events=\"all\" stroke=\"none\" width=\"70\" x=\"21.5\" y=\"870\"/><g transform=\"translate(24.5,868.5)\"><switch><foreignObject height=\"22\" pointer-events=\"all\" requiredFeatures=\"http://www.w3.org/TR/SVG11/feature#Extensibility\" style=\"overflow:visible;\" width=\"64\"><div style=\"display: inline-block; font-size: 12px; font-family: Helvetica; color: rgb(0, 0, 0); line-height: 1.2; vertical-align: top; width: 66px; white-space: nowrap; overflow-wrap: normal; text-align: center;\" xmlns=\"http://www.w3.org/1999/xhtml\"><div style=\"display:inline-block;text-align:inherit;text-decoration:inherit;white-space:normal;\" xmlns=\"http://www.w3.org/1999/xhtml\"><font style=\"font-size: 20px\">Party A</font></div></div></foreignObject><text fill=\"#000000\" font-family=\"Helvetica\" font-size=\"12px\" text-anchor=\"middle\" x=\"32\" y=\"17\">[Not supported by viewer]</text></switch></g><path d=\"M 340 690 L 297.87 690\" fill=\"none\" pointer-events=\"stroke\" stroke=\"#000000\" stroke-miterlimit=\"10\"/><path d=\"M 292.62 690 L 299.62 686.5 L 297.87 690 L 299.62 693.5 Z\" fill=\"#000000\" pointer-events=\"all\" stroke=\"#000000\" stroke-miterlimit=\"10\"/><path d=\"M 460 690 L 497.63 690\" fill=\"none\" pointer-events=\"stroke\" stroke=\"#000000\" stroke-miterlimit=\"10\"/><path d=\"M 502.88 690 L 495.88 693.5 L 497.63 690 L 495.88 686.5 Z\" fill=\"#000000\" pointer-events=\"all\" stroke=\"#000000\" stroke-miterlimit=\"10\"/><rect fill=\"#e1d5e7\" height=\"50\" pointer-events=\"all\" rx=\"7.5\" ry=\"7.5\" stroke=\"#9673a6\" width=\"120\" x=\"340\" y=\"665\"/><g transform=\"translate(361.5,683.5)\"><switch><foreignObject height=\"12\" pointer-events=\"all\" requiredFeatures=\"http://www.w3.org/TR/SVG11/feature#Extensibility\" style=\"overflow:visible;\" width=\"76\"><div style=\"display: inline-block; font-size: 12px; font-family: Helvetica; color: rgb(0, 0, 0); line-height: 1.2; vertical-align: top; width: 78px; white-space: nowrap; overflow-wrap: normal; text-align: center;\" xmlns=\"http://www.w3.org/1999/xhtml\"><div style=\"display:inline-block;text-align:inherit;text-decoration:inherit;white-space:normal;\" xmlns=\"http://www.w3.org/1999/xhtml\">Shared Secret</div></div></foreignObject><text fill=\"#000000\" font-family=\"Helvetica\" font-size=\"12px\" text-anchor=\"middle\" x=\"38\" y=\"12\">Shared Secret</text></switch></g><path d=\"M 639 790 L 639 755 L 569 755 L 569 726.37\" fill=\"none\" pointer-events=\"stroke\" stroke=\"#000000\" stroke-miterlimit=\"10\"/><path d=\"M 569 721.12 L 572.5 728.12 L 569 726.37 L 565.5 728.12 Z\" fill=\"#000000\" pointer-events=\"all\" stroke=\"#000000\" stroke-miterlimit=\"10\"/><path d=\"M 639 790 L 639 755 L 727 755 L 727 726.37\" fill=\"none\" pointer-events=\"stroke\" stroke=\"#000000\" stroke-miterlimit=\"10\"/><path d=\"M 727 721.12 L 730.5 728.12 L 727 726.37 L 723.5 728.12 Z\" fill=\"#000000\" pointer-events=\"all\" stroke=\"#000000\" stroke-miterlimit=\"10\"/><rect fill=\"#f8cecc\" height=\"60\" pointer-events=\"all\" rx=\"9\" ry=\"9\" stroke=\"#b85450\" width=\"120\" x=\"578.5\" y=\"790\"/><g transform=\"translate(580.5,799.5)\"><switch><foreignObject height=\"40\" pointer-events=\"all\" requiredFeatures=\"http://www.w3.org/TR/SVG11/feature#Extensibility\" style=\"overflow:visible;\" width=\"116\"><div style=\"display: inline-block; font-size: 12px; font-family: Helvetica; color: rgb(0, 0, 0); line-height: 1.2; vertical-align: top; width: 116px; white-space: nowrap; overflow-wrap: normal; text-align: center;\" xmlns=\"http://www.w3.org/1999/xhtml\"><div style=\"display:inline-block;text-align:inherit;text-decoration:inherit;white-space:normal;\" xmlns=\"http://www.w3.org/1999/xhtml\">Personally Identifiable Information</div></div></foreignObject><text fill=\"#000000\" font-family=\"Helvetica\" font-size=\"12px\" text-anchor=\"middle\" x=\"58\" y=\"26\">Personally Identifiable Information</text></switch></g><path d=\"M 569 660 L 569 216.37\" fill=\"none\" pointer-events=\"stroke\" stroke=\"#000000\" stroke-miterlimit=\"10\"/><path d=\"M 569 211.12 L 572.5 218.12 L 569 216.37 L 565.5 218.12 Z\" fill=\"#000000\" pointer-events=\"all\" stroke=\"#000000\" stroke-miterlimit=\"10\"/><ellipse cx=\"568.5\" cy=\"690\" fill=\"#d5e8d4\" pointer-events=\"all\" rx=\"65\" ry=\"30\" stroke=\"#82b366\"/><g transform=\"translate(544.5,676.5)\"><switch><foreignObject height=\"26\" pointer-events=\"all\" requiredFeatures=\"http://www.w3.org/TR/SVG11/feature#Extensibility\" style=\"overflow:visible;\" width=\"48\"><div style=\"display: inline-block; font-size: 12px; font-family: Helvetica; color: rgb(0, 0, 0); line-height: 1.2; vertical-align: top; width: 50px; white-space: nowrap; overflow-wrap: normal; text-align: center;\" xmlns=\"http://www.w3.org/1999/xhtml\"><div style=\"display:inline-block;text-align:inherit;text-decoration:inherit;white-space:normal;\" xmlns=\"http://www.w3.org/1999/xhtml\">Encoder<br/>(clkhash)</div></div></foreignObject><text fill=\"#000000\" font-family=\"Helvetica\" font-size=\"12px\" text-anchor=\"middle\" x=\"24\" y=\"19\">[Not supported by viewer]</text></switch></g><path d=\"M 727 660 L 727 616.37\" fill=\"none\" pointer-events=\"stroke\" stroke=\"#000000\" stroke-miterlimit=\"10\"/><path d=\"M 727 611.12 L 730.5 618.12 L 727 616.37 L 723.5 618.12 Z\" fill=\"#000000\" pointer-events=\"all\" stroke=\"#000000\" stroke-miterlimit=\"10\"/><ellipse cx=\"726.5\" cy=\"690\" fill=\"#fff2cc\" pointer-events=\"all\" rx=\"65\" ry=\"30\" stroke=\"#d6b656\"/><g transform=\"translate(675.5,676.5)\"><switch><foreignObject height=\"26\" pointer-events=\"all\" requiredFeatures=\"http://www.w3.org/TR/SVG11/feature#Extensibility\" style=\"overflow:visible;\" width=\"102\"><div style=\"display: inline-block; font-size: 12px; font-family: Helvetica; color: rgb(0, 0, 0); line-height: 1.2; vertical-align: top; width: 104px; white-space: nowrap; overflow-wrap: normal; text-align: center;\" xmlns=\"http://www.w3.org/1999/xhtml\"><div style=\"display:inline-block;text-align:inherit;text-decoration:inherit;white-space:normal;\" xmlns=\"http://www.w3.org/1999/xhtml\">Blocking Generator<br/>(anonlink-client)</div></div></foreignObject><text fill=\"#000000\" font-family=\"Helvetica\" font-size=\"12px\" text-anchor=\"middle\" x=\"51\" y=\"19\">Blocking Generator&lt;br&gt;(anonlink-client)</text></switch></g><rect fill=\"none\" height=\"20\" pointer-events=\"all\" stroke=\"none\" width=\"70\" x=\"721.5\" y=\"870\"/><g transform=\"translate(723.5,868.5)\"><switch><foreignObject height=\"22\" pointer-events=\"all\" requiredFeatures=\"http://www.w3.org/TR/SVG11/feature#Extensibility\" style=\"overflow:visible;\" width=\"66\"><div style=\"display: inline-block; font-size: 12px; font-family: Helvetica; color: rgb(0, 0, 0); line-height: 1.2; vertical-align: top; width: 66px; white-space: nowrap; overflow-wrap: normal; text-align: center;\" xmlns=\"http://www.w3.org/1999/xhtml\"><div style=\"display:inline-block;text-align:inherit;text-decoration:inherit;white-space:normal;\" xmlns=\"http://www.w3.org/1999/xhtml\"><font style=\"font-size: 20px\">Party B</font></div></div></foreignObject><text fill=\"#000000\" font-family=\"Helvetica\" font-size=\"12px\" text-anchor=\"middle\" x=\"33\" y=\"17\">[Not supported by viewer]</text></switch></g><path d=\"M 287 180 L 326.63 180\" fill=\"none\" pointer-events=\"stroke\" stroke=\"#000000\" stroke-miterlimit=\"10\"/><path d=\"M 331.88 180 L 324.88 183.5 L 326.63 180 L 324.88 176.5 Z\" fill=\"#000000\" pointer-events=\"all\" stroke=\"#000000\" stroke-miterlimit=\"10\"/><rect fill=\"#ffe6cc\" height=\"60\" pointer-events=\"all\" rx=\"9\" ry=\"9\" stroke=\"#d79b00\" width=\"120\" x=\"167\" y=\"150\"/><g transform=\"translate(168.5,159.5)\"><switch><foreignObject height=\"40\" pointer-events=\"all\" requiredFeatures=\"http://www.w3.org/TR/SVG11/feature#Extensibility\" style=\"overflow:visible;\" width=\"116\"><div style=\"display: inline-block; font-size: 12px; font-family: Helvetica; color: rgb(0, 0, 0); line-height: 1.2; vertical-align: top; width: 116px; white-space: nowrap; overflow-wrap: normal; text-align: center;\" xmlns=\"http://www.w3.org/1999/xhtml\"><div style=\"display:inline-block;text-align:inherit;text-decoration:inherit;white-space:normal;\" xmlns=\"http://www.w3.org/1999/xhtml\">Anonymous Linking Codes<br/>(CLKs)</div></div></foreignObject><text fill=\"#000000\" font-family=\"Helvetica\" font-size=\"12px\" text-anchor=\"middle\" x=\"58\" y=\"26\">Anonymous Linking Codes&lt;br&gt;(CLKs)</text></switch></g><path d=\"M 87 550 L 87 445 L 335.63 445\" fill=\"none\" pointer-events=\"stroke\" stroke=\"#000000\" stroke-miterlimit=\"10\"/><path d=\"M 340.88 445 L 333.88 448.5 L 335.63 445 L 333.88 441.5 Z\" fill=\"#000000\" pointer-events=\"all\" stroke=\"#000000\" stroke-miterlimit=\"10\"/><rect fill=\"#ffe6cc\" height=\"60\" pointer-events=\"all\" rx=\"9\" ry=\"9\" stroke=\"#d79b00\" width=\"120\" x=\"26.5\" y=\"550\"/><g transform=\"translate(39.5,566.5)\"><switch><foreignObject height=\"26\" pointer-events=\"all\" requiredFeatures=\"http://www.w3.org/TR/SVG11/feature#Extensibility\" style=\"overflow:visible;\" width=\"94\"><div style=\"display: inline-block; font-size: 12px; font-family: Helvetica; color: rgb(0, 0, 0); line-height: 1.2; vertical-align: top; width: 94px; white-space: nowrap; overflow-wrap: normal; text-align: center;\" xmlns=\"http://www.w3.org/1999/xhtml\"><div style=\"display:inline-block;text-align:inherit;text-decoration:inherit;white-space:normal;\" xmlns=\"http://www.w3.org/1999/xhtml\">Candidate Blocks<br/>(reversed index)</div></div></foreignObject><text fill=\"#000000\" font-family=\"Helvetica\" font-size=\"12px\" text-anchor=\"middle\" x=\"47\" y=\"19\">Candidate Blocks&lt;br&gt;(reversed index)</text></switch></g><path d=\"M 727 550 L 727 445 L 478.37 445\" fill=\"none\" pointer-events=\"stroke\" stroke=\"#000000\" stroke-miterlimit=\"10\"/><path d=\"M 473.12 445 L 480.12 441.5 L 478.37 445 L 480.12 448.5 Z\" fill=\"#000000\" pointer-events=\"all\" stroke=\"#000000\" stroke-miterlimit=\"10\"/><rect fill=\"#ffe6cc\" height=\"60\" pointer-events=\"all\" rx=\"9\" ry=\"9\" stroke=\"#d79b00\" width=\"120\" x=\"666.5\" y=\"550\"/><g transform=\"translate(679.5,566.5)\"><switch><foreignObject height=\"26\" pointer-events=\"all\" requiredFeatures=\"http://www.w3.org/TR/SVG11/feature#Extensibility\" style=\"overflow:visible;\" width=\"94\"><div style=\"display: inline-block; font-size: 12px; font-family: Helvetica; color: rgb(0, 0, 0); line-height: 1.2; vertical-align: top; width: 94px; white-space: nowrap; overflow-wrap: normal; text-align: center;\" xmlns=\"http://www.w3.org/1999/xhtml\"><div style=\"display:inline-block;text-align:inherit;text-decoration:inherit;white-space:normal;\" xmlns=\"http://www.w3.org/1999/xhtml\">Candidate Blocks<br/>(reversed index)</div></div></foreignObject><text fill=\"#000000\" font-family=\"Helvetica\" font-size=\"12px\" text-anchor=\"middle\" x=\"47\" y=\"19\">Candidate Blocks&lt;br&gt;(reversed index)</text></switch></g><path d=\"M 407 415 L 407 393 L 489 393 L 489 377.37\" fill=\"none\" pointer-events=\"stroke\" stroke=\"#000000\" stroke-miterlimit=\"10\"/><path d=\"M 489 372.12 L 492.5 379.12 L 489 377.37 L 485.5 379.12 Z\" fill=\"#000000\" pointer-events=\"all\" stroke=\"#000000\" stroke-miterlimit=\"10\"/><path d=\"M 407 415 L 407 393 L 307 393 L 307 377.37\" fill=\"none\" pointer-events=\"stroke\" stroke=\"#000000\" stroke-miterlimit=\"10\"/><path d=\"M 307 372.12 L 310.5 379.12 L 307 377.37 L 303.5 379.12 Z\" fill=\"#000000\" pointer-events=\"all\" stroke=\"#000000\" stroke-miterlimit=\"10\"/><path d=\"M 361 466 L 361 510 L 327 510 L 327 880 L 98.37 880\" fill=\"none\" pointer-events=\"stroke\" stroke=\"#000000\" stroke-dasharray=\"3 3\" stroke-miterlimit=\"10\"/><path d=\"M 93.12 880 L 100.12 876.5 L 98.37 880 L 100.12 883.5 Z\" fill=\"#000000\" pointer-events=\"all\" stroke=\"#000000\" stroke-miterlimit=\"10\"/><path d=\"M 453 466 L 453 510 L 477 510 L 477 880 L 715.63 880\" fill=\"none\" pointer-events=\"stroke\" stroke=\"#000000\" stroke-dasharray=\"3 3\" stroke-miterlimit=\"10\"/><path d=\"M 720.88 880 L 713.88 883.5 L 715.63 880 L 713.88 876.5 Z\" fill=\"#000000\" pointer-events=\"all\" stroke=\"#000000\" stroke-miterlimit=\"10\"/><ellipse cx=\"407\" cy=\"445\" fill=\"#d5e8d4\" pointer-events=\"all\" rx=\"65\" ry=\"30\" stroke=\"#82b366\"/><g transform=\"translate(348.5,431.5)\"><switch><foreignObject height=\"26\" pointer-events=\"all\" requiredFeatures=\"http://www.w3.org/TR/SVG11/feature#Extensibility\" style=\"overflow:visible;\" width=\"116\"><div style=\"display: inline-block; font-size: 12px; font-family: Helvetica; color: rgb(0, 0, 0); line-height: 1.2; vertical-align: top; width: 118px; white-space: nowrap; overflow-wrap: normal; text-align: center;\" xmlns=\"http://www.w3.org/1999/xhtml\"><div style=\"display:inline-block;text-align:inherit;text-decoration:inherit;white-space:normal;\" xmlns=\"http://www.w3.org/1999/xhtml\">Final Block Generator<br/>(anonlink-client)</div></div></foreignObject><text fill=\"#000000\" font-family=\"Helvetica\" font-size=\"12px\" text-anchor=\"middle\" x=\"58\" y=\"19\">Final Block Generator&lt;br&gt;(anonlink-client)</text></switch></g><path d=\"M 307 311 L 307 261 L 352 261 L 352 207.37\" fill=\"none\" pointer-events=\"stroke\" stroke=\"#000000\" stroke-miterlimit=\"10\"/><path d=\"M 352 202.12 L 355.5 209.12 L 352 207.37 L 348.5 209.12 Z\" fill=\"#000000\" pointer-events=\"all\" stroke=\"#000000\" stroke-miterlimit=\"10\"/><rect fill=\"#ffe6cc\" height=\"60\" pointer-events=\"all\" rx=\"9\" ry=\"9\" stroke=\"#d79b00\" width=\"120\" x=\"247\" y=\"311\"/><g transform=\"translate(274.5,334.5)\"><switch><foreignObject height=\"12\" pointer-events=\"all\" requiredFeatures=\"http://www.w3.org/TR/SVG11/feature#Extensibility\" style=\"overflow:visible;\" width=\"64\"><div style=\"display: inline-block; font-size: 12px; font-family: Helvetica; color: rgb(0, 0, 0); line-height: 1.2; vertical-align: top; width: 66px; white-space: nowrap; overflow-wrap: normal; text-align: center;\" xmlns=\"http://www.w3.org/1999/xhtml\"><div style=\"display:inline-block;text-align:inherit;text-decoration:inherit;white-space:normal;\" xmlns=\"http://www.w3.org/1999/xhtml\">Final Blocks</div></div></foreignObject><text fill=\"#000000\" font-family=\"Helvetica\" font-size=\"12px\" text-anchor=\"middle\" x=\"32\" y=\"12\">Final Blocks</text></switch></g><path d=\"M 489 311 L 489 261 L 444 261 L 444 207.37\" fill=\"none\" pointer-events=\"stroke\" stroke=\"#000000\" stroke-miterlimit=\"10\"/><path d=\"M 444 202.12 L 447.5 209.12 L 444 207.37 L 440.5 209.12 Z\" fill=\"#000000\" pointer-events=\"all\" stroke=\"#000000\" stroke-miterlimit=\"10\"/><rect fill=\"#ffe6cc\" height=\"60\" pointer-events=\"all\" rx=\"9\" ry=\"9\" stroke=\"#d79b00\" width=\"120\" x=\"429\" y=\"311\"/><g transform=\"translate(456.5,334.5)\"><switch><foreignObject height=\"12\" pointer-events=\"all\" requiredFeatures=\"http://www.w3.org/TR/SVG11/feature#Extensibility\" style=\"overflow:visible;\" width=\"64\"><div style=\"display: inline-block; font-size: 12px; font-family: Helvetica; color: rgb(0, 0, 0); line-height: 1.2; vertical-align: top; width: 66px; white-space: nowrap; overflow-wrap: normal; text-align: center;\" xmlns=\"http://www.w3.org/1999/xhtml\"><div style=\"display:inline-block;text-align:inherit;text-decoration:inherit;white-space:normal;\" xmlns=\"http://www.w3.org/1999/xhtml\">Final Blocks</div></div></foreignObject><text fill=\"#000000\" font-family=\"Helvetica\" font-size=\"12px\" text-anchor=\"middle\" x=\"32\" y=\"12\">Final Blocks</text></switch></g><path d=\"M 509 180 L 469.37 180\" fill=\"none\" pointer-events=\"stroke\" stroke=\"#000000\" stroke-miterlimit=\"10\"/><path d=\"M 464.12 180 L 471.12 176.5 L 469.37 180 L 471.12 183.5 Z\" fill=\"#000000\" pointer-events=\"all\" stroke=\"#000000\" stroke-miterlimit=\"10\"/><rect fill=\"#ffe6cc\" height=\"60\" pointer-events=\"all\" rx=\"9\" ry=\"9\" stroke=\"#d79b00\" width=\"120\" x=\"509\" y=\"150\"/><g transform=\"translate(510.5,159.5)\"><switch><foreignObject height=\"40\" pointer-events=\"all\" requiredFeatures=\"http://www.w3.org/TR/SVG11/feature#Extensibility\" style=\"overflow:visible;\" width=\"116\"><div style=\"display: inline-block; font-size: 12px; font-family: Helvetica; color: rgb(0, 0, 0); line-height: 1.2; vertical-align: top; width: 116px; white-space: nowrap; overflow-wrap: normal; text-align: center;\" xmlns=\"http://www.w3.org/1999/xhtml\"><div style=\"display:inline-block;text-align:inherit;text-decoration:inherit;white-space:normal;\" xmlns=\"http://www.w3.org/1999/xhtml\">Anonymous Linking Codes<br/>(CLKs)</div></div></foreignObject><text fill=\"#000000\" font-family=\"Helvetica\" font-size=\"12px\" text-anchor=\"middle\" x=\"58\" y=\"26\">Anonymous Linking Codes&lt;br&gt;(CLKs)</text></switch></g><path d=\"M 398 150 L 398 120 L 232 120 L 232 96.37\" fill=\"none\" pointer-events=\"stroke\" stroke=\"#000000\" stroke-miterlimit=\"10\"/><path d=\"M 232 91.12 L 235.5 98.12 L 232 96.37 L 228.5 98.12 Z\" fill=\"#000000\" pointer-events=\"all\" stroke=\"#000000\" stroke-miterlimit=\"10\"/><ellipse cx=\"398\" cy=\"180\" fill=\"#d5e8d4\" pointer-events=\"all\" rx=\"65\" ry=\"30\" stroke=\"#82b366\"/><g transform=\"translate(341.5,166.5)\"><switch><foreignObject height=\"26\" pointer-events=\"all\" requiredFeatures=\"http://www.w3.org/TR/SVG11/feature#Extensibility\" style=\"overflow:visible;\" width=\"112\"><div style=\"display: inline-block; font-size: 12px; font-family: Helvetica; color: rgb(0, 0, 0); line-height: 1.2; vertical-align: top; width: 112px; white-space: nowrap; overflow-wrap: normal; text-align: center;\" xmlns=\"http://www.w3.org/1999/xhtml\"><div style=\"display:inline-block;text-align:inherit;text-decoration:inherit;white-space:normal;\" xmlns=\"http://www.w3.org/1999/xhtml\">Probabilistic Matcher<br/>(anonlink)</div></div></foreignObject><text fill=\"#000000\" font-family=\"Helvetica\" font-size=\"12px\" text-anchor=\"middle\" x=\"56\" y=\"19\">Probabilistic Matcher&lt;br&gt;(anonlink)</text></switch></g><rect fill=\"none\" height=\"20\" pointer-events=\"all\" stroke=\"none\" width=\"135\" x=\"22\" y=\"301\"/><g transform=\"translate(23.5,299.5)\"><switch><foreignObject height=\"22\" pointer-events=\"all\" requiredFeatures=\"http://www.w3.org/TR/SVG11/feature#Extensibility\" style=\"overflow:visible;\" width=\"131\"><div style=\"display: inline-block; font-size: 12px; font-family: Helvetica; color: rgb(0, 0, 0); line-height: 1.2; vertical-align: top; width: 131px; white-space: nowrap; overflow-wrap: normal; text-align: center;\" xmlns=\"http://www.w3.org/1999/xhtml\"><div style=\"display:inline-block;text-align:inherit;text-decoration:inherit;white-space:normal;\" xmlns=\"http://www.w3.org/1999/xhtml\"><font style=\"font-size: 20px\">Anonlink-client</font></div></div></foreignObject><text fill=\"#000000\" font-family=\"Helvetica\" font-size=\"12px\" text-anchor=\"middle\" x=\"66\" y=\"17\">&lt;font style=&quot;font-size: 20px&quot;&gt;Anonlink-client&lt;/font&gt;</text></switch></g><path d=\"M 292 60 L 335.63 60\" fill=\"none\" pointer-events=\"stroke\" stroke=\"#000000\" stroke-miterlimit=\"10\"/><path d=\"M 340.88 60 L 333.88 63.5 L 335.63 60 L 333.88 56.5 Z\" fill=\"#000000\" pointer-events=\"all\" stroke=\"#000000\" stroke-miterlimit=\"10\"/><rect fill=\"#ffe6cc\" height=\"60\" pointer-events=\"all\" rx=\"9\" ry=\"9\" stroke=\"#d79b00\" width=\"120\" x=\"172\" y=\"30\"/><g transform=\"translate(186.5,53.5)\"><switch><foreignObject height=\"12\" pointer-events=\"all\" requiredFeatures=\"http://www.w3.org/TR/SVG11/feature#Extensibility\" style=\"overflow:visible;\" width=\"90\"><div style=\"display: inline-block; font-size: 12px; font-family: Helvetica; color: rgb(0, 0, 0); line-height: 1.2; vertical-align: top; width: 90px; white-space: nowrap; overflow-wrap: normal; text-align: center;\" xmlns=\"http://www.w3.org/1999/xhtml\"><div style=\"display:inline-block;text-align:inherit;text-decoration:inherit;white-space:normal;\" xmlns=\"http://www.w3.org/1999/xhtml\">Similarity Scores</div></div></foreignObject><text fill=\"#000000\" font-family=\"Helvetica\" font-size=\"12px\" text-anchor=\"middle\" x=\"45\" y=\"12\">Similarity Scores</text></switch></g><path d=\"M 472 60 L 502.63 60\" fill=\"none\" pointer-events=\"stroke\" stroke=\"#000000\" stroke-miterlimit=\"10\"/><path d=\"M 507.88 60 L 500.88 63.5 L 502.63 60 L 500.88 56.5 Z\" fill=\"#000000\" pointer-events=\"all\" stroke=\"#000000\" stroke-miterlimit=\"10\"/><ellipse cx=\"407\" cy=\"60\" fill=\"#d5e8d4\" pointer-events=\"all\" rx=\"65\" ry=\"30\" stroke=\"#82b366\"/><g transform=\"translate(365.5,53.5)\"><switch><foreignObject height=\"12\" pointer-events=\"all\" requiredFeatures=\"http://www.w3.org/TR/SVG11/feature#Extensibility\" style=\"overflow:visible;\" width=\"82\"><div style=\"display: inline-block; font-size: 12px; font-family: Helvetica; color: rgb(0, 0, 0); line-height: 1.2; vertical-align: top; width: 84px; white-space: nowrap; overflow-wrap: normal; text-align: center;\" xmlns=\"http://www.w3.org/1999/xhtml\"><div style=\"display:inline-block;text-align:inherit;text-decoration:inherit;white-space:normal;\" xmlns=\"http://www.w3.org/1999/xhtml\">Result Encoder</div></div></foreignObject><text fill=\"#000000\" font-family=\"Helvetica\" font-size=\"12px\" text-anchor=\"middle\" x=\"41\" y=\"12\">Result Encoder</text></switch></g><rect fill=\"#ffe6cc\" height=\"60\" pointer-events=\"all\" rx=\"9\" ry=\"9\" stroke=\"#d79b00\" width=\"173\" x=\"509\" y=\"30\"/><g transform=\"translate(511.5,27.5)\"><switch><foreignObject height=\"64\" pointer-events=\"all\" requiredFeatures=\"http://www.w3.org/TR/SVG11/feature#Extensibility\" style=\"overflow:visible;\" width=\"168\"><div style=\"display: inline-block; font-size: 12px; font-family: Helvetica; color: rgb(0, 0, 0); line-height: 1.2; vertical-align: top; width: 169px; white-space: nowrap; overflow-wrap: normal; text-align: left;\" xmlns=\"http://www.w3.org/1999/xhtml\"><div style=\"display:inline-block;text-align:inherit;text-decoration:inherit;white-space:normal;\" xmlns=\"http://www.w3.org/1999/xhtml\"><ul><li>Similarity Scores</li><li>Permutation &amp; Mask</li><li>Perm &amp; encrypted Mask</li></ul></div></div></foreignObject><text fill=\"#000000\" font-family=\"Helvetica\" font-size=\"12px\" text-anchor=\"middle\" x=\"84\" y=\"38\">[Not supported by viewer]</text></switch></g><rect fill=\"none\" height=\"20\" pointer-events=\"all\" stroke=\"none\" width=\"95\" x=\"216.5\" y=\"860\"/><g transform=\"translate(222.5,863.5)\"><switch><foreignObject height=\"12\" pointer-events=\"all\" requiredFeatures=\"http://www.w3.org/TR/SVG11/feature#Extensibility\" style=\"overflow:visible;\" width=\"83\"><div style=\"display: inline-block; font-size: 12px; font-family: Helvetica; color: rgb(0, 0, 0); line-height: 1.2; vertical-align: top; width: 83px; white-space: nowrap; overflow-wrap: normal; text-align: center;\" xmlns=\"http://www.w3.org/1999/xhtml\"><div style=\"display:inline-block;text-align:inherit;text-decoration:inherit;white-space:normal;\" xmlns=\"http://www.w3.org/1999/xhtml\">Blocking Result</div></div></foreignObject><text fill=\"#000000\" font-family=\"Helvetica\" font-size=\"12px\" text-anchor=\"middle\" x=\"42\" y=\"12\">Blocking Result</text></switch></g><rect fill=\"none\" height=\"20\" pointer-events=\"all\" stroke=\"none\" width=\"95\" x=\"488.5\" y=\"858\"/><g transform=\"translate(494.5,861.5)\"><switch><foreignObject height=\"12\" pointer-events=\"all\" requiredFeatures=\"http://www.w3.org/TR/SVG11/feature#Extensibility\" style=\"overflow:visible;\" width=\"83\"><div style=\"display: inline-block; font-size: 12px; font-family: Helvetica; color: rgb(0, 0, 0); line-height: 1.2; vertical-align: top; width: 83px; white-space: nowrap; overflow-wrap: normal; text-align: center;\" xmlns=\"http://www.w3.org/1999/xhtml\"><div style=\"display:inline-block;text-align:inherit;text-decoration:inherit;white-space:normal;\" xmlns=\"http://www.w3.org/1999/xhtml\">Blocking Result</div></div></foreignObject><text fill=\"#000000\" font-family=\"Helvetica\" font-size=\"12px\" text-anchor=\"middle\" x=\"42\" y=\"12\">Blocking Result</text></switch></g><rect fill=\"none\" height=\"20\" pointer-events=\"all\" stroke=\"none\" width=\"135\" x=\"17\" y=\"20\"/><g transform=\"translate(22.5,18.5)\"><switch><foreignObject height=\"22\" pointer-events=\"all\" requiredFeatures=\"http://www.w3.org/TR/SVG11/feature#Extensibility\" style=\"overflow:visible;\" width=\"123\"><div style=\"display: inline-block; font-size: 12px; font-family: Helvetica; color: rgb(0, 0, 0); line-height: 1.2; vertical-align: top; width: 123px; white-space: nowrap; overflow-wrap: normal; text-align: center;\" xmlns=\"http://www.w3.org/1999/xhtml\"><div style=\"display:inline-block;text-align:inherit;text-decoration:inherit;white-space:normal;\" xmlns=\"http://www.w3.org/1999/xhtml\"><font style=\"font-size: 20px\">Entity Service</font></div></div></foreignObject><text fill=\"#000000\" font-family=\"Helvetica\" font-size=\"12px\" text-anchor=\"middle\" x=\"62\" y=\"17\">&lt;font style=&quot;font-size: 20px&quot;&gt;Entity Service&lt;/font&gt;</text></switch></g></g></svg>"
      ],
      "text/plain": [
       "<IPython.core.display.SVG object>"
      ]
     },
     "execution_count": 1,
     "metadata": {},
     "output_type": "execute_result"
    }
   ],
   "source": [
    "from IPython.core.display import SVG\n",
    "SVG(filename='blocking_api.svg')"
   ]
  },
  {
   "cell_type": "code",
   "execution_count": 2,
   "metadata": {},
   "outputs": [],
   "source": [
    "import os\n",
    "import json\n",
    "import pandas as pd\n",
    "from clkhash.schema import from_json_dict"
   ]
  },
  {
   "cell_type": "markdown",
   "metadata": {},
   "source": [
    "## Party A - Alice\n",
    "\n",
    "Alice has a dataset in `data/2Parties/` called `PII_a_10000.csv`. To use anonlink entity service, she needs to do the following locally first:\n",
    "\n",
    "1. Use encoder (`clkhash`) to compute CLKs for her entities data. Later the CLKs are then uploaded to the service\n",
    "2. Use blocking generator (`anonlink-client`) to generate candidate blocks (aka reversed index). Later the reversed index are uploaded to service as well\n",
    "\n",
    "### Step1 - Load dataset"
   ]
  },
  {
   "cell_type": "code",
   "execution_count": 3,
   "metadata": {},
   "outputs": [
    {
     "data": {
      "text/html": [
       "<div>\n",
       "<style scoped>\n",
       "    .dataframe tbody tr th:only-of-type {\n",
       "        vertical-align: middle;\n",
       "    }\n",
       "\n",
       "    .dataframe tbody tr th {\n",
       "        vertical-align: top;\n",
       "    }\n",
       "\n",
       "    .dataframe thead th {\n",
       "        text-align: right;\n",
       "    }\n",
       "</style>\n",
       "<table border=\"1\" class=\"dataframe\">\n",
       "  <thead>\n",
       "    <tr style=\"text-align: right;\">\n",
       "      <th></th>\n",
       "      <th>entity_id</th>\n",
       "      <th>given_name</th>\n",
       "      <th>surname</th>\n",
       "      <th>street_number</th>\n",
       "      <th>address_1</th>\n",
       "      <th>address_2</th>\n",
       "      <th>suburb</th>\n",
       "      <th>postcode</th>\n",
       "      <th>state</th>\n",
       "      <th>date_of_birth</th>\n",
       "      <th>age</th>\n",
       "      <th>phone_number</th>\n",
       "      <th>soc_sec_id</th>\n",
       "      <th>blocking_number</th>\n",
       "    </tr>\n",
       "  </thead>\n",
       "  <tbody>\n",
       "    <tr>\n",
       "      <th>0</th>\n",
       "      <td>16976</td>\n",
       "      <td>herman</td>\n",
       "      <td>calnin</td>\n",
       "      <td>34</td>\n",
       "      <td>irvine street</td>\n",
       "      <td>NaN</td>\n",
       "      <td>harrington</td>\n",
       "      <td>4054</td>\n",
       "      <td>qld</td>\n",
       "      <td>19160709</td>\n",
       "      <td>28</td>\n",
       "      <td>07 33961038</td>\n",
       "      <td>1592050</td>\n",
       "      <td>1</td>\n",
       "    </tr>\n",
       "    <tr>\n",
       "      <th>1</th>\n",
       "      <td>13309</td>\n",
       "      <td>jody</td>\n",
       "      <td>dennes</td>\n",
       "      <td>7561</td>\n",
       "      <td>marconi crescent</td>\n",
       "      <td>NaN</td>\n",
       "      <td>toowoomba</td>\n",
       "      <td>5086</td>\n",
       "      <td>nsw</td>\n",
       "      <td>19961223</td>\n",
       "      <td>34</td>\n",
       "      <td>02 20085279</td>\n",
       "      <td>3838941</td>\n",
       "      <td>0</td>\n",
       "    </tr>\n",
       "    <tr>\n",
       "      <th>2</th>\n",
       "      <td>10125</td>\n",
       "      <td>nicolas</td>\n",
       "      <td>mahony</td>\n",
       "      <td>86</td>\n",
       "      <td>yarra street</td>\n",
       "      <td>rosemount</td>\n",
       "      <td>upwey</td>\n",
       "      <td>6112</td>\n",
       "      <td>qld</td>\n",
       "      <td>19790705</td>\n",
       "      <td>27</td>\n",
       "      <td>02 38179391</td>\n",
       "      <td>1608786</td>\n",
       "      <td>6</td>\n",
       "    </tr>\n",
       "    <tr>\n",
       "      <th>3</th>\n",
       "      <td>2495</td>\n",
       "      <td>monica</td>\n",
       "      <td>jeffries</td>\n",
       "      <td>397</td>\n",
       "      <td>florentine circuit</td>\n",
       "      <td>NaN</td>\n",
       "      <td>batemans bay</td>\n",
       "      <td>2203</td>\n",
       "      <td>nsw</td>\n",
       "      <td>19820626</td>\n",
       "      <td>25</td>\n",
       "      <td>03 84076241</td>\n",
       "      <td>7616799</td>\n",
       "      <td>8</td>\n",
       "    </tr>\n",
       "    <tr>\n",
       "      <th>4</th>\n",
       "      <td>16931</td>\n",
       "      <td>zona</td>\n",
       "      <td>dichiera</td>\n",
       "      <td>3</td>\n",
       "      <td>chippindall circuit</td>\n",
       "      <td>NaN</td>\n",
       "      <td>milperra</td>\n",
       "      <td>5290</td>\n",
       "      <td>vic</td>\n",
       "      <td>19090308</td>\n",
       "      <td>27</td>\n",
       "      <td>08 00050600</td>\n",
       "      <td>8446162</td>\n",
       "      <td>0</td>\n",
       "    </tr>\n",
       "  </tbody>\n",
       "</table>\n",
       "</div>"
      ],
      "text/plain": [
       "   entity_id given_name   surname  street_number            address_1  \\\n",
       "0      16976     herman    calnin             34        irvine street   \n",
       "1      13309       jody    dennes           7561     marconi crescent   \n",
       "2      10125    nicolas    mahony             86         yarra street   \n",
       "3       2495     monica  jeffries            397   florentine circuit   \n",
       "4      16931       zona  dichiera              3  chippindall circuit   \n",
       "\n",
       "   address_2        suburb  postcode state  date_of_birth  age phone_number  \\\n",
       "0        NaN    harrington      4054   qld       19160709   28  07 33961038   \n",
       "1        NaN     toowoomba      5086   nsw       19961223   34  02 20085279   \n",
       "2  rosemount         upwey      6112   qld       19790705   27  02 38179391   \n",
       "3        NaN  batemans bay      2203   nsw       19820626   25  03 84076241   \n",
       "4        NaN      milperra      5290   vic       19090308   27  08 00050600   \n",
       "\n",
       "   soc_sec_id  blocking_number  \n",
       "0     1592050                1  \n",
       "1     3838941                0  \n",
       "2     1608786                6  \n",
       "3     7616799                8  \n",
       "4     8446162                0  "
      ]
     },
     "execution_count": 3,
     "metadata": {},
     "output_type": "execute_result"
    }
   ],
   "source": [
    "df1 = pd.read_csv('data/2Parties/PII_a_10000.csv', skipinitialspace=True)\n",
    "df1.head()"
   ]
  },
  {
   "cell_type": "markdown",
   "metadata": {},
   "source": [
    "Process data"
   ]
  },
  {
   "cell_type": "code",
   "execution_count": 4,
   "metadata": {},
   "outputs": [
    {
     "name": "stdout",
     "output_type": "stream",
     "text": [
      "Example PII [16976, 'herman', 'calnin', 34, 'irvine street', '', 'harrington', 4054, 'qld', 19160709, 28, '07 33961038', 1592050, 1]\n"
     ]
    }
   ],
   "source": [
    "df1 = df1.set_index('entity_id', drop=False).fillna('')\n",
    "data1 = df1.to_dict(orient='split')['data']\n",
    "print(\"Example PII\", data1[0])"
   ]
  },
  {
   "cell_type": "markdown",
   "metadata": {},
   "source": [
    "### Step2 - Generate Candidate Blocks\n",
    "\n",
    "`anonlink-client` is the service to generate candidate blocks (aka reversed index). Later the reversed index are uploaded to service as well.\n",
    "\n",
    "Note that a schema file is required to config the blocking where different blocking methods have different specific configuration."
   ]
  },
  {
   "cell_type": "code",
   "execution_count": 5,
   "metadata": {},
   "outputs": [],
   "source": [
    "blocking_config = {\n",
    "    'signature': {\n",
    "        \"type\": \"p-sig\",\n",
    "        \"version\": 1,\n",
    "        \"output\": {\n",
    "            \"type\": \"reverse_index\",\n",
    "        },\n",
    "        \"config\": {\n",
    "            # \"blocking_features\": [\"given_name\", \"surname\", \"address_1\", \"address_2\"],\n",
    "            \"blocking_features\": [1, 2, 4, 5],\n",
    "            \"filter\": {\n",
    "                \"type\": \"ratio\",\n",
    "                \"max_occur_ratio\": 0.02,\n",
    "                \"min_occur_ratio\": 0.001,\n",
    "            },\n",
    "            \"blocking-filter\": {\n",
    "                \"type\": \"bloom filter\",\n",
    "                \"number_hash_functions\": 4,\n",
    "                \"bf_len\": 4096,\n",
    "            },\n",
    "            \"map_to_block_algorithm\": {\n",
    "                \"type\": \"signature-based-blocks\",\n",
    "            },\n",
    "            \"signatureSpecs\": [\n",
    "                [\n",
    "                    {\"type\": \"characters_at\", \"config\": {\"pos\": [0, 3, \"7:9\", \"12:\"]}, \"feature_idx\": 3},\n",
    "                    {\"type\": \"feature-value\", \"feature_idx\": 5}\n",
    "                ],\n",
    "                [\n",
    "                    {\"type\": \"characters_at\", \"config\": {\"pos\": [0]}, \"feature_idx\": 1},\n",
    "                    {\"type\": \"characters_at\", \"config\": {\"pos\": [0]}, \"feature_idx\": 2},\n",
    "                    {\"type\": \"feature-value\", \"feature_idx\": 5}\n",
    "                ],\n",
    "                [\n",
    "                    {\"type\": \"feature-value\", \"feature_idx\": 2},\n",
    "                ],\n",
    "[\n",
    "                    {\"type\": \"characters_at\", \"config\": {\"pos\": [\"3:\"]}, \"feature_idx\": 9},\n",
    "                ],\n",
    "                [\n",
    "                    {\"type\": \"metaphone\", \"feature_idx\": 1},\n",
    "                ],\n",
    "                [\n",
    "                    {\"type\": \"metaphone\", \"feature_idx\": 2},\n",
    "                ],\n",
    "                [\n",
    "                    {\"type\": \"metaphone\", \"feature_idx\": 3},\n",
    "                    {\"type\": \"metaphone\", \"feature_idx\": 4}\n",
    "                ],\n",
    "                [\n",
    "                    {\"type\": \"feature-value\", \"feature_idx\": 10},\n",
    "                ],\n",
    "                [\n",
    "                    {\"type\": \"characters_at\", \"config\": {\"pos\": [\"0:3\"]}, \"feature_idx\": 1},\n",
    "                    {\"type\": \"characters_at\", \"config\": {\"pos\": [\"0:3\"]}, \"feature_idx\": 2},\n",
    "                ],\n",
    "            ],\n",
    "        }\n",
    "    },\n",
    "    'candidate-blocking-filter': {\n",
    "        'type': 'dummy'\n",
    "    },\n",
    "    'reverse-index': {\n",
    "        'type': 'signature-based-blocks'\n",
    "    }\n",
    "}\n"
   ]
  },
  {
   "cell_type": "code",
   "execution_count": 6,
   "metadata": {},
   "outputs": [
    {
     "name": "stdout",
     "output_type": "stream",
     "text": [
      "Number of Blocks:   1080\n",
      "Minimum Block Size: 11\n",
      "Maximum Block Size: 198\n",
      "Average Block Size: 30\n",
      "Median Block Size:  20\n"
     ]
    }
   ],
   "source": [
    "from poc.blocks_generator import generate_candidate_blocks\n",
    "\n",
    "block_obj_dp1 = generate_candidate_blocks(blocking_config, data1)"
   ]
  },
  {
   "cell_type": "markdown",
   "metadata": {},
   "source": [
    "By checking statistics of blocking result, Alice and Bob can decide if they want to use this blocking config to proceed. Note that the blocking_config must be agreed by all data parties."
   ]
  },
  {
   "cell_type": "markdown",
   "metadata": {},
   "source": [
    "### Step3 - Generate CLKs\n",
    "\n",
    "Once Alice and Bob are happy with the blocking result and decide to proceed, Alice can generate CLKs of data."
   ]
  },
  {
   "cell_type": "code",
   "execution_count": 7,
   "metadata": {},
   "outputs": [
    {
     "name": "stderr",
     "output_type": "stream",
     "text": [
      "generating CLKs: 100%|██████████| 10.0k/10.0k [00:02<00:00, 3.37kclk/s, mean=660, std=31.2]\n"
     ]
    }
   ],
   "source": [
    "from poc.clk_util import generate_clks\n",
    "\n",
    "# encoding\n",
    "schema_json_fp = os.path.join('data', 'schema.json')\n",
    "with open(schema_json_fp, \"r\") as read_file:\n",
    "    schema_json = json.load(read_file)\n",
    "schema = from_json_dict(schema_json)\n",
    "encodings_dp1 = generate_clks(df1, schema=schema, secret_keys=(\"tick\", \"tock\"))"
   ]
  },
  {
   "cell_type": "markdown",
   "metadata": {},
   "source": [
    "## Party B - Bob\n",
    "\n",
    "Now repeat the above 3 steps at Bob's side to get `block_obj_dp2` and `encoding_dp2`"
   ]
  },
  {
   "cell_type": "code",
   "execution_count": 8,
   "metadata": {},
   "outputs": [
    {
     "name": "stdout",
     "output_type": "stream",
     "text": [
      "Example PII [4692, 'deborah', 'croll', 309, 'pandanus street', 'palm garden villas', 'dullwich hill', 4601, 'vic', 19650927, 29, '08 28856214', 9172697, 2]\n"
     ]
    },
    {
     "name": "stderr",
     "output_type": "stream",
     "text": [
      "generating CLKs:   0%|          | 0.00/10.0k [00:00<?, ?clk/s, mean=0, std=0]"
     ]
    },
    {
     "name": "stdout",
     "output_type": "stream",
     "text": [
      "Number of Blocks:   1049\n",
      "Minimum Block Size: 11\n",
      "Maximum Block Size: 195\n",
      "Average Block Size: 29\n",
      "Median Block Size:  19\n"
     ]
    },
    {
     "name": "stderr",
     "output_type": "stream",
     "text": [
      "generating CLKs: 100%|██████████| 10.0k/10.0k [00:02<00:00, 3.54kclk/s, mean=659, std=31.9]\n"
     ]
    }
   ],
   "source": [
    "# load data\n",
    "df2 = pd.read_csv('data/2Parties/PII_b_10000.csv', skipinitialspace=True)\n",
    "df2 = df2.set_index('entity_id', drop=False).fillna('')\n",
    "data2 = df2.to_dict(orient='split')['data']\n",
    "print(\"Example PII\", data2[0])\n",
    "\n",
    "# generate candidate blocks\n",
    "block_obj_dp2 = generate_candidate_blocks(blocking_config, data2)\n",
    "\n",
    "# encode data2\n",
    "encodings_dp2 = generate_clks(df2, schema=schema, secret_keys=(\"tick\", \"tock\"))"
   ]
  },
  {
   "cell_type": "markdown",
   "metadata": {},
   "source": [
    "## Anonlink-client\n",
    "\n",
    "Now both blocking result and encoded data are uploaded to `anonlink-client`. It can perform final blocks generation and call `anonlink` to solve the problem with help of blocking.\n",
    "\n",
    "### Step1 - Generate final blocks\n",
    "\n",
    "Note: Please don't re-run the following cell"
   ]
  },
  {
   "cell_type": "code",
   "execution_count": 9,
   "metadata": {},
   "outputs": [
    {
     "name": "stdout",
     "output_type": "stream",
     "text": [
      "Block filter: [False False False ...  True False  True]\n"
     ]
    }
   ],
   "source": [
    "from poc.blocks_generator import generate_final_blocks\n",
    "dp1_blocks, dp2_blocks = generate_final_blocks(blocking_config, block_obj_dp1, block_obj_dp2)"
   ]
  },
  {
   "cell_type": "markdown",
   "metadata": {},
   "source": [
    "### Step2 - Call Anonlink solver to perform matching"
   ]
  },
  {
   "cell_type": "code",
   "execution_count": 10,
   "metadata": {},
   "outputs": [
    {
     "name": "stdout",
     "output_type": "stream",
     "text": [
      "Found 4519 matches\n",
      "precision: 0.9984509847311352, recall: 0.8961271102284012\n"
     ]
    }
   ],
   "source": [
    "from poc.server import solve\n",
    "from poc.data_util import load_truth\n",
    "\n",
    "solution = solve((encodings_dp1, encodings_dp2), (dp1_blocks, dp2_blocks), threshold=0.85)\n",
    "print('Found {} matches'.format(len(solution)))\n",
    "found_matches = set((a, b) for ((_, a), (_, b)) in solution)\n",
    "\n",
    "the_truth = load_truth(df1, df2, id_col='entity_id')\n",
    "\n",
    "tp = len(found_matches & the_truth)\n",
    "fp = len(found_matches - the_truth)\n",
    "fn = len(the_truth - found_matches)\n",
    "\n",
    "precision = tp / (tp + fp)\n",
    "recall = tp / (tp + fn)\n",
    "print(f'precision: {precision}, recall: {recall}')\n"
   ]
  }
 ],
 "metadata": {
  "kernelspec": {
   "display_name": "Python 3",
   "language": "python",
   "name": "python3"
  },
  "language_info": {
   "codemirror_mode": {
    "name": "ipython",
    "version": 3
   },
   "file_extension": ".py",
   "mimetype": "text/x-python",
   "name": "python",
   "nbconvert_exporter": "python",
   "pygments_lexer": "ipython3",
   "version": "3.7.4"
  }
 },
 "nbformat": 4,
 "nbformat_minor": 4
}
