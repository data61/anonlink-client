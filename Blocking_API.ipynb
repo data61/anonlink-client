{
 "cells": [
  {
   "cell_type": "markdown",
   "metadata": {},
   "source": [
    "# Blocking API Proposal\n",
    "\n",
    "In this notebook, we demonstrate the (expected) use of blocking in anonlink-entity-servce. Suppose we have two data party - Alice and Bob. The steps of record linkage with blocking is as follows:\n",
    "\n",
    "1. For each data party, generate candidate blocks / reversed index locally\n",
    "2. For each data party, encode dataset with clkhash\n",
    "3. For each data party, upload candidate blocks and encoded dataset to anonlink-client\n",
    "4. Anonlink-client generates final blocks with candidate blocks uploaded from data parties and report block statistics\n",
    "5. Anonlink-client sends blocks and data to anonlink-entity-service for matching\n",
    "6. Anonlink-client sends results back to each data provider"
   ]
  },
  {
   "cell_type": "code",
   "execution_count": null,
   "metadata": {},
   "outputs": [],
   "source": [
    "from IPython.core.display import SVG\n",
    "SVG(filename='blocking_api.svg')"
   ]
  },
  {
   "cell_type": "code",
   "execution_count": null,
   "metadata": {},
   "outputs": [],
   "source": [
    "import os\n",
    "import json\n",
    "import pandas as pd\n",
    "from clkhash.schema import from_json_dict"
   ]
  },
  {
   "cell_type": "markdown",
   "metadata": {},
   "source": [
    "## Party A - Alice\n",
    "\n",
    "Alice has a dataset in `data/2Parties/` called `PII_a_10000.csv`. To use anonlink entity service, she needs to do the following locally first:\n",
    "\n",
    "1. Use encoder (`clkhash`) to compute CLKs for her entities data. Later the CLKs are then uploaded to the service\n",
    "2. Use blocking generator (`anonlink-client`) to generate candidate blocks (aka reversed index). Later the reversed index are uploaded to service as well\n",
    "\n",
    "### Step1 - Load dataset"
   ]
  },
  {
   "cell_type": "code",
   "execution_count": null,
   "metadata": {},
   "outputs": [],
   "source": [
    "df1 = pd.read_csv('data/2Parties/PII_a_10000.csv', skipinitialspace=True)\n",
    "df1.head()"
   ]
  },
  {
   "cell_type": "markdown",
   "metadata": {},
   "source": [
    "Process data"
   ]
  },
  {
   "cell_type": "code",
   "execution_count": null,
   "metadata": {},
   "outputs": [],
   "source": [
    "df1 = df1.set_index('entity_id', drop=False).fillna('')\n",
    "data1 = df1.to_dict(orient='split')['data']\n",
    "print(\"Example PII\", data1[0])"
   ]
  },
  {
   "cell_type": "markdown",
   "metadata": {},
   "source": [
    "### Step2 - Generate Candidate Blocks\n",
    "\n",
    "`anonlink-client` is the service to generate candidate blocks (aka reversed index). Later the reversed index are uploaded to service as well.\n",
    "\n",
    "Note that a schema file is required to config the blocking where different blocking methods have different specific configuration."
   ]
  },
  {
   "cell_type": "code",
   "execution_count": null,
   "metadata": {},
   "outputs": [],
   "source": [
    "blocking_config = {\n",
    "    'signature': {\n",
    "        \"type\": \"p-sig\",\n",
    "        \"version\": 1,\n",
    "        \"output\": {\n",
    "            \"type\": \"reverse_index\",\n",
    "        },\n",
    "        \"config\": {\n",
    "            # \"blocking_features\": [\"given_name\", \"surname\", \"address_1\", \"address_2\"],\n",
    "            \"blocking_features\": [1, 2, 4, 5],\n",
    "            \"filter\": {\n",
    "                \"type\": \"ratio\",\n",
    "                \"max_occur_ratio\": 0.02,\n",
    "                \"min_occur_ratio\": 0.001,\n",
    "            },\n",
    "            \"blocking-filter\": {\n",
    "                \"type\": \"bloom filter\",\n",
    "                \"number_hash_functions\": 4,\n",
    "                \"bf_len\": 4096,\n",
    "            },\n",
    "            \"map_to_block_algorithm\": {\n",
    "                \"type\": \"signature-based-blocks\",\n",
    "            },\n",
    "            \"signatureSpecs\": [\n",
    "                [\n",
    "                    {\"type\": \"characters_at\", \"config\": {\"pos\": [0, 3, \"7:9\", \"12:\"]}, \"feature_idx\": 3},\n",
    "                    {\"type\": \"feature-value\", \"feature_idx\": 5}\n",
    "                ],\n",
    "                [\n",
    "                    {\"type\": \"characters_at\", \"config\": {\"pos\": [0]}, \"feature_idx\": 1},\n",
    "                    {\"type\": \"characters_at\", \"config\": {\"pos\": [0]}, \"feature_idx\": 2},\n",
    "                    {\"type\": \"feature-value\", \"feature_idx\": 5}\n",
    "                ],\n",
    "                [\n",
    "                    {\"type\": \"feature-value\", \"feature_idx\": 2},\n",
    "                ],\n",
    "[\n",
    "                    {\"type\": \"characters_at\", \"config\": {\"pos\": [\"3:\"]}, \"feature_idx\": 9},\n",
    "                ],\n",
    "                [\n",
    "                    {\"type\": \"metaphone\", \"feature_idx\": 1},\n",
    "                ],\n",
    "                [\n",
    "                    {\"type\": \"metaphone\", \"feature_idx\": 2},\n",
    "                ],\n",
    "                [\n",
    "                    {\"type\": \"metaphone\", \"feature_idx\": 3},\n",
    "                    {\"type\": \"metaphone\", \"feature_idx\": 4}\n",
    "                ],\n",
    "                [\n",
    "                    {\"type\": \"feature-value\", \"feature_idx\": 10},\n",
    "                ],\n",
    "                [\n",
    "                    {\"type\": \"characters_at\", \"config\": {\"pos\": [\"0:3\"]}, \"feature_idx\": 1},\n",
    "                    {\"type\": \"characters_at\", \"config\": {\"pos\": [\"0:3\"]}, \"feature_idx\": 2},\n",
    "                ],\n",
    "            ],\n",
    "        }\n",
    "    },\n",
    "    'candidate-blocking-filter': {\n",
    "        'type': 'dummy'\n",
    "    },\n",
    "    'reverse-index': {\n",
    "        'type': 'signature-based-blocks'\n",
    "    }\n",
    "}\n"
   ]
  },
  {
   "cell_type": "code",
   "execution_count": null,
   "metadata": {},
   "outputs": [],
   "source": [
    "from poc.blocks_generator import generate_candidate_blocks\n",
    "\n",
    "block_obj_dp1 = generate_candidate_blocks(blocking_config, data1)"
   ]
  },
  {
   "cell_type": "markdown",
   "metadata": {},
   "source": [
    "By checking statistics of blocking result, Alice and Bob can decide if they want to use this blocking config to proceed. Note that the blocking_config must be agreed by all data parties."
   ]
  },
  {
   "cell_type": "markdown",
   "metadata": {},
   "source": [
    "### Step3 - Generate CLKs\n",
    "\n",
    "Once Alice and Bob are happy with the blocking result and decide to proceed, Alice can generate CLKs of data."
   ]
  },
  {
   "cell_type": "code",
   "execution_count": null,
   "metadata": {},
   "outputs": [],
   "source": [
    "from poc.clk_util import generate_clks\n",
    "\n",
    "# encoding\n",
    "schema_json_fp = os.path.join('data', 'schema.json')\n",
    "with open(schema_json_fp, \"r\") as read_file:\n",
    "    schema_json = json.load(read_file)\n",
    "schema = from_json_dict(schema_json)\n",
    "encodings_dp1 = generate_clks(df1, schema=schema, secret_keys=(\"tick\", \"tock\"))"
   ]
  },
  {
   "cell_type": "markdown",
   "metadata": {},
   "source": [
    "## Party B - Bob\n",
    "\n",
    "Now repeat the above 3 steps at Bob's side to get `block_obj_dp2` and `encoding_dp2`"
   ]
  },
  {
   "cell_type": "code",
   "execution_count": null,
   "metadata": {},
   "outputs": [],
   "source": [
    "# load data\n",
    "df2 = pd.read_csv('data/2Parties/PII_b_10000.csv', skipinitialspace=True)\n",
    "df2 = df2.set_index('entity_id', drop=False).fillna('')\n",
    "data2 = df2.to_dict(orient='split')['data']\n",
    "print(\"Example PII\", data2[0])\n",
    "\n",
    "# generate candidate blocks\n",
    "block_obj_dp2 = generate_candidate_blocks(blocking_config, data2)\n",
    "\n",
    "# encode data2\n",
    "encodings_dp2 = generate_clks(df2, schema=schema, secret_keys=(\"tick\", \"tock\"))"
   ]
  },
  {
   "cell_type": "markdown",
   "metadata": {},
   "source": [
    "## Anonlink-client\n",
    "\n",
    "Now both blocking result and encoded data are uploaded to `anonlink-client`. It can perform final blocks generation and call `anonlink` to solve the problem with help of blocking.\n",
    "\n",
    "### Step1 - Generate final blocks\n",
    "\n",
    "Note: Please don't re-run the following cell"
   ]
  },
  {
   "cell_type": "code",
   "execution_count": null,
   "metadata": {},
   "outputs": [],
   "source": [
    "from poc.blocks_generator import generate_final_blocks\n",
    "dp1_blocks, dp2_blocks = generate_final_blocks(blocking_config, block_obj_dp1, block_obj_dp2)"
   ]
  },
  {
   "cell_type": "markdown",
   "metadata": {},
   "source": [
    "### Step2 - Call Anonlink solver to perform matching"
   ]
  },
  {
   "cell_type": "code",
   "execution_count": null,
   "metadata": {},
   "outputs": [],
   "source": [
    "from poc.server import solve\n",
    "from poc.data_util import load_truth\n",
    "\n",
    "solution = solve((encodings_dp1, encodings_dp2), (dp1_blocks, dp2_blocks), threshold=0.85)\n",
    "print('Found {} matches'.format(len(solution)))\n",
    "found_matches = set((a, b) for ((_, a), (_, b)) in solution)\n",
    "\n",
    "the_truth = load_truth(df1, df2, id_col='entity_id')\n",
    "\n",
    "tp = len(found_matches & the_truth)\n",
    "fp = len(found_matches - the_truth)\n",
    "fn = len(the_truth - found_matches)\n",
    "\n",
    "precision = tp / (tp + fp)\n",
    "recall = tp / (tp + fn)\n",
    "print(f'precision: {precision}, recall: {recall}')\n"
   ]
  }
 ],
 "metadata": {
  "kernelspec": {
   "display_name": "Python 3",
   "language": "python",
   "name": "python3"
  },
  "language_info": {
   "codemirror_mode": {
    "name": "ipython",
    "version": 3
   },
   "file_extension": ".py",
   "mimetype": "text/x-python",
   "name": "python",
   "nbconvert_exporter": "python",
   "pygments_lexer": "ipython3",
   "version": "3.7.4"
  }
 },
 "nbformat": 4,
 "nbformat_minor": 4
}
