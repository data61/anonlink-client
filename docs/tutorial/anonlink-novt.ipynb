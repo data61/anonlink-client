{
 "cells": [
  {
   "cell_type": "markdown",
   "metadata": {
    "pycharm": {
     "is_executing": false
    }
   },
   "source": [
    "# Multi-party Record Linkage with Blocking\n",
    "\n",
    "In this tutorial, we will demonstrate the CLI tools for multiparty record linkage with blocking techniques. "
   ]
  },
  {
   "cell_type": "code",
   "execution_count": 16,
   "metadata": {},
   "outputs": [],
   "source": [
    "import io\n",
    "import os\n",
    "import math\n",
    "from bitarray import bitarray\n",
    "import base64\n",
    "import time\n",
    "from IPython import display\n",
    "\n",
    "import anonlink\n",
    "import pandas as pd\n",
    "import clkhash\n",
    "from clkhash import clk\n",
    "from clkhash.field_formats import *\n",
    "from clkhash.schema import Schema\n",
    "from clkhash.comparators import NgramComparison, NumericComparison, ExactComparison"
   ]
  },
  {
   "cell_type": "markdown",
   "metadata": {},
   "source": [
    "Suppose we are interested to find records that appear at least twice in 3 parties\n",
    "\n",
    "## Generate CLKs and Candidate Blocks\n",
    "\n",
    "First we have a look at dataset"
   ]
  },
  {
   "cell_type": "code",
   "execution_count": 2,
   "metadata": {},
   "outputs": [
    {
     "data": {
      "text/html": [
       "<div>\n",
       "<style scoped>\n",
       "    .dataframe tbody tr th:only-of-type {\n",
       "        vertical-align: middle;\n",
       "    }\n",
       "\n",
       "    .dataframe tbody tr th {\n",
       "        vertical-align: top;\n",
       "    }\n",
       "\n",
       "    .dataframe thead th {\n",
       "        text-align: right;\n",
       "    }\n",
       "</style>\n",
       "<table border=\"1\" class=\"dataframe\">\n",
       "  <thead>\n",
       "    <tr style=\"text-align: right;\">\n",
       "      <th></th>\n",
       "      <th>recid</th>\n",
       "      <th>firstname</th>\n",
       "      <th>lastname</th>\n",
       "      <th>suburb</th>\n",
       "      <th>postcode</th>\n",
       "    </tr>\n",
       "  </thead>\n",
       "  <tbody>\n",
       "    <tr>\n",
       "      <th>0</th>\n",
       "      <td>1705996</td>\n",
       "      <td>joseph</td>\n",
       "      <td>amaral</td>\n",
       "      <td>red springs</td>\n",
       "      <td>28377</td>\n",
       "    </tr>\n",
       "    <tr>\n",
       "      <th>1</th>\n",
       "      <td>6994349</td>\n",
       "      <td>nizi</td>\n",
       "      <td>azeez</td>\n",
       "      <td>morrisville</td>\n",
       "      <td>27560</td>\n",
       "    </tr>\n",
       "    <tr>\n",
       "      <th>2</th>\n",
       "      <td>4871772</td>\n",
       "      <td>barbara</td>\n",
       "      <td>richmond</td>\n",
       "      <td>salisbury</td>\n",
       "      <td>28144</td>\n",
       "    </tr>\n",
       "    <tr>\n",
       "      <th>3</th>\n",
       "      <td>3329049</td>\n",
       "      <td>shannon</td>\n",
       "      <td>boulware</td>\n",
       "      <td>raleigh</td>\n",
       "      <td>27615</td>\n",
       "    </tr>\n",
       "    <tr>\n",
       "      <th>4</th>\n",
       "      <td>6101030</td>\n",
       "      <td>latwyella</td>\n",
       "      <td>maxwell</td>\n",
       "      <td>bostic</td>\n",
       "      <td>28018</td>\n",
       "    </tr>\n",
       "  </tbody>\n",
       "</table>\n",
       "</div>"
      ],
      "text/plain": [
       "     recid  firstname  lastname       suburb  postcode\n",
       "0  1705996     joseph    amaral  red springs     28377\n",
       "1  6994349       nizi     azeez  morrisville     27560\n",
       "2  4871772    barbara  richmond    salisbury     28144\n",
       "3  3329049    shannon  boulware      raleigh     27615\n",
       "4  6101030  latwyella   maxwell       bostic     28018"
      ]
     },
     "execution_count": 2,
     "metadata": {},
     "output_type": "execute_result"
    }
   ],
   "source": [
    "\n",
    "df1 = pd.read_csv('data/ncvr_numrec_5000_modrec_2_ocp_0_myp_0_nump_10.csv')\n",
    "df1.head()"
   ]
  },
  {
   "cell_type": "markdown",
   "metadata": {},
   "source": [
    "A hashing schema instructs clkhash how to treat each column for generating CLKs. A detailed description of the hashing schema can be found in the api docs. We will ignore the columns ‘ENTID’ for CLK generation."
   ]
  },
  {
   "cell_type": "code",
   "execution_count": 3,
   "metadata": {},
   "outputs": [
    {
     "name": "stdout",
     "output_type": "stream",
     "text": [
      "\n",
      "{\n",
      "  \"version\": 3,\n",
      "  \"clkConfig\": {\n",
      "    \"l\": 1024,\n",
      "    \"kdf\": {\n",
      "      \"type\": \"HKDF\",\n",
      "      \"hash\": \"SHA256\",\n",
      "      \"salt\": \"SCbL2zHNnmsckfzchsNkZY9XoHk96P/G5nUBrM7ybymlEFsMV6PAeDZCNp3rfNUPCtLDMOGQHG4pCQpfhiHCyA==\",\n",
      "      \"info\": \"c2NoZW1hX2V4YW1wbGU=\",\n",
      "      \"keySize\": 64\n",
      "    }\n",
      "  },\n",
      "  \"features\": [\n",
      "        {\n",
      "      \"identifier\": \"recid\",\n",
      "      \"ignored\": true\n",
      "    },\n",
      "    {\n",
      "      \"identifier\": \"firstname\",\n",
      "      \"format\": {\n",
      "        \"type\": \"string\",\n",
      "        \"encoding\": \"utf-8\",\n",
      "        \"maxLength\": 30,\n",
      "        \"case\": \"lower\"\n",
      "      },\n",
      "      \"hashing\": {\n",
      "        \"comparison\": {\"type\":  \"ngram\", \"n\":  2},\n",
      "        \"strategy\": {\"bitsPerFeature\":  100},\n",
      "        \"hash\": {\"type\": \"blakeHash\"},\n",
      "        \"missingValue\": {\n",
      "          \"sentinel\": \".\",\n",
      "          \"replaceWith\": \"\"\n",
      "        }\n",
      "      }\n",
      "    },\n",
      "    {\n",
      "      \"identifier\": \"lastname\",\n",
      "      \"format\": {\n",
      "        \"type\": \"string\",\n",
      "        \"encoding\": \"utf-8\",\n",
      "        \"maxLength\": 30,\n",
      "        \"case\": \"lower\"\n",
      "      },\n",
      "      \"hashing\": {\n",
      "        \"comparison\": {\"type\":  \"ngram\", \"n\":  2},\n",
      "        \"strategy\": {\"bitsPerFeature\":  100},\n",
      "        \"hash\": {\"type\": \"blakeHash\"},\n",
      "        \"missingValue\": {\n",
      "          \"sentinel\": \".\",\n",
      "          \"replaceWith\": \"\"\n",
      "        }\n",
      "      }\n",
      "    },\n",
      "    {\n",
      "      \"identifier\": \"suburb\",\n",
      "      \"format\": {\n",
      "        \"type\": \"string\",\n",
      "        \"encoding\": \"utf-8\",\n",
      "        \"maxLength\": 30,\n",
      "        \"case\": \"lower\"\n",
      "      },\n",
      "      \"hashing\": {\n",
      "        \"comparison\": {\"type\":  \"ngram\", \"n\":  2},\n",
      "        \"strategy\": {\"bitsPerFeature\":  100},\n",
      "        \"hash\": {\"type\": \"blakeHash\"},\n",
      "        \"missingValue\": {\n",
      "          \"sentinel\": \".\",\n",
      "          \"replaceWith\": \"\"\n",
      "        }\n",
      "      }\n",
      "    },\n",
      "    {\n",
      "      \"identifier\": \"postcode\",\n",
      "      \"format\": {\n",
      "        \"type\": \"string\",\n",
      "        \"encoding\": \"utf-8\",\n",
      "        \"maxLength\": 30,\n",
      "        \"case\": \"lower\"\n",
      "      },\n",
      "      \"hashing\": {\n",
      "        \"comparison\": {\"type\":  \"ngram\", \"n\":  2},\n",
      "        \"strategy\": {\"bitsPerFeature\":  100},\n",
      "        \"hash\": {\"type\": \"blakeHash\"},\n",
      "        \"missingValue\": {\n",
      "          \"sentinel\": \".\",\n",
      "          \"replaceWith\": \"\"\n",
      "        }\n",
      "      }\n",
      "    }\n",
      "  ]\n",
      "}\n"
     ]
    }
   ],
   "source": [
    "with open(\"novt_schema.json\") as f:\n",
    "    print(f.read())"
   ]
  },
  {
   "cell_type": "markdown",
   "metadata": {},
   "source": [
    "### Validate the schema\n",
    "The command line tool can check that the linkage schema is valid:"
   ]
  },
  {
   "cell_type": "code",
   "execution_count": 4,
   "metadata": {},
   "outputs": [
    {
     "name": "stdout",
     "output_type": "stream",
     "text": [
      "\u001b[32mschema is valid\u001b[0m\n"
     ]
    }
   ],
   "source": [
    "!anonlink validate-schema \"novt_schema.json\""
   ]
  },
  {
   "cell_type": "markdown",
   "metadata": {},
   "source": [
    "### Hash data\n",
    "We can now hash our Personally Identifiable Information (PII) data from the CSV file using our defined linkage schema. We must provide two secret keys to this command - these keys have to be used by both parties hashing data. For this toy example we will use the secret ‘secret’, for real data, make sure that the secret contains enough entropy, as knowledge of this secret is sufficient to reconstruct the PII information from a CLK!"
   ]
  },
  {
   "cell_type": "code",
   "execution_count": 5,
   "metadata": {},
   "outputs": [
    {
     "name": "stdout",
     "output_type": "stream",
     "text": [
      "\u001b[31mCLK data written to novt_clk_0.json\u001b[0m\n"
     ]
    }
   ],
   "source": [
    "!anonlink hash 'data/ncvr_numrec_5000_modrec_2_ocp_0_myp_0_nump_10.csv' secret 'novt_schema.json' 'novt_clk_0.json'"
   ]
  },
  {
   "cell_type": "markdown",
   "metadata": {},
   "source": [
    "Let's hash data for party B and C:"
   ]
  },
  {
   "cell_type": "code",
   "execution_count": 6,
   "metadata": {},
   "outputs": [
    {
     "name": "stdout",
     "output_type": "stream",
     "text": [
      "\u001b[31mCLK data written to novt_clk_1.json\u001b[0m\n"
     ]
    }
   ],
   "source": [
    "!anonlink hash 'data/ncvr_numrec_5000_modrec_2_ocp_0_myp_1_nump_10.csv' secret 'novt_schema.json' 'novt_clk_1.json'"
   ]
  },
  {
   "cell_type": "code",
   "execution_count": 7,
   "metadata": {},
   "outputs": [
    {
     "name": "stdout",
     "output_type": "stream",
     "text": [
      "\u001b[31mCLK data written to novt_clk_2.json\u001b[0m\n"
     ]
    }
   ],
   "source": [
    "!anonlink hash 'data/ncvr_numrec_5000_modrec_2_ocp_0_myp_2_nump_10.csv' secret 'novt_schema.json' 'novt_clk_2.json'"
   ]
  },
  {
   "cell_type": "code",
   "execution_count": 8,
   "metadata": {},
   "outputs": [
    {
     "name": "stdout",
     "output_type": "stream",
     "text": [
      "    ----------------------------------------------------------------------------------------------------------------------------\n",
      "    |                                                        popcounts                                                         |\n",
      "    ----------------------------------------------------------------------------------------------------------------------------\n",
      "\n",
      " 298| \u001b[39m \u001b[39m\u001b[39m \u001b[39m\u001b[39m \u001b[39m\u001b[39m \u001b[39m\u001b[39m \u001b[39m\u001b[39m \u001b[39m\u001b[39m \u001b[39m\u001b[39m \u001b[39m\u001b[39m \u001b[39m\u001b[39m \u001b[39m\u001b[39m \u001b[39m\u001b[39m \u001b[39m\u001b[39m \u001b[39m\u001b[39m \u001b[39m\u001b[39m \u001b[39m\u001b[39m \u001b[39m\u001b[39m \u001b[39m\u001b[39m \u001b[39m\u001b[39m \u001b[39m\u001b[39m \u001b[39m\u001b[39m \u001b[39m\u001b[39m \u001b[39m\u001b[39m \u001b[39m\u001b[39m \u001b[39m\u001b[39m \u001b[39m\u001b[39m \u001b[39m\u001b[39m \u001b[39m\u001b[39m \u001b[39m\u001b[39m \u001b[39m\u001b[39m \u001b[39m\u001b[39m \u001b[39m\u001b[39m \u001b[39m\u001b[39m \u001b[39m\u001b[39m \u001b[39m\u001b[39m \u001b[39m\u001b[39m \u001b[39m\u001b[39mo\u001b[39m\u001b[39m \u001b[39m\u001b[39m \u001b[39m\u001b[39m \u001b[39m\u001b[39m \u001b[39m\u001b[39m \u001b[39m\u001b[39m \u001b[39m\u001b[39m \u001b[39m\u001b[39m \u001b[39m\u001b[39m \u001b[39m\u001b[39m \u001b[39m\u001b[39m \u001b[39m\u001b[39m \u001b[39m\u001b[39m \u001b[39m\u001b[39m \u001b[39m\u001b[39m \u001b[39m\u001b[39m \u001b[39m\u001b[39m \u001b[39m\u001b[39m \u001b[39m\u001b[39m \u001b[39m\u001b[39m \u001b[39m\u001b[39m \u001b[39m\u001b[39m \u001b[39m\u001b[39m \u001b[39m\u001b[39m \u001b[39m\n",
      " 282| \u001b[39m \u001b[39m\u001b[39m \u001b[39m\u001b[39m \u001b[39m\u001b[39m \u001b[39m\u001b[39m \u001b[39m\u001b[39m \u001b[39m\u001b[39m \u001b[39m\u001b[39m \u001b[39m\u001b[39m \u001b[39m\u001b[39m \u001b[39m\u001b[39m \u001b[39m\u001b[39m \u001b[39m\u001b[39m \u001b[39m\u001b[39m \u001b[39m\u001b[39m \u001b[39m\u001b[39m \u001b[39m\u001b[39m \u001b[39m\u001b[39m \u001b[39m\u001b[39m \u001b[39m\u001b[39m \u001b[39m\u001b[39m \u001b[39m\u001b[39m \u001b[39m\u001b[39m \u001b[39m\u001b[39m \u001b[39m\u001b[39m \u001b[39m\u001b[39m \u001b[39m\u001b[39m \u001b[39m\u001b[39m \u001b[39m\u001b[39m \u001b[39m\u001b[39m \u001b[39m\u001b[39m \u001b[39m\u001b[39m \u001b[39m\u001b[39m \u001b[39m\u001b[39m \u001b[39m\u001b[39mo\u001b[39m\u001b[39m \u001b[39m\u001b[39mo\u001b[39m\u001b[39mo\u001b[39m\u001b[39mo\u001b[39m\u001b[39mo\u001b[39m\u001b[39mo\u001b[39m\u001b[39m \u001b[39m\u001b[39m \u001b[39m\u001b[39m \u001b[39m\u001b[39m \u001b[39m\u001b[39m \u001b[39m\u001b[39m \u001b[39m\u001b[39m \u001b[39m\u001b[39m \u001b[39m\u001b[39m \u001b[39m\u001b[39m \u001b[39m\u001b[39m \u001b[39m\u001b[39m \u001b[39m\u001b[39m \u001b[39m\u001b[39m \u001b[39m\u001b[39m \u001b[39m\u001b[39m \u001b[39m\u001b[39m \u001b[39m\u001b[39m \u001b[39m\u001b[39m \u001b[39m\u001b[39m \u001b[39m\n",
      " 267| \u001b[39m \u001b[39m\u001b[39m \u001b[39m\u001b[39m \u001b[39m\u001b[39m \u001b[39m\u001b[39m \u001b[39m\u001b[39m \u001b[39m\u001b[39m \u001b[39m\u001b[39m \u001b[39m\u001b[39m \u001b[39m\u001b[39m \u001b[39m\u001b[39m \u001b[39m\u001b[39m \u001b[39m\u001b[39m \u001b[39m\u001b[39m \u001b[39m\u001b[39m \u001b[39m\u001b[39m \u001b[39m\u001b[39m \u001b[39m\u001b[39m \u001b[39m\u001b[39m \u001b[39m\u001b[39m \u001b[39m\u001b[39m \u001b[39m\u001b[39m \u001b[39m\u001b[39m \u001b[39m\u001b[39m \u001b[39m\u001b[39m \u001b[39m\u001b[39m \u001b[39m\u001b[39m \u001b[39m\u001b[39m \u001b[39m\u001b[39m \u001b[39m\u001b[39m \u001b[39m\u001b[39m \u001b[39m\u001b[39m \u001b[39m\u001b[39m \u001b[39m\u001b[39m \u001b[39m\u001b[39mo\u001b[39m\u001b[39m \u001b[39m\u001b[39mo\u001b[39m\u001b[39mo\u001b[39m\u001b[39mo\u001b[39m\u001b[39mo\u001b[39m\u001b[39mo\u001b[39m\u001b[39m \u001b[39m\u001b[39m \u001b[39m\u001b[39m \u001b[39m\u001b[39m \u001b[39m\u001b[39m \u001b[39m\u001b[39m \u001b[39m\u001b[39m \u001b[39m\u001b[39m \u001b[39m\u001b[39m \u001b[39m\u001b[39m \u001b[39m\u001b[39m \u001b[39m\u001b[39m \u001b[39m\u001b[39m \u001b[39m\u001b[39m \u001b[39m\u001b[39m \u001b[39m\u001b[39m \u001b[39m\u001b[39m \u001b[39m\u001b[39m \u001b[39m\u001b[39m \u001b[39m\u001b[39m \u001b[39m\n",
      " 251| \u001b[39m \u001b[39m\u001b[39m \u001b[39m\u001b[39m \u001b[39m\u001b[39m \u001b[39m\u001b[39m \u001b[39m\u001b[39m \u001b[39m\u001b[39m \u001b[39m\u001b[39m \u001b[39m\u001b[39m \u001b[39m\u001b[39m \u001b[39m\u001b[39m \u001b[39m\u001b[39m \u001b[39m\u001b[39m \u001b[39m\u001b[39m \u001b[39m\u001b[39m \u001b[39m\u001b[39m \u001b[39m\u001b[39m \u001b[39m\u001b[39m \u001b[39m\u001b[39m \u001b[39m\u001b[39m \u001b[39m\u001b[39m \u001b[39m\u001b[39m \u001b[39m\u001b[39m \u001b[39m\u001b[39m \u001b[39m\u001b[39m \u001b[39m\u001b[39m \u001b[39m\u001b[39m \u001b[39m\u001b[39m \u001b[39m\u001b[39m \u001b[39m\u001b[39m \u001b[39m\u001b[39m \u001b[39m\u001b[39m \u001b[39m\u001b[39m \u001b[39m\u001b[39m \u001b[39m\u001b[39mo\u001b[39m\u001b[39mo\u001b[39m\u001b[39mo\u001b[39m\u001b[39mo\u001b[39m\u001b[39mo\u001b[39m\u001b[39mo\u001b[39m\u001b[39mo\u001b[39m\u001b[39m \u001b[39m\u001b[39mo\u001b[39m\u001b[39m \u001b[39m\u001b[39m \u001b[39m\u001b[39m \u001b[39m\u001b[39m \u001b[39m\u001b[39m \u001b[39m\u001b[39m \u001b[39m\u001b[39m \u001b[39m\u001b[39m \u001b[39m\u001b[39m \u001b[39m\u001b[39m \u001b[39m\u001b[39m \u001b[39m\u001b[39m \u001b[39m\u001b[39m \u001b[39m\u001b[39m \u001b[39m\u001b[39m \u001b[39m\u001b[39m \u001b[39m\u001b[39m \u001b[39m\u001b[39m \u001b[39m\n",
      " 235| \u001b[39m \u001b[39m\u001b[39m \u001b[39m\u001b[39m \u001b[39m\u001b[39m \u001b[39m\u001b[39m \u001b[39m\u001b[39m \u001b[39m\u001b[39m \u001b[39m\u001b[39m \u001b[39m\u001b[39m \u001b[39m\u001b[39m \u001b[39m\u001b[39m \u001b[39m\u001b[39m \u001b[39m\u001b[39m \u001b[39m\u001b[39m \u001b[39m\u001b[39m \u001b[39m\u001b[39m \u001b[39m\u001b[39m \u001b[39m\u001b[39m \u001b[39m\u001b[39m \u001b[39m\u001b[39m \u001b[39m\u001b[39m \u001b[39m\u001b[39m \u001b[39m\u001b[39m \u001b[39m\u001b[39m \u001b[39m\u001b[39m \u001b[39m\u001b[39m \u001b[39m\u001b[39m \u001b[39m\u001b[39m \u001b[39m\u001b[39m \u001b[39m\u001b[39m \u001b[39m\u001b[39m \u001b[39m\u001b[39m \u001b[39m\u001b[39mo\u001b[39m\u001b[39m \u001b[39m\u001b[39mo\u001b[39m\u001b[39mo\u001b[39m\u001b[39mo\u001b[39m\u001b[39mo\u001b[39m\u001b[39mo\u001b[39m\u001b[39mo\u001b[39m\u001b[39mo\u001b[39m\u001b[39m \u001b[39m\u001b[39mo\u001b[39m\u001b[39m \u001b[39m\u001b[39m \u001b[39m\u001b[39m \u001b[39m\u001b[39m \u001b[39m\u001b[39m \u001b[39m\u001b[39m \u001b[39m\u001b[39m \u001b[39m\u001b[39m \u001b[39m\u001b[39m \u001b[39m\u001b[39m \u001b[39m\u001b[39m \u001b[39m\u001b[39m \u001b[39m\u001b[39m \u001b[39m\u001b[39m \u001b[39m\u001b[39m \u001b[39m\u001b[39m \u001b[39m\u001b[39m \u001b[39m\u001b[39m \u001b[39m\n",
      " 220| \u001b[39m \u001b[39m\u001b[39m \u001b[39m\u001b[39m \u001b[39m\u001b[39m \u001b[39m\u001b[39m \u001b[39m\u001b[39m \u001b[39m\u001b[39m \u001b[39m\u001b[39m \u001b[39m\u001b[39m \u001b[39m\u001b[39m \u001b[39m\u001b[39m \u001b[39m\u001b[39m \u001b[39m\u001b[39m \u001b[39m\u001b[39m \u001b[39m\u001b[39m \u001b[39m\u001b[39m \u001b[39m\u001b[39m \u001b[39m\u001b[39m \u001b[39m\u001b[39m \u001b[39m\u001b[39m \u001b[39m\u001b[39m \u001b[39m\u001b[39m \u001b[39m\u001b[39m \u001b[39m\u001b[39m \u001b[39m\u001b[39m \u001b[39m\u001b[39m \u001b[39m\u001b[39m \u001b[39m\u001b[39m \u001b[39m\u001b[39m \u001b[39m\u001b[39m \u001b[39m\u001b[39m \u001b[39m\u001b[39m \u001b[39m\u001b[39mo\u001b[39m\u001b[39mo\u001b[39m\u001b[39mo\u001b[39m\u001b[39mo\u001b[39m\u001b[39mo\u001b[39m\u001b[39mo\u001b[39m\u001b[39mo\u001b[39m\u001b[39mo\u001b[39m\u001b[39mo\u001b[39m\u001b[39m \u001b[39m\u001b[39mo\u001b[39m\u001b[39m \u001b[39m\u001b[39m \u001b[39m\u001b[39m \u001b[39m\u001b[39m \u001b[39m\u001b[39m \u001b[39m\u001b[39m \u001b[39m\u001b[39m \u001b[39m\u001b[39m \u001b[39m\u001b[39m \u001b[39m\u001b[39m \u001b[39m\u001b[39m \u001b[39m\u001b[39m \u001b[39m\u001b[39m \u001b[39m\u001b[39m \u001b[39m\u001b[39m \u001b[39m\u001b[39m \u001b[39m\u001b[39m \u001b[39m\u001b[39m \u001b[39m\n",
      " 204| \u001b[39m \u001b[39m\u001b[39m \u001b[39m\u001b[39m \u001b[39m\u001b[39m \u001b[39m\u001b[39m \u001b[39m\u001b[39m \u001b[39m\u001b[39m \u001b[39m\u001b[39m \u001b[39m\u001b[39m \u001b[39m\u001b[39m \u001b[39m\u001b[39m \u001b[39m\u001b[39m \u001b[39m\u001b[39m \u001b[39m\u001b[39m \u001b[39m\u001b[39m \u001b[39m\u001b[39m \u001b[39m\u001b[39m \u001b[39m\u001b[39m \u001b[39m\u001b[39m \u001b[39m\u001b[39m \u001b[39m\u001b[39m \u001b[39m\u001b[39m \u001b[39m\u001b[39m \u001b[39m\u001b[39m \u001b[39m\u001b[39m \u001b[39m\u001b[39m \u001b[39m\u001b[39m \u001b[39m\u001b[39m \u001b[39m\u001b[39m \u001b[39m\u001b[39m \u001b[39m\u001b[39m \u001b[39m\u001b[39m \u001b[39m\u001b[39mo\u001b[39m\u001b[39mo\u001b[39m\u001b[39mo\u001b[39m\u001b[39mo\u001b[39m\u001b[39mo\u001b[39m\u001b[39mo\u001b[39m\u001b[39mo\u001b[39m\u001b[39mo\u001b[39m\u001b[39mo\u001b[39m\u001b[39m \u001b[39m\u001b[39mo\u001b[39m\u001b[39m \u001b[39m\u001b[39m \u001b[39m\u001b[39m \u001b[39m\u001b[39m \u001b[39m\u001b[39m \u001b[39m\u001b[39m \u001b[39m\u001b[39m \u001b[39m\u001b[39m \u001b[39m\u001b[39m \u001b[39m\u001b[39m \u001b[39m\u001b[39m \u001b[39m\u001b[39m \u001b[39m\u001b[39m \u001b[39m\u001b[39m \u001b[39m\u001b[39m \u001b[39m\u001b[39m \u001b[39m\u001b[39m \u001b[39m\u001b[39m \u001b[39m\n",
      " 188| \u001b[39m \u001b[39m\u001b[39m \u001b[39m\u001b[39m \u001b[39m\u001b[39m \u001b[39m\u001b[39m \u001b[39m\u001b[39m \u001b[39m\u001b[39m \u001b[39m\u001b[39m \u001b[39m\u001b[39m \u001b[39m\u001b[39m \u001b[39m\u001b[39m \u001b[39m\u001b[39m \u001b[39m\u001b[39m \u001b[39m\u001b[39m \u001b[39m\u001b[39m \u001b[39m\u001b[39m \u001b[39m\u001b[39m \u001b[39m\u001b[39m \u001b[39m\u001b[39m \u001b[39m\u001b[39m \u001b[39m\u001b[39m \u001b[39m\u001b[39m \u001b[39m\u001b[39m \u001b[39m\u001b[39m \u001b[39m\u001b[39m \u001b[39m\u001b[39m \u001b[39m\u001b[39m \u001b[39m\u001b[39m \u001b[39m\u001b[39m \u001b[39m\u001b[39m \u001b[39m\u001b[39mo\u001b[39m\u001b[39m \u001b[39m\u001b[39mo\u001b[39m\u001b[39mo\u001b[39m\u001b[39mo\u001b[39m\u001b[39mo\u001b[39m\u001b[39mo\u001b[39m\u001b[39mo\u001b[39m\u001b[39mo\u001b[39m\u001b[39mo\u001b[39m\u001b[39mo\u001b[39m\u001b[39m \u001b[39m\u001b[39mo\u001b[39m\u001b[39mo\u001b[39m\u001b[39m \u001b[39m\u001b[39m \u001b[39m\u001b[39m \u001b[39m\u001b[39m \u001b[39m\u001b[39m \u001b[39m\u001b[39m \u001b[39m\u001b[39m \u001b[39m\u001b[39m \u001b[39m\u001b[39m \u001b[39m\u001b[39m \u001b[39m\u001b[39m \u001b[39m\u001b[39m \u001b[39m\u001b[39m \u001b[39m\u001b[39m \u001b[39m\u001b[39m \u001b[39m\u001b[39m \u001b[39m\u001b[39m \u001b[39m\n",
      " 173| \u001b[39m \u001b[39m\u001b[39m \u001b[39m\u001b[39m \u001b[39m\u001b[39m \u001b[39m\u001b[39m \u001b[39m\u001b[39m \u001b[39m\u001b[39m \u001b[39m\u001b[39m \u001b[39m\u001b[39m \u001b[39m\u001b[39m \u001b[39m\u001b[39m \u001b[39m\u001b[39m \u001b[39m\u001b[39m \u001b[39m\u001b[39m \u001b[39m\u001b[39m \u001b[39m\u001b[39m \u001b[39m\u001b[39m \u001b[39m\u001b[39m \u001b[39m\u001b[39m \u001b[39m\u001b[39m \u001b[39m\u001b[39m \u001b[39m\u001b[39m \u001b[39m\u001b[39m \u001b[39m\u001b[39m \u001b[39m\u001b[39m \u001b[39m\u001b[39m \u001b[39m\u001b[39m \u001b[39m\u001b[39m \u001b[39m\u001b[39m \u001b[39m\u001b[39m \u001b[39m\u001b[39mo\u001b[39m\u001b[39mo\u001b[39m\u001b[39mo\u001b[39m\u001b[39mo\u001b[39m\u001b[39mo\u001b[39m\u001b[39mo\u001b[39m\u001b[39mo\u001b[39m\u001b[39mo\u001b[39m\u001b[39mo\u001b[39m\u001b[39mo\u001b[39m\u001b[39mo\u001b[39m\u001b[39m \u001b[39m\u001b[39mo\u001b[39m\u001b[39mo\u001b[39m\u001b[39mo\u001b[39m\u001b[39mo\u001b[39m\u001b[39m \u001b[39m\u001b[39m \u001b[39m\u001b[39m \u001b[39m\u001b[39m \u001b[39m\u001b[39m \u001b[39m\u001b[39m \u001b[39m\u001b[39m \u001b[39m\u001b[39m \u001b[39m\u001b[39m \u001b[39m\u001b[39m \u001b[39m\u001b[39m \u001b[39m\u001b[39m \u001b[39m\u001b[39m \u001b[39m\u001b[39m \u001b[39m\u001b[39m \u001b[39m\n",
      " 157| \u001b[39m \u001b[39m\u001b[39m \u001b[39m\u001b[39m \u001b[39m\u001b[39m \u001b[39m\u001b[39m \u001b[39m\u001b[39m \u001b[39m\u001b[39m \u001b[39m\u001b[39m \u001b[39m\u001b[39m \u001b[39m\u001b[39m \u001b[39m\u001b[39m \u001b[39m\u001b[39m \u001b[39m\u001b[39m \u001b[39m\u001b[39m \u001b[39m\u001b[39m \u001b[39m\u001b[39m \u001b[39m\u001b[39m \u001b[39m\u001b[39m \u001b[39m\u001b[39m \u001b[39m\u001b[39m \u001b[39m\u001b[39m \u001b[39m\u001b[39m \u001b[39m\u001b[39m \u001b[39m\u001b[39m \u001b[39m\u001b[39m \u001b[39m\u001b[39m \u001b[39m\u001b[39m \u001b[39m\u001b[39m \u001b[39m\u001b[39m \u001b[39m\u001b[39m \u001b[39m\u001b[39mo\u001b[39m\u001b[39mo\u001b[39m\u001b[39mo\u001b[39m\u001b[39mo\u001b[39m\u001b[39mo\u001b[39m\u001b[39mo\u001b[39m\u001b[39mo\u001b[39m\u001b[39mo\u001b[39m\u001b[39mo\u001b[39m\u001b[39mo\u001b[39m\u001b[39mo\u001b[39m\u001b[39m \u001b[39m\u001b[39mo\u001b[39m\u001b[39mo\u001b[39m\u001b[39mo\u001b[39m\u001b[39mo\u001b[39m\u001b[39m \u001b[39m\u001b[39m \u001b[39m\u001b[39m \u001b[39m\u001b[39m \u001b[39m\u001b[39m \u001b[39m\u001b[39m \u001b[39m\u001b[39m \u001b[39m\u001b[39m \u001b[39m\u001b[39m \u001b[39m\u001b[39m \u001b[39m\u001b[39m \u001b[39m\u001b[39m \u001b[39m\u001b[39m \u001b[39m\u001b[39m \u001b[39m\u001b[39m \u001b[39m\n",
      " 141| \u001b[39m \u001b[39m\u001b[39m \u001b[39m\u001b[39m \u001b[39m\u001b[39m \u001b[39m\u001b[39m \u001b[39m\u001b[39m \u001b[39m\u001b[39m \u001b[39m\u001b[39m \u001b[39m\u001b[39m \u001b[39m\u001b[39m \u001b[39m\u001b[39m \u001b[39m\u001b[39m \u001b[39m\u001b[39m \u001b[39m\u001b[39m \u001b[39m\u001b[39m \u001b[39m\u001b[39m \u001b[39m\u001b[39m \u001b[39m\u001b[39m \u001b[39m\u001b[39m \u001b[39m\u001b[39m \u001b[39m\u001b[39m \u001b[39m\u001b[39m \u001b[39m\u001b[39m \u001b[39m\u001b[39m \u001b[39m\u001b[39m \u001b[39m\u001b[39m \u001b[39m\u001b[39m \u001b[39m\u001b[39m \u001b[39m\u001b[39m \u001b[39m\u001b[39mo\u001b[39m\u001b[39mo\u001b[39m\u001b[39mo\u001b[39m\u001b[39mo\u001b[39m\u001b[39mo\u001b[39m\u001b[39mo\u001b[39m\u001b[39mo\u001b[39m\u001b[39mo\u001b[39m\u001b[39mo\u001b[39m\u001b[39mo\u001b[39m\u001b[39mo\u001b[39m\u001b[39mo\u001b[39m\u001b[39m \u001b[39m\u001b[39mo\u001b[39m\u001b[39mo\u001b[39m\u001b[39mo\u001b[39m\u001b[39mo\u001b[39m\u001b[39mo\u001b[39m\u001b[39m \u001b[39m\u001b[39m \u001b[39m\u001b[39m \u001b[39m\u001b[39m \u001b[39m\u001b[39m \u001b[39m\u001b[39m \u001b[39m\u001b[39m \u001b[39m\u001b[39m \u001b[39m\u001b[39m \u001b[39m\u001b[39m \u001b[39m\u001b[39m \u001b[39m\u001b[39m \u001b[39m\u001b[39m \u001b[39m\u001b[39m \u001b[39m\n",
      " 126| \u001b[39m \u001b[39m\u001b[39m \u001b[39m\u001b[39m \u001b[39m\u001b[39m \u001b[39m\u001b[39m \u001b[39m\u001b[39m \u001b[39m\u001b[39m \u001b[39m\u001b[39m \u001b[39m\u001b[39m \u001b[39m\u001b[39m \u001b[39m\u001b[39m \u001b[39m\u001b[39m \u001b[39m\u001b[39m \u001b[39m\u001b[39m \u001b[39m\u001b[39m \u001b[39m\u001b[39m \u001b[39m\u001b[39m \u001b[39m\u001b[39m \u001b[39m\u001b[39m \u001b[39m\u001b[39m \u001b[39m\u001b[39m \u001b[39m\u001b[39m \u001b[39m\u001b[39m \u001b[39m\u001b[39m \u001b[39m\u001b[39m \u001b[39m\u001b[39m \u001b[39m\u001b[39m \u001b[39m\u001b[39m \u001b[39m\u001b[39m \u001b[39m\u001b[39mo\u001b[39m\u001b[39mo\u001b[39m\u001b[39mo\u001b[39m\u001b[39mo\u001b[39m\u001b[39mo\u001b[39m\u001b[39mo\u001b[39m\u001b[39mo\u001b[39m\u001b[39mo\u001b[39m\u001b[39mo\u001b[39m\u001b[39mo\u001b[39m\u001b[39mo\u001b[39m\u001b[39mo\u001b[39m\u001b[39m \u001b[39m\u001b[39mo\u001b[39m\u001b[39mo\u001b[39m\u001b[39mo\u001b[39m\u001b[39mo\u001b[39m\u001b[39mo\u001b[39m\u001b[39m \u001b[39m\u001b[39m \u001b[39m\u001b[39m \u001b[39m\u001b[39m \u001b[39m\u001b[39m \u001b[39m\u001b[39m \u001b[39m\u001b[39m \u001b[39m\u001b[39m \u001b[39m\u001b[39m \u001b[39m\u001b[39m \u001b[39m\u001b[39m \u001b[39m\u001b[39m \u001b[39m\u001b[39m \u001b[39m\u001b[39m \u001b[39m\n",
      " 110| \u001b[39m \u001b[39m\u001b[39m \u001b[39m\u001b[39m \u001b[39m\u001b[39m \u001b[39m\u001b[39m \u001b[39m\u001b[39m \u001b[39m\u001b[39m \u001b[39m\u001b[39m \u001b[39m\u001b[39m \u001b[39m\u001b[39m \u001b[39m\u001b[39m \u001b[39m\u001b[39m \u001b[39m\u001b[39m \u001b[39m\u001b[39m \u001b[39m\u001b[39m \u001b[39m\u001b[39m \u001b[39m\u001b[39m \u001b[39m\u001b[39m \u001b[39m\u001b[39m \u001b[39m\u001b[39m \u001b[39m\u001b[39m \u001b[39m\u001b[39m \u001b[39m\u001b[39m \u001b[39m\u001b[39m \u001b[39m\u001b[39m \u001b[39m\u001b[39m \u001b[39m\u001b[39m \u001b[39m\u001b[39m \u001b[39m\u001b[39mo\u001b[39m\u001b[39mo\u001b[39m\u001b[39mo\u001b[39m\u001b[39mo\u001b[39m\u001b[39mo\u001b[39m\u001b[39mo\u001b[39m\u001b[39mo\u001b[39m\u001b[39mo\u001b[39m\u001b[39mo\u001b[39m\u001b[39mo\u001b[39m\u001b[39mo\u001b[39m\u001b[39mo\u001b[39m\u001b[39mo\u001b[39m\u001b[39m \u001b[39m\u001b[39mo\u001b[39m\u001b[39mo\u001b[39m\u001b[39mo\u001b[39m\u001b[39mo\u001b[39m\u001b[39mo\u001b[39m\u001b[39m \u001b[39m\u001b[39m \u001b[39m\u001b[39m \u001b[39m\u001b[39m \u001b[39m\u001b[39m \u001b[39m\u001b[39m \u001b[39m\u001b[39m \u001b[39m\u001b[39m \u001b[39m\u001b[39m \u001b[39m\u001b[39m \u001b[39m\u001b[39m \u001b[39m\u001b[39m \u001b[39m\u001b[39m \u001b[39m\u001b[39m \u001b[39m\n",
      "  94| \u001b[39m \u001b[39m\u001b[39m \u001b[39m\u001b[39m \u001b[39m\u001b[39m \u001b[39m\u001b[39m \u001b[39m\u001b[39m \u001b[39m\u001b[39m \u001b[39m\u001b[39m \u001b[39m\u001b[39m \u001b[39m\u001b[39m \u001b[39m\u001b[39m \u001b[39m\u001b[39m \u001b[39m\u001b[39m \u001b[39m\u001b[39m \u001b[39m\u001b[39m \u001b[39m\u001b[39m \u001b[39m\u001b[39m \u001b[39m\u001b[39m \u001b[39m\u001b[39m \u001b[39m\u001b[39m \u001b[39m\u001b[39m \u001b[39m\u001b[39m \u001b[39m\u001b[39m \u001b[39m\u001b[39m \u001b[39m\u001b[39m \u001b[39m\u001b[39m \u001b[39m\u001b[39m \u001b[39m\u001b[39mo\u001b[39m\u001b[39mo\u001b[39m\u001b[39mo\u001b[39m\u001b[39mo\u001b[39m\u001b[39mo\u001b[39m\u001b[39mo\u001b[39m\u001b[39mo\u001b[39m\u001b[39mo\u001b[39m\u001b[39mo\u001b[39m\u001b[39mo\u001b[39m\u001b[39mo\u001b[39m\u001b[39mo\u001b[39m\u001b[39mo\u001b[39m\u001b[39mo\u001b[39m\u001b[39m \u001b[39m\u001b[39mo\u001b[39m\u001b[39mo\u001b[39m\u001b[39mo\u001b[39m\u001b[39mo\u001b[39m\u001b[39mo\u001b[39m\u001b[39m \u001b[39m\u001b[39m \u001b[39m\u001b[39m \u001b[39m\u001b[39m \u001b[39m\u001b[39m \u001b[39m\u001b[39m \u001b[39m\u001b[39m \u001b[39m\u001b[39m \u001b[39m\u001b[39m \u001b[39m\u001b[39m \u001b[39m\u001b[39m \u001b[39m\u001b[39m \u001b[39m\u001b[39m \u001b[39m\u001b[39m \u001b[39m\n",
      "  79| \u001b[39m \u001b[39m\u001b[39m \u001b[39m\u001b[39m \u001b[39m\u001b[39m \u001b[39m\u001b[39m \u001b[39m\u001b[39m \u001b[39m\u001b[39m \u001b[39m\u001b[39m \u001b[39m\u001b[39m \u001b[39m\u001b[39m \u001b[39m\u001b[39m \u001b[39m\u001b[39m \u001b[39m\u001b[39m \u001b[39m\u001b[39m \u001b[39m\u001b[39m \u001b[39m\u001b[39m \u001b[39m\u001b[39m \u001b[39m\u001b[39m \u001b[39m\u001b[39m \u001b[39m\u001b[39m \u001b[39m\u001b[39m \u001b[39m\u001b[39m \u001b[39m\u001b[39m \u001b[39m\u001b[39m \u001b[39m\u001b[39m \u001b[39m\u001b[39m \u001b[39m\u001b[39mo\u001b[39m\u001b[39mo\u001b[39m\u001b[39mo\u001b[39m\u001b[39mo\u001b[39m\u001b[39mo\u001b[39m\u001b[39mo\u001b[39m\u001b[39mo\u001b[39m\u001b[39mo\u001b[39m\u001b[39mo\u001b[39m\u001b[39mo\u001b[39m\u001b[39mo\u001b[39m\u001b[39mo\u001b[39m\u001b[39mo\u001b[39m\u001b[39mo\u001b[39m\u001b[39mo\u001b[39m\u001b[39m \u001b[39m\u001b[39mo\u001b[39m\u001b[39mo\u001b[39m\u001b[39mo\u001b[39m\u001b[39mo\u001b[39m\u001b[39mo\u001b[39m\u001b[39mo\u001b[39m\u001b[39mo\u001b[39m\u001b[39m \u001b[39m\u001b[39m \u001b[39m\u001b[39m \u001b[39m\u001b[39m \u001b[39m\u001b[39m \u001b[39m\u001b[39m \u001b[39m\u001b[39m \u001b[39m\u001b[39m \u001b[39m\u001b[39m \u001b[39m\u001b[39m \u001b[39m\u001b[39m \u001b[39m\u001b[39m \u001b[39m\n",
      "  63| \u001b[39m \u001b[39m\u001b[39m \u001b[39m\u001b[39m \u001b[39m\u001b[39m \u001b[39m\u001b[39m \u001b[39m\u001b[39m \u001b[39m\u001b[39m \u001b[39m\u001b[39m \u001b[39m\u001b[39m \u001b[39m\u001b[39m \u001b[39m\u001b[39m \u001b[39m\u001b[39m \u001b[39m\u001b[39m \u001b[39m\u001b[39m \u001b[39m\u001b[39m \u001b[39m\u001b[39m \u001b[39m\u001b[39m \u001b[39m\u001b[39m \u001b[39m\u001b[39m \u001b[39m\u001b[39m \u001b[39m\u001b[39m \u001b[39m\u001b[39m \u001b[39m\u001b[39m \u001b[39m\u001b[39mo\u001b[39m\u001b[39m \u001b[39m\u001b[39mo\u001b[39m\u001b[39mo\u001b[39m\u001b[39mo\u001b[39m\u001b[39mo\u001b[39m\u001b[39mo\u001b[39m\u001b[39mo\u001b[39m\u001b[39mo\u001b[39m\u001b[39mo\u001b[39m\u001b[39mo\u001b[39m\u001b[39mo\u001b[39m\u001b[39mo\u001b[39m\u001b[39mo\u001b[39m\u001b[39mo\u001b[39m\u001b[39mo\u001b[39m\u001b[39mo\u001b[39m\u001b[39mo\u001b[39m\u001b[39m \u001b[39m\u001b[39mo\u001b[39m\u001b[39mo\u001b[39m\u001b[39mo\u001b[39m\u001b[39mo\u001b[39m\u001b[39mo\u001b[39m\u001b[39mo\u001b[39m\u001b[39mo\u001b[39m\u001b[39m \u001b[39m\u001b[39m \u001b[39m\u001b[39m \u001b[39m\u001b[39m \u001b[39m\u001b[39m \u001b[39m\u001b[39m \u001b[39m\u001b[39m \u001b[39m\u001b[39m \u001b[39m\u001b[39m \u001b[39m\u001b[39m \u001b[39m\u001b[39m \u001b[39m\u001b[39m \u001b[39m\n",
      "  47| \u001b[39m \u001b[39m\u001b[39m \u001b[39m\u001b[39m \u001b[39m\u001b[39m \u001b[39m\u001b[39m \u001b[39m\u001b[39m \u001b[39m\u001b[39m \u001b[39m\u001b[39m \u001b[39m\u001b[39m \u001b[39m\u001b[39m \u001b[39m\u001b[39m \u001b[39m\u001b[39m \u001b[39m\u001b[39m \u001b[39m\u001b[39m \u001b[39m\u001b[39m \u001b[39m\u001b[39m \u001b[39m\u001b[39m \u001b[39m\u001b[39m \u001b[39m\u001b[39m \u001b[39m\u001b[39m \u001b[39m\u001b[39m \u001b[39m\u001b[39m \u001b[39m\u001b[39m \u001b[39m\u001b[39mo\u001b[39m\u001b[39mo\u001b[39m\u001b[39mo\u001b[39m\u001b[39mo\u001b[39m\u001b[39mo\u001b[39m\u001b[39mo\u001b[39m\u001b[39mo\u001b[39m\u001b[39mo\u001b[39m\u001b[39mo\u001b[39m\u001b[39mo\u001b[39m\u001b[39mo\u001b[39m\u001b[39mo\u001b[39m\u001b[39mo\u001b[39m\u001b[39mo\u001b[39m\u001b[39mo\u001b[39m\u001b[39mo\u001b[39m\u001b[39mo\u001b[39m\u001b[39mo\u001b[39m\u001b[39m \u001b[39m\u001b[39mo\u001b[39m\u001b[39mo\u001b[39m\u001b[39mo\u001b[39m\u001b[39mo\u001b[39m\u001b[39mo\u001b[39m\u001b[39mo\u001b[39m\u001b[39mo\u001b[39m\u001b[39m \u001b[39m\u001b[39mo\u001b[39m\u001b[39m \u001b[39m\u001b[39m \u001b[39m\u001b[39m \u001b[39m\u001b[39m \u001b[39m\u001b[39m \u001b[39m\u001b[39m \u001b[39m\u001b[39m \u001b[39m\u001b[39m \u001b[39m\u001b[39m \u001b[39m\u001b[39m \u001b[39m\n",
      "  32| \u001b[39m \u001b[39m\u001b[39m \u001b[39m\u001b[39m \u001b[39m\u001b[39m \u001b[39m\u001b[39m \u001b[39m\u001b[39m \u001b[39m\u001b[39m \u001b[39m\u001b[39m \u001b[39m\u001b[39m \u001b[39m\u001b[39m \u001b[39m\u001b[39m \u001b[39m\u001b[39m \u001b[39m\u001b[39m \u001b[39m\u001b[39m \u001b[39m\u001b[39m \u001b[39m\u001b[39m \u001b[39m\u001b[39m \u001b[39m\u001b[39m \u001b[39m\u001b[39m \u001b[39m\u001b[39m \u001b[39m\u001b[39mo\u001b[39m\u001b[39m \u001b[39m\u001b[39mo\u001b[39m\u001b[39mo\u001b[39m\u001b[39mo\u001b[39m\u001b[39mo\u001b[39m\u001b[39mo\u001b[39m\u001b[39mo\u001b[39m\u001b[39mo\u001b[39m\u001b[39mo\u001b[39m\u001b[39mo\u001b[39m\u001b[39mo\u001b[39m\u001b[39mo\u001b[39m\u001b[39mo\u001b[39m\u001b[39mo\u001b[39m\u001b[39mo\u001b[39m\u001b[39mo\u001b[39m\u001b[39mo\u001b[39m\u001b[39mo\u001b[39m\u001b[39mo\u001b[39m\u001b[39mo\u001b[39m\u001b[39m \u001b[39m\u001b[39mo\u001b[39m\u001b[39mo\u001b[39m\u001b[39mo\u001b[39m\u001b[39mo\u001b[39m\u001b[39mo\u001b[39m\u001b[39mo\u001b[39m\u001b[39mo\u001b[39m\u001b[39mo\u001b[39m\u001b[39mo\u001b[39m\u001b[39m \u001b[39m\u001b[39m \u001b[39m\u001b[39m \u001b[39m\u001b[39m \u001b[39m\u001b[39m \u001b[39m\u001b[39m \u001b[39m\u001b[39m \u001b[39m\u001b[39m \u001b[39m\u001b[39m \u001b[39m\u001b[39m \u001b[39m\n",
      "  16| \u001b[39m \u001b[39m\u001b[39m \u001b[39m\u001b[39m \u001b[39m\u001b[39m \u001b[39m\u001b[39m \u001b[39m\u001b[39m \u001b[39m\u001b[39m \u001b[39m\u001b[39m \u001b[39m\u001b[39m \u001b[39m\u001b[39m \u001b[39m\u001b[39m \u001b[39m\u001b[39m \u001b[39m\u001b[39m \u001b[39m\u001b[39m \u001b[39m\u001b[39m \u001b[39m\u001b[39m \u001b[39m\u001b[39m \u001b[39m\u001b[39m \u001b[39m\u001b[39mo\u001b[39m\u001b[39mo\u001b[39m\u001b[39mo\u001b[39m\u001b[39m \u001b[39m\u001b[39mo\u001b[39m\u001b[39mo\u001b[39m\u001b[39mo\u001b[39m\u001b[39mo\u001b[39m\u001b[39mo\u001b[39m\u001b[39mo\u001b[39m\u001b[39mo\u001b[39m\u001b[39mo\u001b[39m\u001b[39mo\u001b[39m\u001b[39mo\u001b[39m\u001b[39mo\u001b[39m\u001b[39mo\u001b[39m\u001b[39mo\u001b[39m\u001b[39mo\u001b[39m\u001b[39mo\u001b[39m\u001b[39mo\u001b[39m\u001b[39mo\u001b[39m\u001b[39mo\u001b[39m\u001b[39mo\u001b[39m\u001b[39m \u001b[39m\u001b[39mo\u001b[39m\u001b[39mo\u001b[39m\u001b[39mo\u001b[39m\u001b[39mo\u001b[39m\u001b[39mo\u001b[39m\u001b[39mo\u001b[39m\u001b[39mo\u001b[39m\u001b[39mo\u001b[39m\u001b[39mo\u001b[39m\u001b[39mo\u001b[39m\u001b[39mo\u001b[39m\u001b[39mo\u001b[39m\u001b[39mo\u001b[39m\u001b[39m \u001b[39m\u001b[39m \u001b[39m\u001b[39m \u001b[39m\u001b[39m \u001b[39m\u001b[39m \u001b[39m\u001b[39m \u001b[39m\n",
      "   1| \u001b[39mo\u001b[39m\u001b[39m \u001b[39m\u001b[39m \u001b[39m\u001b[39m \u001b[39m\u001b[39mo\u001b[39m\u001b[39m \u001b[39m\u001b[39m \u001b[39m\u001b[39mo\u001b[39m\u001b[39m \u001b[39m\u001b[39mo\u001b[39m\u001b[39mo\u001b[39m\u001b[39mo\u001b[39m\u001b[39mo\u001b[39m\u001b[39mo\u001b[39m\u001b[39mo\u001b[39m\u001b[39mo\u001b[39m\u001b[39mo\u001b[39m\u001b[39mo\u001b[39m\u001b[39mo\u001b[39m\u001b[39mo\u001b[39m\u001b[39mo\u001b[39m\u001b[39m \u001b[39m\u001b[39mo\u001b[39m\u001b[39mo\u001b[39m\u001b[39mo\u001b[39m\u001b[39mo\u001b[39m\u001b[39mo\u001b[39m\u001b[39mo\u001b[39m\u001b[39mo\u001b[39m\u001b[39mo\u001b[39m\u001b[39mo\u001b[39m\u001b[39mo\u001b[39m\u001b[39mo\u001b[39m\u001b[39mo\u001b[39m\u001b[39mo\u001b[39m\u001b[39mo\u001b[39m\u001b[39mo\u001b[39m\u001b[39mo\u001b[39m\u001b[39mo\u001b[39m\u001b[39mo\u001b[39m\u001b[39mo\u001b[39m\u001b[39m \u001b[39m\u001b[39mo\u001b[39m\u001b[39mo\u001b[39m\u001b[39mo\u001b[39m\u001b[39mo\u001b[39m\u001b[39mo\u001b[39m\u001b[39mo\u001b[39m\u001b[39mo\u001b[39m\u001b[39mo\u001b[39m\u001b[39mo\u001b[39m\u001b[39mo\u001b[39m\u001b[39mo\u001b[39m\u001b[39mo\u001b[39m\u001b[39mo\u001b[39m\u001b[39mo\u001b[39m\u001b[39mo\u001b[39m\u001b[39mo\u001b[39m\u001b[39m \u001b[39m\u001b[39mo\u001b[39m\u001b[39mo\u001b[39m\n",
      "     -------------------------------------------------------------\n",
      "\u001b[39m     \u001b[39m2 2 2 2 3 3 3 3 3 3 3 3 3 3 3 3 3 3 3 3 3 3 3 3 3 3 3 3 3 3 3 \n",
      "\u001b[39m     \u001b[39m9 9 9 9 0 0 0 0 0 1 1 1 1 1 2 2 2 2 2 3 3 3 3 3 3 4 4 4 4 4 5 \n",
      "\u001b[39m     \u001b[39m4 5 7 9 1 3 5 7 9 1 3 4 6 8 0 2 4 6 8 0 2 3 5 7 9 1 3 5 7 9 1 \n",
      "\u001b[39m     \u001b[39m  . . . . . . . . .   . . . . . . . . .   . . . . . . . . .   \n",
      "\u001b[39m     \u001b[39m  9 8 7 6 5 4 3 2 1   9 8 7 6 5 4 3 2 1   9 8 7 6 5 4 3 2 1   \n",
      "\u001b[39m     \u001b[39m                                                              \n",
      "\n",
      "------------------------\n",
      "|       Summary        |\n",
      "------------------------\n",
      "|  observations: 5000  |\n",
      "|min value: 294.000000 |\n",
      "|  mean : 328.062000   |\n",
      "|max value: 351.000000 |\n",
      "------------------------\n"
     ]
    }
   ],
   "source": [
    "!anonlink describe 'novt_clk_0.json'"
   ]
  },
  {
   "cell_type": "markdown",
   "metadata": {},
   "source": [
    "### Block dataset\n"
   ]
  },
  {
   "cell_type": "code",
   "execution_count": 9,
   "metadata": {},
   "outputs": [
    {
     "name": "stdout",
     "output_type": "stream",
     "text": [
      "{\n",
      "    \"type\": \"lambda-fold\",\n",
      "    \"version\": 1,\n",
      "    \"config\": {\n",
      "        \"blocking-features\": [1, 2],\n",
      "        \"Lambda\": 5,\n",
      "        \"bf-len\": 2048,\n",
      "        \"num-hash-funcs\": 10,\n",
      "        \"K\": 80,\n",
      "        \"input-clks\": false,\n",
      "        \"random_state\": 0\n",
      "    }\n",
      "}\n"
     ]
    }
   ],
   "source": [
    "with open(\"blocking_schema.json\") as f:\n",
    "    print(f.read())"
   ]
  },
  {
   "cell_type": "code",
   "execution_count": 10,
   "metadata": {},
   "outputs": [
    {
     "name": "stdout",
     "output_type": "stream",
     "text": [
      "Number of Blocks:   20584\n",
      "Minimum Block Size: 1\n",
      "Maximum Block Size: 44\n",
      "Average Block Size: 1\n",
      "Median Block Size:  1\n",
      "Standard Deviation of Block Size:  0.834023740486585\n"
     ]
    }
   ],
   "source": [
    "!anonlink block 'data/ncvr_numrec_5000_modrec_2_ocp_0_myp_0_nump_10.csv' 'blocking_schema.json' 'novt_blocks_0.json'"
   ]
  },
  {
   "cell_type": "code",
   "execution_count": 11,
   "metadata": {},
   "outputs": [
    {
     "name": "stdout",
     "output_type": "stream",
     "text": [
      "Number of Blocks:   20525\n",
      "Minimum Block Size: 1\n",
      "Maximum Block Size: 38\n",
      "Average Block Size: 1\n",
      "Median Block Size:  1\n",
      "Standard Deviation of Block Size:  0.8738307514471261\n"
     ]
    }
   ],
   "source": [
    "!anonlink block 'data/ncvr_numrec_5000_modrec_2_ocp_0_myp_1_nump_10.csv' 'blocking_schema.json' 'novt_blocks_1.json'"
   ]
  },
  {
   "cell_type": "code",
   "execution_count": 12,
   "metadata": {},
   "outputs": [
    {
     "name": "stdout",
     "output_type": "stream",
     "text": [
      "Number of Blocks:   20559\n",
      "Minimum Block Size: 1\n",
      "Maximum Block Size: 35\n",
      "Average Block Size: 1\n",
      "Median Block Size:  1\n",
      "Standard Deviation of Block Size:  0.8066635755263701\n"
     ]
    }
   ],
   "source": [
    "!anonlink block 'data/ncvr_numrec_5000_modrec_2_ocp_0_myp_2_nump_10.csv' 'blocking_schema.json' 'novt_blocks_2.json'"
   ]
  },
  {
   "cell_type": "markdown",
   "metadata": {},
   "source": [
    "## Upload CLKs and Blocks to Server"
   ]
  },
  {
   "cell_type": "code",
   "execution_count": null,
   "metadata": {},
   "outputs": [],
   "source": []
  },
  {
   "cell_type": "markdown",
   "metadata": {},
   "source": [
    "## Get Ground Truth"
   ]
  },
  {
   "cell_type": "code",
   "execution_count": 41,
   "metadata": {},
   "outputs": [
    {
     "name": "stdout",
     "output_type": "stream",
     "text": [
      "we have 1649 true matches\n"
     ]
    }
   ],
   "source": [
    "truth = []\n",
    "\n",
    "for party in [0, 1, 2]:\n",
    "    df = pd.read_csv('data/ncvr_numrec_5000_modrec_2_ocp_0_myp_{}_nump_10.csv'.format(party))\n",
    "    truth.append(pd.DataFrame({'id{}'.format(party): df.index, 'recid': df['recid']}))\n",
    "    \n",
    "dfj = truth[0].merge(truth[1], on='recid', how='outer')\n",
    "for df in truth[2:]:\n",
    "    dfj = dfj.merge(df, on='recid', how='outer')\n",
    "\n",
    "dfj = dfj.drop(columns=['recid'])\n",
    "true_matches = set()\n",
    "for row in dfj.itertuples(index=False):\n",
    "    cand = [(i, int(x)) for i, x in enumerate(row) if not math.isnan(x)]\n",
    "    if len(cand) > 1:\n",
    "        true_matches.add(tuple(cand))\n",
    "\n",
    "print(f'we have {len(true_matches)} true matches')"
   ]
  },
  {
   "cell_type": "markdown",
   "metadata": {},
   "source": [
    "## Solve with Anonlink"
   ]
  },
  {
   "cell_type": "code",
   "execution_count": 52,
   "metadata": {},
   "outputs": [],
   "source": [
    "import json\n",
    "import anonlink\n",
    "\n",
    "\n",
    "def combine_clks_blocks(clk_f, block_f):\n",
    "    \"\"\"Combine CLKs and blocks to produce a dictionary of CLK to list of block IDs.\"\"\"\n",
    "    try:\n",
    "        blocks = json.load(block_f)['blocks']\n",
    "        clks = json.load(clk_f)['clks']\n",
    "    except ValueError:\n",
    "        msg = 'Invalid CLKs or Blocks'\n",
    "        raise_from(ValueError(msg), e)\n",
    "\n",
    "    output = [[clk] for clk in clks]\n",
    "\n",
    "    for block_key, rec_ids in blocks.items():\n",
    "        for rid in rec_ids:\n",
    "            output[rid].append(block_key)\n",
    "    return output\n",
    "\n",
    "\n",
    "def deserialize_bitarray(bytes_data):\n",
    "    ba = bitarray(endian='big')\n",
    "    data_as_bytes = base64.decodebytes(bytes_data.encode())\n",
    "    ba.frombytes(data_as_bytes)\n",
    "    return ba\n",
    "\n",
    "\n",
    "def deserialize_filters(filters):\n",
    "    res = []\n",
    "    for i, f in enumerate(filters):\n",
    "        ba = deserialize_bitarray(f)\n",
    "        res.append(ba)\n",
    "    return res\n",
    "\n",
    "\n",
    "def solve(encodings, rec_to_blocks, threshold: float = 0.8):\n",
    "    \"\"\" entity resolution, baby\n",
    "\n",
    "    calls anonlink to do the heavy lifting.\n",
    "\n",
    "    :param encodings: a sequence of lists of Bloom filters (bitarray). One for each data provider\n",
    "    :param rec_to_blocks: a sequence of dictionaries, mapping a record id to the list of blocks it is part of. Again,\n",
    "                          one per data provider, same order as encodings.\n",
    "    :param threshold: similarity threshold for solving\n",
    "    :return: same as the anonlink solver.\n",
    "             An sequence of groups. Each group is an sequence of\n",
    "             records. Two records are in the same group iff they represent\n",
    "             the same entity. Here, a record is a two-tuple of dataset index\n",
    "             and record index.\n",
    "    \"\"\"\n",
    "    def my_blocking_f(ds_idx, rec_idx, _):\n",
    "        return rec_to_blocks[ds_idx][rec_idx]\n",
    "\n",
    "    candidate_pairs = anonlink.candidate_generation.find_candidate_pairs(\n",
    "        encodings,\n",
    "        anonlink.similarities.dice_coefficient,\n",
    "        threshold=threshold,\n",
    "        blocking_f=my_blocking_f)\n",
    "    # Need to use the probabilistic greedy solver to be able to remove the duplicate. It is not configurable\n",
    "    # with the native greedy solver.\n",
    "    return anonlink.solving.probabilistic_greedy_solve(candidate_pairs, merge_threshold=1.0)"
   ]
  },
  {
   "cell_type": "code",
   "execution_count": 53,
   "metadata": {},
   "outputs": [
    {
     "name": "stdout",
     "output_type": "stream",
     "text": [
      "Combining CLKs and Blocks for Party 0\n",
      "Combining CLKs and Blocks for Party 1\n",
      "Combining CLKs and Blocks for Party 2\n"
     ]
    }
   ],
   "source": [
    "clk_files = ['novt_clk_{}.json'.format(x) for x in range(3)]\n",
    "block_files = ['novt_blocks_{}.json'.format(x) for x in range(3)]\n",
    "\n",
    "clk_blocks = []\n",
    "\n",
    "for i, (clk_f, block_f) in enumerate(zip(clk_files, block_files)):\n",
    "    print('Combining CLKs and Blocks for Party {}'.format(i))\n",
    "    clk_blocks.append(combine_clks_blocks(open(clk_f, 'rb'), open(block_f, 'rb')))\n",
    "    \n",
    "    \n",
    "clk_groups = []\n",
    "rec_to_blocks = {}\n",
    "\n",
    "for i, clk_blk in enumerate(clk_blocks):\n",
    "    clk_groups.append(deserialize_filters([r[0] for r in clk_blk]))\n",
    "    rec_to_blocks[i] = {rind: clk_blk[rind][1:] for rind in range(len(clk_blk))}\n",
    "\n",
    "    "
   ]
  },
  {
   "cell_type": "code",
   "execution_count": 54,
   "metadata": {},
   "outputs": [],
   "source": [
    "threshold = 0.9\n",
    "found_groups = solve(clk_groups, rec_to_blocks, threshold)"
   ]
  },
  {
   "cell_type": "markdown",
   "metadata": {},
   "source": [
    "## Assess Precision and Recall"
   ]
  },
  {
   "cell_type": "code",
   "execution_count": 55,
   "metadata": {},
   "outputs": [
    {
     "name": "stdout",
     "output_type": "stream",
     "text": [
      "precision: 0.9993939393939394, recall: 1.0\n"
     ]
    }
   ],
   "source": [
    "tp = len([x for x in found_groups if x in true_matches])\n",
    "fp = len([x for x in found_groups if x not in true_matches])\n",
    "fn = len([x for x in true_matches if x not in found_groups])\n",
    "\n",
    "precision = tp / (tp + fp)\n",
    "recall = tp / (tp + fn)\n",
    "\n",
    "print(f'precision: {precision}, recall: {recall}')"
   ]
  },
  {
   "cell_type": "markdown",
   "metadata": {},
   "source": [
    "## Assess Reduction Ratio"
   ]
  },
  {
   "cell_type": "code",
   "execution_count": 56,
   "metadata": {},
   "outputs": [],
   "source": [
    "import json\n",
    "import pandas as pd\n",
    "from blocklib import assess_blocks_2party\n",
    "\n",
    "block_a = json.load(open('novt_blocks_0.json'))['blocks']\n",
    "block_b = json.load(open('novt_blocks_1.json'))['blocks']\n",
    "block_c = json.load(open('novt_blocks_2.json'))['blocks']"
   ]
  },
  {
   "cell_type": "code",
   "execution_count": 57,
   "metadata": {},
   "outputs": [],
   "source": [
    "data = []\n",
    "for party in [0, 1, 2]:\n",
    "    dfa = pd.read_csv('data/ncvr_numrec_5000_modrec_2_ocp_0_myp_{}_nump_10.csv'.format(party))\n",
    "    recid = dfa['recid'].values\n",
    "    data.append(recid)"
   ]
  },
  {
   "cell_type": "code",
   "execution_count": 58,
   "metadata": {},
   "outputs": [
    {
     "name": "stdout",
     "output_type": "stream",
     "text": [
      "\n",
      "With blocking, we reduced 125,000,000,000 comparisons to 189,271 comparisons i.e. the reduction ratio=0.999998485832\n"
     ]
    }
   ],
   "source": [
    "from collections import defaultdict\n",
    "\n",
    "def reduction_ratio(filtered_reverse_indices, data, K):\n",
    "    \"\"\"Assess reduction ratio for multiple parties.\"\"\"\n",
    "    naive_num_comparison = 1\n",
    "    for d in data:\n",
    "        naive_num_comparison *= len(d)\n",
    "\n",
    "    block_keys = defaultdict(int)  # type: Dict[Any, int]\n",
    "    for reversed_index in filtered_reverse_indices:\n",
    "        for key in reversed_index:\n",
    "            block_keys[key] += 1\n",
    "    final_block_keys = [key for key, count in block_keys.items() if count >= K]\n",
    "\n",
    "    reduced_num_comparison = 0\n",
    "    for key in final_block_keys:\n",
    "        num_comparison = 1\n",
    "        for reversed_index in filtered_reverse_indices:\n",
    "            index = reversed_index.get(key, [0])\n",
    "            num_comparison *= len(index)\n",
    "        reduced_num_comparison += num_comparison\n",
    "    rr = 1 - reduced_num_comparison / naive_num_comparison\n",
    "    return rr, reduced_num_comparison, naive_num_comparison\n",
    "\n",
    "rr, reduced_num_comparison, naive_num_comparison = reduction_ratio([block_a, block_b, block_c], data, K=3)\n",
    "\n",
    "print('\\nWith blocking, we reduced {:,} comparisons to {:,} comparisons i.e. the reduction ratio={}'\n",
    "      .format(naive_num_comparison, reduced_num_comparison, rr))"
   ]
  }
 ],
 "metadata": {
  "kernelspec": {
   "display_name": "Python 3",
   "language": "python",
   "name": "python3"
  },
  "language_info": {
   "codemirror_mode": {
    "name": "ipython",
    "version": 3
   },
   "file_extension": ".py",
   "mimetype": "text/x-python",
   "name": "python",
   "nbconvert_exporter": "python",
   "pygments_lexer": "ipython3",
   "version": "3.7.4"
  },
  "pycharm": {
   "stem_cell": {
    "cell_type": "raw",
    "metadata": {
     "collapsed": false
    },
    "source": []
   }
  }
 },
 "nbformat": 4,
 "nbformat_minor": 4
}
