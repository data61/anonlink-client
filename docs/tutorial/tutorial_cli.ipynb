{
 "cells": [
  {
   "cell_type": "markdown",
   "metadata": {},
   "source": [
    "# Tutorial for CLI tool `anonlink-client`\n",
    "\n",
    "For this tutorial we are going to process a data set for private linkage with clkhash using the command line tool `anonlink`.\n",
    "\n",
    "Note you can also use the [Python API](./tutorial_api.ipynb).\n",
    "\n",
    "The Python package `recordlinkage` has a [tutorial](http://recordlinkage.readthedocs.io/en/latest/notebooks/link_two_dataframes.html) linking data sets in the clear, we will try duplicate that in a privacy preserving setting.\n",
    "\n",
    "First install clkhash, recordlinkage and a few data science tools (pandas and numpy).\n",
    "\n",
    "    $ pip install -U anonlink-client recordlinkage numpy pandas"
   ]
  },
  {
   "cell_type": "code",
   "execution_count": 2,
   "metadata": {
    "pycharm": {
     "is_executing": false
    }
   },
   "outputs": [],
   "source": [
    "import json\n",
    "import numpy as np\n",
    "import pandas as pd\n",
    "import itertools"
   ]
  },
  {
   "cell_type": "code",
   "execution_count": 3,
   "metadata": {},
   "outputs": [],
   "source": [
    "import recordlinkage\n",
    "from recordlinkage.datasets import load_febrl4"
   ]
  },
  {
   "cell_type": "markdown",
   "metadata": {
    "pycharm": {}
   },
   "source": [
    "## Data Exploration\n",
    "\n",
    "First we have a look at the dataset."
   ]
  },
  {
   "cell_type": "code",
   "execution_count": 4,
   "metadata": {
    "pycharm": {
     "is_executing": false
    }
   },
   "outputs": [],
   "source": [
    "dfA, dfB = load_febrl4()\n",
    "\n",
    "dfA.head()\n",
    "\n",
    "\n",
    "dfA = dfA.iloc[:5]\n",
    "dfB = dfB.iloc[:5]"
   ]
  },
  {
   "cell_type": "markdown",
   "metadata": {
    "pycharm": {}
   },
   "source": [
    "Note that for computing this linkage we will **not** use the social security id column or the `rec_id` index."
   ]
  },
  {
   "cell_type": "code",
   "execution_count": 5,
   "metadata": {
    "pycharm": {
     "is_executing": false
    }
   },
   "outputs": [
    {
     "data": {
      "text/plain": [
       "Index(['given_name', 'surname', 'street_number', 'address_1', 'address_2',\n",
       "       'suburb', 'postcode', 'state', 'date_of_birth', 'soc_sec_id'],\n",
       "      dtype='object')"
      ]
     },
     "execution_count": 5,
     "metadata": {},
     "output_type": "execute_result"
    }
   ],
   "source": [
    "dfA.columns"
   ]
  },
  {
   "cell_type": "code",
   "execution_count": 8,
   "metadata": {
    "pycharm": {
     "is_executing": false
    }
   },
   "outputs": [],
   "source": [
    "dfA.to_csv('PII_a.csv')"
   ]
  },
  {
   "cell_type": "markdown",
   "metadata": {
    "pycharm": {}
   },
   "source": [
    "## Hashing Schema Definition\n",
    "\n",
    "A hashing schema instructs clkhash how to treat each column for generating CLKs. A detailed description of the hashing schema can be found in the [api docs](http://clkhash.readthedocs.io/en/latest/schema.html). We will ignore the columns 'rec_id' and 'soc_sec_id' for CLK generation.\n",
    "\n"
   ]
  },
  {
   "cell_type": "code",
   "execution_count": 9,
   "metadata": {
    "pycharm": {
     "is_executing": false
    }
   },
   "outputs": [
    {
     "name": "stdout",
     "output_type": "stream",
     "text": [
      "{\n",
      "  \"version\": 3,\n",
      "  \"clkConfig\": {\n",
      "    \"l\": 1024,\n",
      "    \"kdf\": {\n",
      "      \"type\": \"HKDF\",\n",
      "      \"hash\": \"SHA256\",\n",
      "        \"info\": \"c2NoZW1hX2V4YW1wbGU=\",\n",
      "        \"salt\": \"SCbL2zHNnmsckfzchsNkZY9XoHk96P/G5nUBrM7ybymlEFsMV6PAeDZCNp3rfNUPCtLDMOGQHG4pCQpfhiHCyA==\",\n",
      "        \"keySize\": 64\n",
      "    }\n",
      "  },\n",
      "  \"features\": [\n",
      "    {\n",
      "      \"identifier\": \"rec_id\",\n",
      "      \"ignored\": true\n",
      "    },\n",
      "    {\n",
      "      \"identifier\": \"given_name\",\n",
      "      \"format\": { \"type\": \"string\", \"encoding\": \"utf-8\", \"maxLength\": 64 },\n",
      "      \"hashing\": { \"comparison\": {\"type\": \"ngram\", \"n\": 2}, \"strategy\": {\"bitsPerFeature\": 300}, \"hash\": {\"type\": \"doubleHash\"} }\n",
      "    },\n",
      "    {\n",
      "      \"identifier\": \"surname\",\n",
      "      \"format\": { \"type\": \"string\", \"encoding\": \"utf-8\", \"maxLength\": 64 },\n",
      "      \"hashing\": { \"comparison\": {\"type\": \"ngram\", \"n\": 2}, \"strategy\": {\"bitsPerFeature\": 300}, \"hash\": {\"type\": \"doubleHash\"} }\n",
      "    },\n",
      "    {\n",
      "      \"identifier\": \"street_number\",\n",
      "      \"format\": { \"type\": \"integer\" },\n",
      "      \"hashing\": { \"comparison\": {\"type\": \"ngram\", \"n\": 1, \"positional\": true}, \"strategy\": {\"bitsPerFeature\": 300}, \"missingValue\": {\"sentinel\": \"\"} }\n",
      "    },\n",
      "    {\n",
      "      \"identifier\": \"address_1\",\n",
      "      \"format\": { \"type\": \"string\", \"encoding\": \"utf-8\" },\n",
      "      \"hashing\": { \"comparison\": {\"type\": \"ngram\", \"n\": 2}, \"strategy\": {\"bitsPerFeature\":  300} }\n",
      "    },\n",
      "    {\n",
      "      \"identifier\": \"address_2\",\n",
      "      \"format\": { \"type\": \"string\", \"encoding\": \"utf-8\" },\n",
      "      \"hashing\": { \"comparison\": {\"type\": \"ngram\", \"n\": 2}, \"strategy\": {\"bitsPerFeature\":  300} }\n",
      "    },\n",
      "    {\n",
      "      \"identifier\": \"suburb\",\n",
      "      \"format\": { \"type\": \"string\", \"encoding\": \"utf-8\" },\n",
      "      \"hashing\": { \"comparison\": {\"type\": \"ngram\", \"n\": 2}, \"strategy\": {\"bitsPerFeature\":  300} }\n",
      "    },\n",
      "    {\n",
      "      \"identifier\": \"postcode\",\n",
      "      \"format\": { \"type\": \"integer\", \"minimum\": 100, \"maximum\": 9999 },\n",
      "      \"hashing\": { \"comparison\": {\"type\": \"ngram\", \"n\": 1, \"positional\": true}, \"strategy\": {\"bitsPerFeature\":  300} }\n",
      "    },\n",
      "    {\n",
      "      \"identifier\": \"state\",\n",
      "      \"format\": { \"type\": \"string\", \"encoding\": \"utf-8\", \"maxLength\": 3 },\n",
      "      \"hashing\": { \"comparison\": {\"type\": \"ngram\", \"n\": 2}, \"strategy\": {\"bitsPerFeature\": 300} }\n",
      "    },\n",
      "    {\n",
      "      \"identifier\": \"date_of_birth\",\n",
      "      \"format\": { \"type\": \"integer\" },\n",
      "      \"hashing\": { \"comparison\": {\"type\": \"ngram\", \"n\": 1, \"positional\": true}, \"strategy\": {\"bitsPerFeature\":  300}, \"missingValue\": {\"sentinel\": \"\"} }\n",
      "    },\n",
      "    {\n",
      "      \"identifier\": \"soc_sec_id\",\n",
      "      \"ignored\": true\n",
      "    }\n",
      "  ]\n",
      "}\n",
      "\n"
     ]
    }
   ],
   "source": [
    "with open(\"../_static/febrl_schema_v3_overweight.json\") as f:\n",
    "    print(f.read())"
   ]
  },
  {
   "cell_type": "markdown",
   "metadata": {
    "pycharm": {}
   },
   "source": [
    "## Validate the schema\n",
    "\n",
    "The command line tool can check that the linkage schema is valid:"
   ]
  },
  {
   "cell_type": "code",
   "execution_count": 7,
   "metadata": {
    "tags": [
     "nbval-ignore-output"
    ]
   },
   "outputs": [
    {
     "name": "stdout",
     "output_type": "stream",
     "text": [
      "\u001b[32mschema is valid\u001b[0m\n"
     ]
    }
   ],
   "source": [
    "!anonlink validate-schema \"../_static/febrl_schema_v3_overweight.json\""
   ]
  },
  {
   "cell_type": "markdown",
   "metadata": {
    "pycharm": {}
   },
   "source": [
    "## Hash the data\n",
    "\n",
    "We can now hash our Personally Identifiable Information (PII) data from the CSV file using our defined linkage schema. We must provide two *secret keys* to this command - these keys have to be used by both parties hashing data. For this toy example we will use the secret ‘secret’, for real data, make sure that the secret contains enough entropy, as knowledge of this secret is sufficient to reconstruct the PII information from a CLK! \n",
    "\n",
    "Also, **do not share these keys with anyone, except the other participating party.**"
   ]
  },
  {
   "cell_type": "code",
   "execution_count": 10,
   "metadata": {
    "pycharm": {
     "is_executing": false
    }
   },
   "outputs": [
    {
     "name": "stdout",
     "output_type": "stream",
     "text": [
      "\u001b[31mCLK data written to clks_a.json\u001b[0m\n"
     ]
    }
   ],
   "source": [
    "# NBVAL_IGNORE_OUTPUT\n",
    "!anonlink hash \"PII_a.csv\" secret \"../_static/febrl_schema_v3_overweight.json\" \"clks_a.json\""
   ]
  },
  {
   "cell_type": "markdown",
   "metadata": {
    "pycharm": {}
   },
   "source": [
    "## Inspect the output\n",
    "\n",
    "clkhash has hashed the PII, creating a Cryptographic Longterm Key for each entity. The stats output shows that the mean popcount (number of bits set) is quite high (949 out of 1024) which can effect accuracy.\n",
    "\n",
    "You can reduce the popcount by modify the  _'strategy'_ for the different fields. It allows to tune the contribution of a column to the CLK. This can be used to de-emphasise columns which are less suitable for linkage (e.g. information that changes frequently)."
   ]
  },
  {
   "cell_type": "code",
   "execution_count": 11,
   "metadata": {},
   "outputs": [
    {
     "name": "stdout",
     "output_type": "stream",
     "text": [
      "  ----------------------------------------------------------------------------------------------------------------------------\n",
      "  |                                                        popcounts                                                         |\n",
      "  ----------------------------------------------------------------------------------------------------------------------------\n",
      "\n",
      " 1| \u001b[39mo\u001b[39m\u001b[39m \u001b[39m\u001b[39m \u001b[39m\u001b[39m \u001b[39m\u001b[39m \u001b[39m\u001b[39m \u001b[39m\u001b[39m \u001b[39m\u001b[39m \u001b[39m\u001b[39m \u001b[39m\u001b[39m \u001b[39m\u001b[39m \u001b[39m\u001b[39m \u001b[39m\u001b[39m \u001b[39m\u001b[39m \u001b[39m\u001b[39m \u001b[39m\u001b[39m \u001b[39m\u001b[39m \u001b[39m\u001b[39m \u001b[39m\u001b[39m \u001b[39m\u001b[39m \u001b[39m\u001b[39mo\u001b[39m\u001b[39m \u001b[39m\u001b[39m \u001b[39m\u001b[39m \u001b[39m\u001b[39m \u001b[39m\u001b[39m \u001b[39m\u001b[39m \u001b[39m\u001b[39m \u001b[39m\u001b[39m \u001b[39m\u001b[39m \u001b[39m\u001b[39mo\u001b[39m\u001b[39m \u001b[39m\u001b[39m \u001b[39m\u001b[39m \u001b[39m\u001b[39m \u001b[39m\u001b[39m \u001b[39m\u001b[39m \u001b[39m\u001b[39m \u001b[39m\u001b[39m \u001b[39m\u001b[39m \u001b[39m\u001b[39m \u001b[39m\u001b[39m \u001b[39m\u001b[39m \u001b[39m\u001b[39m \u001b[39m\u001b[39m \u001b[39m\u001b[39m \u001b[39m\u001b[39m \u001b[39m\u001b[39m \u001b[39m\u001b[39m \u001b[39m\u001b[39m \u001b[39m\u001b[39mo\u001b[39m\u001b[39m \u001b[39m\u001b[39m \u001b[39m\u001b[39m \u001b[39m\u001b[39m \u001b[39m\u001b[39m \u001b[39m\u001b[39m \u001b[39m\u001b[39m \u001b[39m\u001b[39m \u001b[39m\u001b[39m \u001b[39m\u001b[39mo\u001b[39m\n",
      "  | \u001b[39mo\u001b[39m\u001b[39m \u001b[39m\u001b[39m \u001b[39m\u001b[39m \u001b[39m\u001b[39m \u001b[39m\u001b[39m \u001b[39m\u001b[39m \u001b[39m\u001b[39m \u001b[39m\u001b[39m \u001b[39m\u001b[39m \u001b[39m\u001b[39m \u001b[39m\u001b[39m \u001b[39m\u001b[39m \u001b[39m\u001b[39m \u001b[39m\u001b[39m \u001b[39m\u001b[39m \u001b[39m\u001b[39m \u001b[39m\u001b[39m \u001b[39m\u001b[39m \u001b[39m\u001b[39m \u001b[39m\u001b[39mo\u001b[39m\u001b[39m \u001b[39m\u001b[39m \u001b[39m\u001b[39m \u001b[39m\u001b[39m \u001b[39m\u001b[39m \u001b[39m\u001b[39m \u001b[39m\u001b[39m \u001b[39m\u001b[39m \u001b[39m\u001b[39m \u001b[39m\u001b[39mo\u001b[39m\u001b[39m \u001b[39m\u001b[39m \u001b[39m\u001b[39m \u001b[39m\u001b[39m \u001b[39m\u001b[39m \u001b[39m\u001b[39m \u001b[39m\u001b[39m \u001b[39m\u001b[39m \u001b[39m\u001b[39m \u001b[39m\u001b[39m \u001b[39m\u001b[39m \u001b[39m\u001b[39m \u001b[39m\u001b[39m \u001b[39m\u001b[39m \u001b[39m\u001b[39m \u001b[39m\u001b[39m \u001b[39m\u001b[39m \u001b[39m\u001b[39m \u001b[39m\u001b[39m \u001b[39m\u001b[39mo\u001b[39m\u001b[39m \u001b[39m\u001b[39m \u001b[39m\u001b[39m \u001b[39m\u001b[39m \u001b[39m\u001b[39m \u001b[39m\u001b[39m \u001b[39m\u001b[39m \u001b[39m\u001b[39m \u001b[39m\u001b[39m \u001b[39m\u001b[39mo\u001b[39m\n",
      "  | \u001b[39mo\u001b[39m\u001b[39m \u001b[39m\u001b[39m \u001b[39m\u001b[39m \u001b[39m\u001b[39m \u001b[39m\u001b[39m \u001b[39m\u001b[39m \u001b[39m\u001b[39m \u001b[39m\u001b[39m \u001b[39m\u001b[39m \u001b[39m\u001b[39m \u001b[39m\u001b[39m \u001b[39m\u001b[39m \u001b[39m\u001b[39m \u001b[39m\u001b[39m \u001b[39m\u001b[39m \u001b[39m\u001b[39m \u001b[39m\u001b[39m \u001b[39m\u001b[39m \u001b[39m\u001b[39m \u001b[39m\u001b[39mo\u001b[39m\u001b[39m \u001b[39m\u001b[39m \u001b[39m\u001b[39m \u001b[39m\u001b[39m \u001b[39m\u001b[39m \u001b[39m\u001b[39m \u001b[39m\u001b[39m \u001b[39m\u001b[39m \u001b[39m\u001b[39m \u001b[39m\u001b[39mo\u001b[39m\u001b[39m \u001b[39m\u001b[39m \u001b[39m\u001b[39m \u001b[39m\u001b[39m \u001b[39m\u001b[39m \u001b[39m\u001b[39m \u001b[39m\u001b[39m \u001b[39m\u001b[39m \u001b[39m\u001b[39m \u001b[39m\u001b[39m \u001b[39m\u001b[39m \u001b[39m\u001b[39m \u001b[39m\u001b[39m \u001b[39m\u001b[39m \u001b[39m\u001b[39m \u001b[39m\u001b[39m \u001b[39m\u001b[39m \u001b[39m\u001b[39m \u001b[39m\u001b[39m \u001b[39m\u001b[39mo\u001b[39m\u001b[39m \u001b[39m\u001b[39m \u001b[39m\u001b[39m \u001b[39m\u001b[39m \u001b[39m\u001b[39m \u001b[39m\u001b[39m \u001b[39m\u001b[39m \u001b[39m\u001b[39m \u001b[39m\u001b[39m \u001b[39m\u001b[39mo\u001b[39m\n",
      "  | \u001b[39mo\u001b[39m\u001b[39m \u001b[39m\u001b[39m \u001b[39m\u001b[39m \u001b[39m\u001b[39m \u001b[39m\u001b[39m \u001b[39m\u001b[39m \u001b[39m\u001b[39m \u001b[39m\u001b[39m \u001b[39m\u001b[39m \u001b[39m\u001b[39m \u001b[39m\u001b[39m \u001b[39m\u001b[39m \u001b[39m\u001b[39m \u001b[39m\u001b[39m \u001b[39m\u001b[39m \u001b[39m\u001b[39m \u001b[39m\u001b[39m \u001b[39m\u001b[39m \u001b[39m\u001b[39m \u001b[39m\u001b[39mo\u001b[39m\u001b[39m \u001b[39m\u001b[39m \u001b[39m\u001b[39m \u001b[39m\u001b[39m \u001b[39m\u001b[39m \u001b[39m\u001b[39m \u001b[39m\u001b[39m \u001b[39m\u001b[39m \u001b[39m\u001b[39m \u001b[39m\u001b[39mo\u001b[39m\u001b[39m \u001b[39m\u001b[39m \u001b[39m\u001b[39m \u001b[39m\u001b[39m \u001b[39m\u001b[39m \u001b[39m\u001b[39m \u001b[39m\u001b[39m \u001b[39m\u001b[39m \u001b[39m\u001b[39m \u001b[39m\u001b[39m \u001b[39m\u001b[39m \u001b[39m\u001b[39m \u001b[39m\u001b[39m \u001b[39m\u001b[39m \u001b[39m\u001b[39m \u001b[39m\u001b[39m \u001b[39m\u001b[39m \u001b[39m\u001b[39m \u001b[39m\u001b[39m \u001b[39m\u001b[39mo\u001b[39m\u001b[39m \u001b[39m\u001b[39m \u001b[39m\u001b[39m \u001b[39m\u001b[39m \u001b[39m\u001b[39m \u001b[39m\u001b[39m \u001b[39m\u001b[39m \u001b[39m\u001b[39m \u001b[39m\u001b[39m \u001b[39m\u001b[39mo\u001b[39m\n",
      "  | \u001b[39mo\u001b[39m\u001b[39m \u001b[39m\u001b[39m \u001b[39m\u001b[39m \u001b[39m\u001b[39m \u001b[39m\u001b[39m \u001b[39m\u001b[39m \u001b[39m\u001b[39m \u001b[39m\u001b[39m \u001b[39m\u001b[39m \u001b[39m\u001b[39m \u001b[39m\u001b[39m \u001b[39m\u001b[39m \u001b[39m\u001b[39m \u001b[39m\u001b[39m \u001b[39m\u001b[39m \u001b[39m\u001b[39m \u001b[39m\u001b[39m \u001b[39m\u001b[39m \u001b[39m\u001b[39m \u001b[39m\u001b[39mo\u001b[39m\u001b[39m \u001b[39m\u001b[39m \u001b[39m\u001b[39m \u001b[39m\u001b[39m \u001b[39m\u001b[39m \u001b[39m\u001b[39m \u001b[39m\u001b[39m \u001b[39m\u001b[39m \u001b[39m\u001b[39m \u001b[39m\u001b[39mo\u001b[39m\u001b[39m \u001b[39m\u001b[39m \u001b[39m\u001b[39m \u001b[39m\u001b[39m \u001b[39m\u001b[39m \u001b[39m\u001b[39m \u001b[39m\u001b[39m \u001b[39m\u001b[39m \u001b[39m\u001b[39m \u001b[39m\u001b[39m \u001b[39m\u001b[39m \u001b[39m\u001b[39m \u001b[39m\u001b[39m \u001b[39m\u001b[39m \u001b[39m\u001b[39m \u001b[39m\u001b[39m \u001b[39m\u001b[39m \u001b[39m\u001b[39m \u001b[39m\u001b[39m \u001b[39m\u001b[39mo\u001b[39m\u001b[39m \u001b[39m\u001b[39m \u001b[39m\u001b[39m \u001b[39m\u001b[39m \u001b[39m\u001b[39m \u001b[39m\u001b[39m \u001b[39m\u001b[39m \u001b[39m\u001b[39m \u001b[39m\u001b[39m \u001b[39m\u001b[39mo\u001b[39m\n",
      "  | \u001b[39mo\u001b[39m\u001b[39m \u001b[39m\u001b[39m \u001b[39m\u001b[39m \u001b[39m\u001b[39m \u001b[39m\u001b[39m \u001b[39m\u001b[39m \u001b[39m\u001b[39m \u001b[39m\u001b[39m \u001b[39m\u001b[39m \u001b[39m\u001b[39m \u001b[39m\u001b[39m \u001b[39m\u001b[39m \u001b[39m\u001b[39m \u001b[39m\u001b[39m \u001b[39m\u001b[39m \u001b[39m\u001b[39m \u001b[39m\u001b[39m \u001b[39m\u001b[39m \u001b[39m\u001b[39m \u001b[39m\u001b[39mo\u001b[39m\u001b[39m \u001b[39m\u001b[39m \u001b[39m\u001b[39m \u001b[39m\u001b[39m \u001b[39m\u001b[39m \u001b[39m\u001b[39m \u001b[39m\u001b[39m \u001b[39m\u001b[39m \u001b[39m\u001b[39m \u001b[39m\u001b[39mo\u001b[39m\u001b[39m \u001b[39m\u001b[39m \u001b[39m\u001b[39m \u001b[39m\u001b[39m \u001b[39m\u001b[39m \u001b[39m\u001b[39m \u001b[39m\u001b[39m \u001b[39m\u001b[39m \u001b[39m\u001b[39m \u001b[39m\u001b[39m \u001b[39m\u001b[39m \u001b[39m\u001b[39m \u001b[39m\u001b[39m \u001b[39m\u001b[39m \u001b[39m\u001b[39m \u001b[39m\u001b[39m \u001b[39m\u001b[39m \u001b[39m\u001b[39m \u001b[39m\u001b[39m \u001b[39m\u001b[39mo\u001b[39m\u001b[39m \u001b[39m\u001b[39m \u001b[39m\u001b[39m \u001b[39m\u001b[39m \u001b[39m\u001b[39m \u001b[39m\u001b[39m \u001b[39m\u001b[39m \u001b[39m\u001b[39m \u001b[39m\u001b[39m \u001b[39m\u001b[39mo\u001b[39m\n",
      "  | \u001b[39mo\u001b[39m\u001b[39m \u001b[39m\u001b[39m \u001b[39m\u001b[39m \u001b[39m\u001b[39m \u001b[39m\u001b[39m \u001b[39m\u001b[39m \u001b[39m\u001b[39m \u001b[39m\u001b[39m \u001b[39m\u001b[39m \u001b[39m\u001b[39m \u001b[39m\u001b[39m \u001b[39m\u001b[39m \u001b[39m\u001b[39m \u001b[39m\u001b[39m \u001b[39m\u001b[39m \u001b[39m\u001b[39m \u001b[39m\u001b[39m \u001b[39m\u001b[39m \u001b[39m\u001b[39m \u001b[39m\u001b[39mo\u001b[39m\u001b[39m \u001b[39m\u001b[39m \u001b[39m\u001b[39m \u001b[39m\u001b[39m \u001b[39m\u001b[39m \u001b[39m\u001b[39m \u001b[39m\u001b[39m \u001b[39m\u001b[39m \u001b[39m\u001b[39m \u001b[39m\u001b[39mo\u001b[39m\u001b[39m \u001b[39m\u001b[39m \u001b[39m\u001b[39m \u001b[39m\u001b[39m \u001b[39m\u001b[39m \u001b[39m\u001b[39m \u001b[39m\u001b[39m \u001b[39m\u001b[39m \u001b[39m\u001b[39m \u001b[39m\u001b[39m \u001b[39m\u001b[39m \u001b[39m\u001b[39m \u001b[39m\u001b[39m \u001b[39m\u001b[39m \u001b[39m\u001b[39m \u001b[39m\u001b[39m \u001b[39m\u001b[39m \u001b[39m\u001b[39m \u001b[39m\u001b[39m \u001b[39m\u001b[39mo\u001b[39m\u001b[39m \u001b[39m\u001b[39m \u001b[39m\u001b[39m \u001b[39m\u001b[39m \u001b[39m\u001b[39m \u001b[39m\u001b[39m \u001b[39m\u001b[39m \u001b[39m\u001b[39m \u001b[39m\u001b[39m \u001b[39m\u001b[39mo\u001b[39m\n",
      "  | \u001b[39mo\u001b[39m\u001b[39m \u001b[39m\u001b[39m \u001b[39m\u001b[39m \u001b[39m\u001b[39m \u001b[39m\u001b[39m \u001b[39m\u001b[39m \u001b[39m\u001b[39m \u001b[39m\u001b[39m \u001b[39m\u001b[39m \u001b[39m\u001b[39m \u001b[39m\u001b[39m \u001b[39m\u001b[39m \u001b[39m\u001b[39m \u001b[39m\u001b[39m \u001b[39m\u001b[39m \u001b[39m\u001b[39m \u001b[39m\u001b[39m \u001b[39m\u001b[39m \u001b[39m\u001b[39m \u001b[39m\u001b[39mo\u001b[39m\u001b[39m \u001b[39m\u001b[39m \u001b[39m\u001b[39m \u001b[39m\u001b[39m \u001b[39m\u001b[39m \u001b[39m\u001b[39m \u001b[39m\u001b[39m \u001b[39m\u001b[39m \u001b[39m\u001b[39m \u001b[39m\u001b[39mo\u001b[39m\u001b[39m \u001b[39m\u001b[39m \u001b[39m\u001b[39m \u001b[39m\u001b[39m \u001b[39m\u001b[39m \u001b[39m\u001b[39m \u001b[39m\u001b[39m \u001b[39m\u001b[39m \u001b[39m\u001b[39m \u001b[39m\u001b[39m \u001b[39m\u001b[39m \u001b[39m\u001b[39m \u001b[39m\u001b[39m \u001b[39m\u001b[39m \u001b[39m\u001b[39m \u001b[39m\u001b[39m \u001b[39m\u001b[39m \u001b[39m\u001b[39m \u001b[39m\u001b[39m \u001b[39m\u001b[39mo\u001b[39m\u001b[39m \u001b[39m\u001b[39m \u001b[39m\u001b[39m \u001b[39m\u001b[39m \u001b[39m\u001b[39m \u001b[39m\u001b[39m \u001b[39m\u001b[39m \u001b[39m\u001b[39m \u001b[39m\u001b[39m \u001b[39m\u001b[39mo\u001b[39m\n",
      "  | \u001b[39mo\u001b[39m\u001b[39m \u001b[39m\u001b[39m \u001b[39m\u001b[39m \u001b[39m\u001b[39m \u001b[39m\u001b[39m \u001b[39m\u001b[39m \u001b[39m\u001b[39m \u001b[39m\u001b[39m \u001b[39m\u001b[39m \u001b[39m\u001b[39m \u001b[39m\u001b[39m \u001b[39m\u001b[39m \u001b[39m\u001b[39m \u001b[39m\u001b[39m \u001b[39m\u001b[39m \u001b[39m\u001b[39m \u001b[39m\u001b[39m \u001b[39m\u001b[39m \u001b[39m\u001b[39m \u001b[39m\u001b[39mo\u001b[39m\u001b[39m \u001b[39m\u001b[39m \u001b[39m\u001b[39m \u001b[39m\u001b[39m \u001b[39m\u001b[39m \u001b[39m\u001b[39m \u001b[39m\u001b[39m \u001b[39m\u001b[39m \u001b[39m\u001b[39m \u001b[39m\u001b[39mo\u001b[39m\u001b[39m \u001b[39m\u001b[39m \u001b[39m\u001b[39m \u001b[39m\u001b[39m \u001b[39m\u001b[39m \u001b[39m\u001b[39m \u001b[39m\u001b[39m \u001b[39m\u001b[39m \u001b[39m\u001b[39m \u001b[39m\u001b[39m \u001b[39m\u001b[39m \u001b[39m\u001b[39m \u001b[39m\u001b[39m \u001b[39m\u001b[39m \u001b[39m\u001b[39m \u001b[39m\u001b[39m \u001b[39m\u001b[39m \u001b[39m\u001b[39m \u001b[39m\u001b[39m \u001b[39m\u001b[39mo\u001b[39m\u001b[39m \u001b[39m\u001b[39m \u001b[39m\u001b[39m \u001b[39m\u001b[39m \u001b[39m\u001b[39m \u001b[39m\u001b[39m \u001b[39m\u001b[39m \u001b[39m\u001b[39m \u001b[39m\u001b[39m \u001b[39m\u001b[39mo\u001b[39m\n",
      "  | \u001b[39mo\u001b[39m\u001b[39m \u001b[39m\u001b[39m \u001b[39m\u001b[39m \u001b[39m\u001b[39m \u001b[39m\u001b[39m \u001b[39m\u001b[39m \u001b[39m\u001b[39m \u001b[39m\u001b[39m \u001b[39m\u001b[39m \u001b[39m\u001b[39m \u001b[39m\u001b[39m \u001b[39m\u001b[39m \u001b[39m\u001b[39m \u001b[39m\u001b[39m \u001b[39m\u001b[39m \u001b[39m\u001b[39m \u001b[39m\u001b[39m \u001b[39m\u001b[39m \u001b[39m\u001b[39m \u001b[39m\u001b[39mo\u001b[39m\u001b[39m \u001b[39m\u001b[39m \u001b[39m\u001b[39m \u001b[39m\u001b[39m \u001b[39m\u001b[39m \u001b[39m\u001b[39m \u001b[39m\u001b[39m \u001b[39m\u001b[39m \u001b[39m\u001b[39m \u001b[39m\u001b[39mo\u001b[39m\u001b[39m \u001b[39m\u001b[39m \u001b[39m\u001b[39m \u001b[39m\u001b[39m \u001b[39m\u001b[39m \u001b[39m\u001b[39m \u001b[39m\u001b[39m \u001b[39m\u001b[39m \u001b[39m\u001b[39m \u001b[39m\u001b[39m \u001b[39m\u001b[39m \u001b[39m\u001b[39m \u001b[39m\u001b[39m \u001b[39m\u001b[39m \u001b[39m\u001b[39m \u001b[39m\u001b[39m \u001b[39m\u001b[39m \u001b[39m\u001b[39m \u001b[39m\u001b[39m \u001b[39m\u001b[39mo\u001b[39m\u001b[39m \u001b[39m\u001b[39m \u001b[39m\u001b[39m \u001b[39m\u001b[39m \u001b[39m\u001b[39m \u001b[39m\u001b[39m \u001b[39m\u001b[39m \u001b[39m\u001b[39m \u001b[39m\u001b[39m \u001b[39m\u001b[39mo\u001b[39m\n",
      "  | \u001b[39mo\u001b[39m\u001b[39m \u001b[39m\u001b[39m \u001b[39m\u001b[39m \u001b[39m\u001b[39m \u001b[39m\u001b[39m \u001b[39m\u001b[39m \u001b[39m\u001b[39m \u001b[39m\u001b[39m \u001b[39m\u001b[39m \u001b[39m\u001b[39m \u001b[39m\u001b[39m \u001b[39m\u001b[39m \u001b[39m\u001b[39m \u001b[39m\u001b[39m \u001b[39m\u001b[39m \u001b[39m\u001b[39m \u001b[39m\u001b[39m \u001b[39m\u001b[39m \u001b[39m\u001b[39m \u001b[39m\u001b[39mo\u001b[39m\u001b[39m \u001b[39m\u001b[39m \u001b[39m\u001b[39m \u001b[39m\u001b[39m \u001b[39m\u001b[39m \u001b[39m\u001b[39m \u001b[39m\u001b[39m \u001b[39m\u001b[39m \u001b[39m\u001b[39m \u001b[39m\u001b[39mo\u001b[39m\u001b[39m \u001b[39m\u001b[39m \u001b[39m\u001b[39m \u001b[39m\u001b[39m \u001b[39m\u001b[39m \u001b[39m\u001b[39m \u001b[39m\u001b[39m \u001b[39m\u001b[39m \u001b[39m\u001b[39m \u001b[39m\u001b[39m \u001b[39m\u001b[39m \u001b[39m\u001b[39m \u001b[39m\u001b[39m \u001b[39m\u001b[39m \u001b[39m\u001b[39m \u001b[39m\u001b[39m \u001b[39m\u001b[39m \u001b[39m\u001b[39m \u001b[39m\u001b[39m \u001b[39m\u001b[39mo\u001b[39m\u001b[39m \u001b[39m\u001b[39m \u001b[39m\u001b[39m \u001b[39m\u001b[39m \u001b[39m\u001b[39m \u001b[39m\u001b[39m \u001b[39m\u001b[39m \u001b[39m\u001b[39m \u001b[39m\u001b[39m \u001b[39m\u001b[39mo\u001b[39m\n",
      "  | \u001b[39mo\u001b[39m\u001b[39m \u001b[39m\u001b[39m \u001b[39m\u001b[39m \u001b[39m\u001b[39m \u001b[39m\u001b[39m \u001b[39m\u001b[39m \u001b[39m\u001b[39m \u001b[39m\u001b[39m \u001b[39m\u001b[39m \u001b[39m\u001b[39m \u001b[39m\u001b[39m \u001b[39m\u001b[39m \u001b[39m\u001b[39m \u001b[39m\u001b[39m \u001b[39m\u001b[39m \u001b[39m\u001b[39m \u001b[39m\u001b[39m \u001b[39m\u001b[39m \u001b[39m\u001b[39m \u001b[39m\u001b[39mo\u001b[39m\u001b[39m \u001b[39m\u001b[39m \u001b[39m\u001b[39m \u001b[39m\u001b[39m \u001b[39m\u001b[39m \u001b[39m\u001b[39m \u001b[39m\u001b[39m \u001b[39m\u001b[39m \u001b[39m\u001b[39m \u001b[39m\u001b[39mo\u001b[39m\u001b[39m \u001b[39m\u001b[39m \u001b[39m\u001b[39m \u001b[39m\u001b[39m \u001b[39m\u001b[39m \u001b[39m\u001b[39m \u001b[39m\u001b[39m \u001b[39m\u001b[39m \u001b[39m\u001b[39m \u001b[39m\u001b[39m \u001b[39m\u001b[39m \u001b[39m\u001b[39m \u001b[39m\u001b[39m \u001b[39m\u001b[39m \u001b[39m\u001b[39m \u001b[39m\u001b[39m \u001b[39m\u001b[39m \u001b[39m\u001b[39m \u001b[39m\u001b[39m \u001b[39m\u001b[39mo\u001b[39m\u001b[39m \u001b[39m\u001b[39m \u001b[39m\u001b[39m \u001b[39m\u001b[39m \u001b[39m\u001b[39m \u001b[39m\u001b[39m \u001b[39m\u001b[39m \u001b[39m\u001b[39m \u001b[39m\u001b[39m \u001b[39m\u001b[39mo\u001b[39m\n",
      "  | \u001b[39mo\u001b[39m\u001b[39m \u001b[39m\u001b[39m \u001b[39m\u001b[39m \u001b[39m\u001b[39m \u001b[39m\u001b[39m \u001b[39m\u001b[39m \u001b[39m\u001b[39m \u001b[39m\u001b[39m \u001b[39m\u001b[39m \u001b[39m\u001b[39m \u001b[39m\u001b[39m \u001b[39m\u001b[39m \u001b[39m\u001b[39m \u001b[39m\u001b[39m \u001b[39m\u001b[39m \u001b[39m\u001b[39m \u001b[39m\u001b[39m \u001b[39m\u001b[39m \u001b[39m\u001b[39m \u001b[39m\u001b[39mo\u001b[39m\u001b[39m \u001b[39m\u001b[39m \u001b[39m\u001b[39m \u001b[39m\u001b[39m \u001b[39m\u001b[39m \u001b[39m\u001b[39m \u001b[39m\u001b[39m \u001b[39m\u001b[39m \u001b[39m\u001b[39m \u001b[39m\u001b[39mo\u001b[39m\u001b[39m \u001b[39m\u001b[39m \u001b[39m\u001b[39m \u001b[39m\u001b[39m \u001b[39m\u001b[39m \u001b[39m\u001b[39m \u001b[39m\u001b[39m \u001b[39m\u001b[39m \u001b[39m\u001b[39m \u001b[39m\u001b[39m \u001b[39m\u001b[39m \u001b[39m\u001b[39m \u001b[39m\u001b[39m \u001b[39m\u001b[39m \u001b[39m\u001b[39m \u001b[39m\u001b[39m \u001b[39m\u001b[39m \u001b[39m\u001b[39m \u001b[39m\u001b[39m \u001b[39m\u001b[39mo\u001b[39m\u001b[39m \u001b[39m\u001b[39m \u001b[39m\u001b[39m \u001b[39m\u001b[39m \u001b[39m\u001b[39m \u001b[39m\u001b[39m \u001b[39m\u001b[39m \u001b[39m\u001b[39m \u001b[39m\u001b[39m \u001b[39m\u001b[39mo\u001b[39m\n",
      "  | \u001b[39mo\u001b[39m\u001b[39m \u001b[39m\u001b[39m \u001b[39m\u001b[39m \u001b[39m\u001b[39m \u001b[39m\u001b[39m \u001b[39m\u001b[39m \u001b[39m\u001b[39m \u001b[39m\u001b[39m \u001b[39m\u001b[39m \u001b[39m\u001b[39m \u001b[39m\u001b[39m \u001b[39m\u001b[39m \u001b[39m\u001b[39m \u001b[39m\u001b[39m \u001b[39m\u001b[39m \u001b[39m\u001b[39m \u001b[39m\u001b[39m \u001b[39m\u001b[39m \u001b[39m\u001b[39m \u001b[39m\u001b[39mo\u001b[39m\u001b[39m \u001b[39m\u001b[39m \u001b[39m\u001b[39m \u001b[39m\u001b[39m \u001b[39m\u001b[39m \u001b[39m\u001b[39m \u001b[39m\u001b[39m \u001b[39m\u001b[39m \u001b[39m\u001b[39m \u001b[39m\u001b[39mo\u001b[39m\u001b[39m \u001b[39m\u001b[39m \u001b[39m\u001b[39m \u001b[39m\u001b[39m \u001b[39m\u001b[39m \u001b[39m\u001b[39m \u001b[39m\u001b[39m \u001b[39m\u001b[39m \u001b[39m\u001b[39m \u001b[39m\u001b[39m \u001b[39m\u001b[39m \u001b[39m\u001b[39m \u001b[39m\u001b[39m \u001b[39m\u001b[39m \u001b[39m\u001b[39m \u001b[39m\u001b[39m \u001b[39m\u001b[39m \u001b[39m\u001b[39m \u001b[39m\u001b[39m \u001b[39m\u001b[39mo\u001b[39m\u001b[39m \u001b[39m\u001b[39m \u001b[39m\u001b[39m \u001b[39m\u001b[39m \u001b[39m\u001b[39m \u001b[39m\u001b[39m \u001b[39m\u001b[39m \u001b[39m\u001b[39m \u001b[39m\u001b[39m \u001b[39m\u001b[39mo\u001b[39m\n",
      "  | \u001b[39mo\u001b[39m\u001b[39m \u001b[39m\u001b[39m \u001b[39m\u001b[39m \u001b[39m\u001b[39m \u001b[39m\u001b[39m \u001b[39m\u001b[39m \u001b[39m\u001b[39m \u001b[39m\u001b[39m \u001b[39m\u001b[39m \u001b[39m\u001b[39m \u001b[39m\u001b[39m \u001b[39m\u001b[39m \u001b[39m\u001b[39m \u001b[39m\u001b[39m \u001b[39m\u001b[39m \u001b[39m\u001b[39m \u001b[39m\u001b[39m \u001b[39m\u001b[39m \u001b[39m\u001b[39m \u001b[39m\u001b[39mo\u001b[39m\u001b[39m \u001b[39m\u001b[39m \u001b[39m\u001b[39m \u001b[39m\u001b[39m \u001b[39m\u001b[39m \u001b[39m\u001b[39m \u001b[39m\u001b[39m \u001b[39m\u001b[39m \u001b[39m\u001b[39m \u001b[39m\u001b[39mo\u001b[39m\u001b[39m \u001b[39m\u001b[39m \u001b[39m\u001b[39m \u001b[39m\u001b[39m \u001b[39m\u001b[39m \u001b[39m\u001b[39m \u001b[39m\u001b[39m \u001b[39m\u001b[39m \u001b[39m\u001b[39m \u001b[39m\u001b[39m \u001b[39m\u001b[39m \u001b[39m\u001b[39m \u001b[39m\u001b[39m \u001b[39m\u001b[39m \u001b[39m\u001b[39m \u001b[39m\u001b[39m \u001b[39m\u001b[39m \u001b[39m\u001b[39m \u001b[39m\u001b[39m \u001b[39m\u001b[39mo\u001b[39m\u001b[39m \u001b[39m\u001b[39m \u001b[39m\u001b[39m \u001b[39m\u001b[39m \u001b[39m\u001b[39m \u001b[39m\u001b[39m \u001b[39m\u001b[39m \u001b[39m\u001b[39m \u001b[39m\u001b[39m \u001b[39m\u001b[39mo\u001b[39m\n",
      "  | \u001b[39mo\u001b[39m\u001b[39m \u001b[39m\u001b[39m \u001b[39m\u001b[39m \u001b[39m\u001b[39m \u001b[39m\u001b[39m \u001b[39m\u001b[39m \u001b[39m\u001b[39m \u001b[39m\u001b[39m \u001b[39m\u001b[39m \u001b[39m\u001b[39m \u001b[39m\u001b[39m \u001b[39m\u001b[39m \u001b[39m\u001b[39m \u001b[39m\u001b[39m \u001b[39m\u001b[39m \u001b[39m\u001b[39m \u001b[39m\u001b[39m \u001b[39m\u001b[39m \u001b[39m\u001b[39m \u001b[39m\u001b[39mo\u001b[39m\u001b[39m \u001b[39m\u001b[39m \u001b[39m\u001b[39m \u001b[39m\u001b[39m \u001b[39m\u001b[39m \u001b[39m\u001b[39m \u001b[39m\u001b[39m \u001b[39m\u001b[39m \u001b[39m\u001b[39m \u001b[39m\u001b[39mo\u001b[39m\u001b[39m \u001b[39m\u001b[39m \u001b[39m\u001b[39m \u001b[39m\u001b[39m \u001b[39m\u001b[39m \u001b[39m\u001b[39m \u001b[39m\u001b[39m \u001b[39m\u001b[39m \u001b[39m\u001b[39m \u001b[39m\u001b[39m \u001b[39m\u001b[39m \u001b[39m\u001b[39m \u001b[39m\u001b[39m \u001b[39m\u001b[39m \u001b[39m\u001b[39m \u001b[39m\u001b[39m \u001b[39m\u001b[39m \u001b[39m\u001b[39m \u001b[39m\u001b[39m \u001b[39m\u001b[39mo\u001b[39m\u001b[39m \u001b[39m\u001b[39m \u001b[39m\u001b[39m \u001b[39m\u001b[39m \u001b[39m\u001b[39m \u001b[39m\u001b[39m \u001b[39m\u001b[39m \u001b[39m\u001b[39m \u001b[39m\u001b[39m \u001b[39m\u001b[39mo\u001b[39m\n",
      "  | \u001b[39mo\u001b[39m\u001b[39m \u001b[39m\u001b[39m \u001b[39m\u001b[39m \u001b[39m\u001b[39m \u001b[39m\u001b[39m \u001b[39m\u001b[39m \u001b[39m\u001b[39m \u001b[39m\u001b[39m \u001b[39m\u001b[39m \u001b[39m\u001b[39m \u001b[39m\u001b[39m \u001b[39m\u001b[39m \u001b[39m\u001b[39m \u001b[39m\u001b[39m \u001b[39m\u001b[39m \u001b[39m\u001b[39m \u001b[39m\u001b[39m \u001b[39m\u001b[39m \u001b[39m\u001b[39m \u001b[39m\u001b[39mo\u001b[39m\u001b[39m \u001b[39m\u001b[39m \u001b[39m\u001b[39m \u001b[39m\u001b[39m \u001b[39m\u001b[39m \u001b[39m\u001b[39m \u001b[39m\u001b[39m \u001b[39m\u001b[39m \u001b[39m\u001b[39m \u001b[39m\u001b[39mo\u001b[39m\u001b[39m \u001b[39m\u001b[39m \u001b[39m\u001b[39m \u001b[39m\u001b[39m \u001b[39m\u001b[39m \u001b[39m\u001b[39m \u001b[39m\u001b[39m \u001b[39m\u001b[39m \u001b[39m\u001b[39m \u001b[39m\u001b[39m \u001b[39m\u001b[39m \u001b[39m\u001b[39m \u001b[39m\u001b[39m \u001b[39m\u001b[39m \u001b[39m\u001b[39m \u001b[39m\u001b[39m \u001b[39m\u001b[39m \u001b[39m\u001b[39m \u001b[39m\u001b[39m \u001b[39m\u001b[39mo\u001b[39m\u001b[39m \u001b[39m\u001b[39m \u001b[39m\u001b[39m \u001b[39m\u001b[39m \u001b[39m\u001b[39m \u001b[39m\u001b[39m \u001b[39m\u001b[39m \u001b[39m\u001b[39m \u001b[39m\u001b[39m \u001b[39m\u001b[39mo\u001b[39m\n",
      "  | \u001b[39mo\u001b[39m\u001b[39m \u001b[39m\u001b[39m \u001b[39m\u001b[39m \u001b[39m\u001b[39m \u001b[39m\u001b[39m \u001b[39m\u001b[39m \u001b[39m\u001b[39m \u001b[39m\u001b[39m \u001b[39m\u001b[39m \u001b[39m\u001b[39m \u001b[39m\u001b[39m \u001b[39m\u001b[39m \u001b[39m\u001b[39m \u001b[39m\u001b[39m \u001b[39m\u001b[39m \u001b[39m\u001b[39m \u001b[39m\u001b[39m \u001b[39m\u001b[39m \u001b[39m\u001b[39m \u001b[39m\u001b[39mo\u001b[39m\u001b[39m \u001b[39m\u001b[39m \u001b[39m\u001b[39m \u001b[39m\u001b[39m \u001b[39m\u001b[39m \u001b[39m\u001b[39m \u001b[39m\u001b[39m \u001b[39m\u001b[39m \u001b[39m\u001b[39m \u001b[39m\u001b[39mo\u001b[39m\u001b[39m \u001b[39m\u001b[39m \u001b[39m\u001b[39m \u001b[39m\u001b[39m \u001b[39m\u001b[39m \u001b[39m\u001b[39m \u001b[39m\u001b[39m \u001b[39m\u001b[39m \u001b[39m\u001b[39m \u001b[39m\u001b[39m \u001b[39m\u001b[39m \u001b[39m\u001b[39m \u001b[39m\u001b[39m \u001b[39m\u001b[39m \u001b[39m\u001b[39m \u001b[39m\u001b[39m \u001b[39m\u001b[39m \u001b[39m\u001b[39m \u001b[39m\u001b[39m \u001b[39m\u001b[39mo\u001b[39m\u001b[39m \u001b[39m\u001b[39m \u001b[39m\u001b[39m \u001b[39m\u001b[39m \u001b[39m\u001b[39m \u001b[39m\u001b[39m \u001b[39m\u001b[39m \u001b[39m\u001b[39m \u001b[39m\u001b[39m \u001b[39m\u001b[39mo\u001b[39m\n",
      "  | \u001b[39mo\u001b[39m\u001b[39m \u001b[39m\u001b[39m \u001b[39m\u001b[39m \u001b[39m\u001b[39m \u001b[39m\u001b[39m \u001b[39m\u001b[39m \u001b[39m\u001b[39m \u001b[39m\u001b[39m \u001b[39m\u001b[39m \u001b[39m\u001b[39m \u001b[39m\u001b[39m \u001b[39m\u001b[39m \u001b[39m\u001b[39m \u001b[39m\u001b[39m \u001b[39m\u001b[39m \u001b[39m\u001b[39m \u001b[39m\u001b[39m \u001b[39m\u001b[39m \u001b[39m\u001b[39m \u001b[39m\u001b[39mo\u001b[39m\u001b[39m \u001b[39m\u001b[39m \u001b[39m\u001b[39m \u001b[39m\u001b[39m \u001b[39m\u001b[39m \u001b[39m\u001b[39m \u001b[39m\u001b[39m \u001b[39m\u001b[39m \u001b[39m\u001b[39m \u001b[39m\u001b[39mo\u001b[39m\u001b[39m \u001b[39m\u001b[39m \u001b[39m\u001b[39m \u001b[39m\u001b[39m \u001b[39m\u001b[39m \u001b[39m\u001b[39m \u001b[39m\u001b[39m \u001b[39m\u001b[39m \u001b[39m\u001b[39m \u001b[39m\u001b[39m \u001b[39m\u001b[39m \u001b[39m\u001b[39m \u001b[39m\u001b[39m \u001b[39m\u001b[39m \u001b[39m\u001b[39m \u001b[39m\u001b[39m \u001b[39m\u001b[39m \u001b[39m\u001b[39m \u001b[39m\u001b[39m \u001b[39m\u001b[39mo\u001b[39m\u001b[39m \u001b[39m\u001b[39m \u001b[39m\u001b[39m \u001b[39m\u001b[39m \u001b[39m\u001b[39m \u001b[39m\u001b[39m \u001b[39m\u001b[39m \u001b[39m\u001b[39m \u001b[39m\u001b[39m \u001b[39m\u001b[39mo\u001b[39m\n",
      "  | \u001b[39mo\u001b[39m\u001b[39m \u001b[39m\u001b[39m \u001b[39m\u001b[39m \u001b[39m\u001b[39m \u001b[39m\u001b[39m \u001b[39m\u001b[39m \u001b[39m\u001b[39m \u001b[39m\u001b[39m \u001b[39m\u001b[39m \u001b[39m\u001b[39m \u001b[39m\u001b[39m \u001b[39m\u001b[39m \u001b[39m\u001b[39m \u001b[39m\u001b[39m \u001b[39m\u001b[39m \u001b[39m\u001b[39m \u001b[39m\u001b[39m \u001b[39m\u001b[39m \u001b[39m\u001b[39m \u001b[39m\u001b[39mo\u001b[39m\u001b[39m \u001b[39m\u001b[39m \u001b[39m\u001b[39m \u001b[39m\u001b[39m \u001b[39m\u001b[39m \u001b[39m\u001b[39m \u001b[39m\u001b[39m \u001b[39m\u001b[39m \u001b[39m\u001b[39m \u001b[39m\u001b[39mo\u001b[39m\u001b[39m \u001b[39m\u001b[39m \u001b[39m\u001b[39m \u001b[39m\u001b[39m \u001b[39m\u001b[39m \u001b[39m\u001b[39m \u001b[39m\u001b[39m \u001b[39m\u001b[39m \u001b[39m\u001b[39m \u001b[39m\u001b[39m \u001b[39m\u001b[39m \u001b[39m\u001b[39m \u001b[39m\u001b[39m \u001b[39m\u001b[39m \u001b[39m\u001b[39m \u001b[39m\u001b[39m \u001b[39m\u001b[39m \u001b[39m\u001b[39m \u001b[39m\u001b[39m \u001b[39m\u001b[39mo\u001b[39m\u001b[39m \u001b[39m\u001b[39m \u001b[39m\u001b[39m \u001b[39m\u001b[39m \u001b[39m\u001b[39m \u001b[39m\u001b[39m \u001b[39m\u001b[39m \u001b[39m\u001b[39m \u001b[39m\u001b[39m \u001b[39m\u001b[39mo\u001b[39m\n",
      "   -------------------------------------------------------------\n",
      "\u001b[39m   \u001b[39m9 9 9 9 9 9 9 9 9 9 9 9 9 9 9 9 9 9 9 9 9 9 9 9 9 9 9 9 9 9 9 \n",
      "\u001b[39m   \u001b[39m4 4 4 4 4 4 4 4 4 4 5 5 5 5 5 5 5 5 5 5 5 5 5 5 5 5 5 6 6 6 6 \n",
      "\u001b[39m   \u001b[39m4 4 5 5 6 7 7 8 8 9 0 0 1 1 2 3 3 4 4 5 6 6 7 7 8 9 9 0 0 1 2 \n",
      "\u001b[39m   \u001b[39m  . . . .   . . . .   . . . .   . . . .   . . . .   . . . .   \n",
      "\n",
      "----------------------\n",
      "|      Summary       |\n",
      "----------------------\n",
      "|  observations: 5   |\n",
      "|min value: 944.000000|\n",
      "| mean : 953.600000  |\n",
      "|max value: 962.000000|\n",
      "----------------------\n"
     ]
    }
   ],
   "source": [
    "# NBVAL_IGNORE_OUTPUT\n",
    "!anonlink describe \"clks_a.json\""
   ]
  },
  {
   "cell_type": "markdown",
   "metadata": {
    "pycharm": {}
   },
   "source": [
    "First, we will reduce the value of *bits_per_feature* for each feature."
   ]
  },
  {
   "cell_type": "code",
   "execution_count": 12,
   "metadata": {
    "pycharm": {}
   },
   "outputs": [
    {
     "name": "stdout",
     "output_type": "stream",
     "text": [
      "{\n",
      "  \"version\": 3,\n",
      "  \"clkConfig\": {\n",
      "    \"l\": 1024,\n",
      "    \"kdf\": {\n",
      "      \"type\": \"HKDF\",\n",
      "      \"hash\": \"SHA256\",\n",
      "        \"info\": \"c2NoZW1hX2V4YW1wbGU=\",\n",
      "        \"salt\": \"SCbL2zHNnmsckfzchsNkZY9XoHk96P/G5nUBrM7ybymlEFsMV6PAeDZCNp3rfNUPCtLDMOGQHG4pCQpfhiHCyA==\",\n",
      "        \"keySize\": 64\n",
      "    }\n",
      "  },\n",
      "  \"features\": [\n",
      "    {\n",
      "      \"identifier\": \"rec_id\",\n",
      "      \"ignored\": true\n",
      "    },\n",
      "    {\n",
      "      \"identifier\": \"given_name\",\n",
      "      \"format\": { \"type\": \"string\", \"encoding\": \"utf-8\", \"maxLength\": 64 },\n",
      "      \"hashing\": { \"comparison\": {\"type\": \"ngram\", \"n\": 2}, \"strategy\": {\"bitsPerFeature\": 200}, \"hash\": {\"type\": \"doubleHash\"} }\n",
      "    },\n",
      "    {\n",
      "      \"identifier\": \"surname\",\n",
      "      \"format\": { \"type\": \"string\", \"encoding\": \"utf-8\", \"maxLength\": 64 },\n",
      "      \"hashing\": { \"comparison\": {\"type\": \"ngram\", \"n\": 2}, \"strategy\": {\"bitsPerFeature\": 200}, \"hash\": {\"type\": \"doubleHash\"} }\n",
      "    },\n",
      "    {\n",
      "      \"identifier\": \"street_number\",\n",
      "      \"format\": { \"type\": \"integer\" },\n",
      "      \"hashing\": { \"comparison\": {\"type\": \"ngram\", \"n\": 1, \"positional\": true}, \"strategy\": {\"bitsPerFeature\": 200}, \"missingValue\": {\"sentinel\": \"\"} }\n",
      "    },\n",
      "    {\n",
      "      \"identifier\": \"address_1\",\n",
      "      \"format\": { \"type\": \"string\", \"encoding\": \"utf-8\" },\n",
      "      \"hashing\": { \"comparison\": {\"type\": \"ngram\", \"n\": 2}, \"strategy\": {\"bitsPerFeature\":  200} }\n",
      "    },\n",
      "    {\n",
      "      \"identifier\": \"address_2\",\n",
      "      \"format\": { \"type\": \"string\", \"encoding\": \"utf-8\" },\n",
      "      \"hashing\": { \"comparison\": {\"type\": \"ngram\", \"n\": 2}, \"strategy\": {\"bitsPerFeature\":  200} }\n",
      "    },\n",
      "    {\n",
      "      \"identifier\": \"suburb\",\n",
      "      \"format\": { \"type\": \"string\", \"encoding\": \"utf-8\" },\n",
      "      \"hashing\": { \"comparison\": {\"type\": \"ngram\", \"n\": 2}, \"strategy\": {\"bitsPerFeature\":  200} }\n",
      "    },\n",
      "    {\n",
      "      \"identifier\": \"postcode\",\n",
      "      \"format\": { \"type\": \"integer\", \"minimum\": 100, \"maximum\": 9999 },\n",
      "      \"hashing\": { \"comparison\": {\"type\": \"ngram\", \"n\": 1, \"positional\": true}, \"strategy\": {\"bitsPerFeature\":  200} }\n",
      "    },\n",
      "    {\n",
      "      \"identifier\": \"state\",\n",
      "      \"format\": { \"type\": \"string\", \"encoding\": \"utf-8\", \"maxLength\": 3 },\n",
      "      \"hashing\": { \"comparison\": {\"type\": \"ngram\", \"n\": 2}, \"strategy\": {\"bitsPerFeature\": 200} }\n",
      "    },\n",
      "    {\n",
      "      \"identifier\": \"date_of_birth\",\n",
      "      \"format\": { \"type\": \"integer\" },\n",
      "      \"hashing\": { \"comparison\": {\"type\": \"ngram\", \"n\": 1, \"positional\": true}, \"strategy\": {\"bitsPerFeature\":  200}, \"missingValue\": {\"sentinel\": \"\"} }\n",
      "    },\n",
      "    {\n",
      "      \"identifier\": \"soc_sec_id\",\n",
      "      \"ignored\": true\n",
      "    }\n",
      "  ]\n",
      "}\n",
      "\n"
     ]
    }
   ],
   "source": [
    "with open(\"../_static/febrl_schema_v3_reduced.json\") as f:\n",
    "    print(f.read())"
   ]
  },
  {
   "cell_type": "code",
   "execution_count": null,
   "metadata": {},
   "outputs": [],
   "source": []
  },
  {
   "cell_type": "code",
   "execution_count": 13,
   "metadata": {
    "pycharm": {
     "is_executing": false
    }
   },
   "outputs": [
    {
     "name": "stdout",
     "output_type": "stream",
     "text": [
      "\u001b[31mCLK data written to clks_a.json\u001b[0m\n"
     ]
    }
   ],
   "source": [
    "# NBVAL_IGNORE_OUTPUT\n",
    "!anonlink hash \"PII_a.csv\" secret \"../_static/febrl_schema_v3_reduced.json\" \"clks_a.json\""
   ]
  },
  {
   "cell_type": "markdown",
   "metadata": {
    "pycharm": {}
   },
   "source": [
    "And now we will modify the `bits_per_feature` values again, this time de-emphasising the contribution of the address related columns."
   ]
  },
  {
   "cell_type": "code",
   "execution_count": 14,
   "metadata": {
    "pycharm": {
     "is_executing": false
    }
   },
   "outputs": [
    {
     "name": "stdout",
     "output_type": "stream",
     "text": [
      "{\n",
      "  \"version\": 3,\n",
      "  \"clkConfig\": {\n",
      "    \"l\": 1024,\n",
      "    \"kdf\": {\n",
      "      \"type\": \"HKDF\",\n",
      "      \"hash\": \"SHA256\",\n",
      "        \"info\": \"c2NoZW1hX2V4YW1wbGU=\",\n",
      "        \"salt\": \"SCbL2zHNnmsckfzchsNkZY9XoHk96P/G5nUBrM7ybymlEFsMV6PAeDZCNp3rfNUPCtLDMOGQHG4pCQpfhiHCyA==\",\n",
      "        \"keySize\": 64\n",
      "    }\n",
      "  },\n",
      "  \"features\": [\n",
      "    {\n",
      "      \"identifier\": \"rec_id\",\n",
      "      \"ignored\": true\n",
      "    },\n",
      "    {\n",
      "      \"identifier\": \"given_name\",\n",
      "      \"format\": { \"type\": \"string\", \"encoding\": \"utf-8\", \"maxLength\": 64 },\n",
      "      \"hashing\": { \"comparison\": {\"type\": \"ngram\", \"n\": 2}, \"strategy\": {\"bitsPerFeature\": 200}, \"hash\": {\"type\": \"doubleHash\"} }\n",
      "    },\n",
      "    {\n",
      "      \"identifier\": \"surname\",\n",
      "      \"format\": { \"type\": \"string\", \"encoding\": \"utf-8\", \"maxLength\": 64 },\n",
      "      \"hashing\": { \"comparison\": {\"type\": \"ngram\", \"n\": 2}, \"strategy\": {\"bitsPerFeature\": 200}, \"hash\": {\"type\": \"doubleHash\"} }\n",
      "    },\n",
      "    {\n",
      "      \"identifier\": \"street_number\",\n",
      "      \"format\": { \"type\": \"integer\" },\n",
      "      \"hashing\": { \"comparison\": {\"type\": \"ngram\", \"n\": 1, \"positional\": true}, \"strategy\": {\"bitsPerFeature\": 100}, \"missingValue\": {\"sentinel\": \"\"} }\n",
      "    },\n",
      "    {\n",
      "      \"identifier\": \"address_1\",\n",
      "      \"format\": { \"type\": \"string\", \"encoding\": \"utf-8\" },\n",
      "      \"hashing\": { \"comparison\": {\"type\": \"ngram\", \"n\": 2}, \"strategy\": {\"bitsPerFeature\":  100} }\n",
      "    },\n",
      "    {\n",
      "      \"identifier\": \"address_2\",\n",
      "      \"format\": { \"type\": \"string\", \"encoding\": \"utf-8\" },\n",
      "      \"hashing\": { \"comparison\": {\"type\": \"ngram\", \"n\": 2}, \"strategy\": {\"bitsPerFeature\":  100} }\n",
      "    },\n",
      "    {\n",
      "      \"identifier\": \"suburb\",\n",
      "      \"format\": { \"type\": \"string\", \"encoding\": \"utf-8\" },\n",
      "      \"hashing\": { \"comparison\": {\"type\": \"ngram\", \"n\": 2}, \"strategy\": {\"bitsPerFeature\":  100} }\n",
      "    },\n",
      "    {\n",
      "      \"identifier\": \"postcode\",\n",
      "      \"format\": { \"type\": \"integer\", \"minimum\": 50, \"maximum\": 9999 },\n",
      "      \"hashing\": { \"comparison\": {\"type\": \"ngram\", \"n\": 1, \"positional\": true}, \"strategy\": {\"bitsPerFeature\":  100} }\n",
      "    },\n",
      "    {\n",
      "      \"identifier\": \"state\",\n",
      "      \"format\": { \"type\": \"string\", \"encoding\":  \"utf-8\"},\n",
      "      \"hashing\": {\"comparison\": {\"type\": \"ngram\", \"n\": 2, \"positional\": true}, \"strategy\": {\"bitsPerFeature\": 100}, \"missingValue\": {\"sentinel\":  \"\"}\n",
      "      }\n",
      "    },\n",
      "    {\n",
      "      \"identifier\": \"date_of_birth\",\n",
      "      \"format\": { \"type\": \"integer\" },\n",
      "      \"hashing\": { \"comparison\": {\"type\": \"ngram\", \"n\": 1, \"positional\": true}, \"strategy\": {\"bitsPerFeature\":  200}, \"missingValue\": {\"sentinel\": \"\"} }\n",
      "    },\n",
      "    {\n",
      "      \"identifier\": \"soc_sec_id\",\n",
      "      \"ignored\": true\n",
      "    }\n",
      "  ]\n",
      "}\n",
      "\n"
     ]
    }
   ],
   "source": [
    "with open(\"../_static/febrl_schema_v3_final.json\") as f:\n",
    "    print(f.read())"
   ]
  },
  {
   "cell_type": "code",
   "execution_count": 15,
   "metadata": {
    "pycharm": {}
   },
   "outputs": [
    {
     "name": "stdout",
     "output_type": "stream",
     "text": [
      "\u001b[31mCLK data written to clks_a.json\u001b[0m\n"
     ]
    }
   ],
   "source": [
    "# NBVAL_IGNORE_OUTPUT\n",
    "!anonlink hash \"PII_a.csv\" secret \"../_static/febrl_schema_v3_final.json\" \"clks_a.json\""
   ]
  },
  {
   "cell_type": "markdown",
   "metadata": {
    "pycharm": {}
   },
   "source": [
    "Great, now approximately half the bits are set in each CLK. \n",
    "\n",
    "Each CLK is serialized in a JSON friendly base64 format:"
   ]
  },
  {
   "cell_type": "code",
   "execution_count": 16,
   "metadata": {
    "pycharm": {
     "is_executing": false
    }
   },
   "outputs": [
    {
     "data": {
      "text/plain": [
       "'eliv99lhdvGu27399h/5bV+NHSvr+Yf/EObeO/+32f9RsWvu/0Y1f3Jvyvj+12pp9De18P9dSA8/3xztXqiTXvt/+pFVb3+vVeRiR3+Z//X3v9XzE/9/u/X//6P9qMumsbnl+f1y9U93ON+99f6Pf5WX13zR/nN/0/9yo//v2Hk='"
      ]
     },
     "execution_count": 16,
     "metadata": {},
     "output_type": "execute_result"
    }
   ],
   "source": [
    "# If you have jq tool installed:\n",
    "#!jq .clks[0] clks_a.json\n",
    "\n",
    "import json\n",
    "json.load(open(\"clks_a.json\"))['clks'][0]"
   ]
  },
  {
   "cell_type": "markdown",
   "metadata": {
    "pycharm": {}
   },
   "source": [
    "## Hash data set B\n",
    "\n",
    "Now we hash the second dataset using the same keys and same schema."
   ]
  },
  {
   "cell_type": "code",
   "execution_count": 17,
   "metadata": {
    "pycharm": {
     "is_executing": false
    }
   },
   "outputs": [
    {
     "name": "stdout",
     "output_type": "stream",
     "text": [
      "\u001b[31mCLK data written to clks_b.json\u001b[0m\n"
     ]
    }
   ],
   "source": [
    "# NBVAL_IGNORE_OUTPUT\n",
    "dfB.to_csv(\"PII_b.csv\")\n",
    "\n",
    "!anonlink hash \"PII_b.csv\" secret \"../_static/febrl_schema_v3_final.json\" \"clks_b.json\""
   ]
  },
  {
   "cell_type": "markdown",
   "metadata": {
    "pycharm": {}
   },
   "source": [
    "## Find matches between the two sets of CLKs\n",
    "\n",
    "We have generated two sets of CLKs which represent entity information in a privacy-preserving way. The more similar two CLKs are, the more likely it is that they represent the same entity.\n",
    "\n",
    "For this task we will use the entity service, which is provided by Data61. \n",
    "The necessary steps are as follows:\n",
    "- The analyst creates a new project with the output type 'groups'. They will receive a set of credentials from the server.\n",
    "- The analyst then distributes the `update_tokens` to the participating data providers.\n",
    "- The data providers then individually upload their respective CLKs.\n",
    "- The analyst can create *runs* with various thresholds (and other settings)\n",
    "- After the entity service successfully computed the mapping, it can be accessed by providing the `result_token`\n",
    "\n",
    "First we check the status of an entity service:"
   ]
  },
  {
   "cell_type": "code",
   "execution_count": 18,
   "metadata": {
    "pycharm": {
     "is_executing": false
    }
   },
   "outputs": [
    {
     "name": "stdout",
     "output_type": "stream",
     "text": [
      "{\"project_count\": 0, \"rate\": 1, \"status\": \"ok\"}\n"
     ]
    }
   ],
   "source": [
    "# NBVAL_IGNORE_OUTPUT\n",
    "# SERVER = 'https://blocked.anonlink.easd.data61.xyz/'\n",
    "SERVER = 'http://0.0.0.0:8851'\n",
    "!anonlink status --server={SERVER}"
   ]
  },
  {
   "cell_type": "markdown",
   "metadata": {
    "pycharm": {}
   },
   "source": [
    "The analyst creates a new project on the entity service by providing the hashing schema and result type. The server returns a set of credentials which provide access to the further steps for project."
   ]
  },
  {
   "cell_type": "code",
   "execution_count": 23,
   "metadata": {
    "pycharm": {
     "is_executing": false
    }
   },
   "outputs": [
    {
     "name": "stdout",
     "output_type": "stream",
     "text": [
      "\u001b[31mProject created\u001b[0m\n"
     ]
    }
   ],
   "source": [
    "# NBVAL_IGNORE_OUTPUT\n",
    "!anonlink create-project --server={SERVER} --schema \"../_static/febrl_schema_v3_final.json\" --output \"credentials.json\" --type \"groups\" --name \"tutorial\""
   ]
  },
  {
   "cell_type": "markdown",
   "metadata": {
    "pycharm": {}
   },
   "source": [
    "The returned credentials contain a \n",
    "- `project_id`, which identifies the project\n",
    "- `result_token`, which gives access to the result, once computed\n",
    "- `upload_tokens`, one for each provider, allows uploading CLKs."
   ]
  },
  {
   "cell_type": "code",
   "execution_count": 24,
   "metadata": {
    "pycharm": {
     "is_executing": false
    }
   },
   "outputs": [
    {
     "name": "stdout",
     "output_type": "stream",
     "text": [
      "{\n",
      "    \"project_id\": \"e22603e3d988c41a6247cea629612519a8abb3e0d8f96001\",\n",
      "    \"result_token\": \"738a325814211d05ca6adb2d218aa6b84259356d8d56b9e2\",\n",
      "    \"update_tokens\": [\n",
      "        \"6e806ffbc5025c90803c6ccdf7aac0c082dcffbb62e6d8b1\",\n",
      "        \"94524df9fef306ebc232efa4e633783b21b1b6cba904f128\"\n",
      "    ]\n",
      "}\n"
     ]
    }
   ],
   "source": [
    "# NBVAL_IGNORE_OUTPUT\n",
    "credentials = json.load(open(\"credentials.json\", 'rt'))\n",
    "print(json.dumps(credentials, indent=4))"
   ]
  },
  {
   "cell_type": "markdown",
   "metadata": {
    "pycharm": {}
   },
   "source": [
    "### Uploading the CLKs to the entity service\n",
    "Each party individually uploads its respective CLKs to the entity service. They need to provide the `resource_id`, which identifies the correct results, and an `update_token`."
   ]
  },
  {
   "cell_type": "code",
   "execution_count": 25,
   "metadata": {
    "pycharm": {
     "is_executing": false
    }
   },
   "outputs": [
    {
     "name": "stdout",
     "output_type": "stream",
     "text": [
      "uploads\n",
      "Anonlink client: Uploading to the external object store - MINIO\n",
      "Upload clks_a.json: |####################| 0.00 MB/0.00 MB 100% [elapsed: 00:00 left: 00:00,  0.17 MB/sec]"
     ]
    }
   ],
   "source": [
    "# NBVAL_IGNORE_OUTPUT\n",
    "!anonlink upload \\\n",
    "       --project=\"{credentials['project_id']}\" \\\n",
    "        --apikey=\"{credentials['update_tokens'][0]}\" \\\n",
    "        --output \"upload_a.json\" \\\n",
    "        --server=\"{SERVER}\" \\\n",
    "        \"clks_a.json\""
   ]
  },
  {
   "cell_type": "code",
   "execution_count": 20,
   "metadata": {},
   "outputs": [
    {
     "name": "stdout",
     "output_type": "stream",
     "text": [
      "uploads\n",
      "Anonlink client: Uploading to the external object store - MINIO\n",
      "Upload clks_b.json: |####################| 0.84 MB/0.84 MB 100% [elapsed: 00:00 left: 00:00, 22.37 MB/sec]"
     ]
    }
   ],
   "source": [
    "# NBVAL_IGNORE_OUTPUT\n",
    "!anonlink upload \\\n",
    "       --project=\"{credentials['project_id']}\" \\\n",
    "        --apikey=\"{credentials['update_tokens'][1]}\" \\\n",
    "        --output \"upload_b.json\" \\\n",
    "        --server=\"{SERVER}\" \\\n",
    "       \"clks_b.json\""
   ]
  },
  {
   "cell_type": "markdown",
   "metadata": {
    "pycharm": {}
   },
   "source": [
    "Now that the CLK data has been uploaded the analyst can create one or more *runs*. Here we will start by calculating a mapping with a threshold of `0.9`:"
   ]
  },
  {
   "cell_type": "code",
   "execution_count": 21,
   "metadata": {
    "pycharm": {}
   },
   "outputs": [
    {
     "name": "stdout",
     "output_type": "stream",
     "text": [
      "\u001b[31mConnecting to Entity Matching Server: http://0.0.0.0:8851\u001b[0m\n"
     ]
    }
   ],
   "source": [
    "# NBVAL_IGNORE_OUTPUT\n",
    "!anonlink create --verbose  \\\n",
    "    --server=\"{SERVER}\" \\\n",
    "    --output \"run_info.json\" \\\n",
    "    --threshold=0.9 \\\n",
    "    --project=\"{credentials['project_id']}\" \\\n",
    "    --apikey=\"{credentials['result_token']}\" \\\n",
    "    --name=\"CLI tutorial run A\""
   ]
  },
  {
   "cell_type": "code",
   "execution_count": 22,
   "metadata": {
    "pycharm": {}
   },
   "outputs": [
    {
     "data": {
      "text/plain": [
       "{'name': 'CLI tutorial run A',\n",
       " 'notes': 'Run created by clkhash 0.16.0a1',\n",
       " 'run_id': '9e03777fa83a22c63fc53c0bdb1eff5da72f0a63697d9723',\n",
       " 'threshold': 0.9}"
      ]
     },
     "execution_count": 22,
     "metadata": {},
     "output_type": "execute_result"
    }
   ],
   "source": [
    "# NBVAL_IGNORE_OUTPUT\n",
    "run_info = json.load(open(\"run_info.json\", 'rt'))\n",
    "run_info"
   ]
  },
  {
   "cell_type": "markdown",
   "metadata": {
    "pycharm": {}
   },
   "source": [
    "## Results\n",
    "\n",
    "Now after some delay (depending on the size) we can fetch the results. This can be done with anonlink:"
   ]
  },
  {
   "cell_type": "code",
   "execution_count": 23,
   "metadata": {
    "pycharm": {},
    "tags": [
     "nbval-ignore-output"
    ]
   },
   "outputs": [
    {
     "name": "stdout",
     "output_type": "stream",
     "text": [
      "\u001b[31mState: created\n",
      "Stage (1/3): waiting for CLKs\n",
      "Progress: 100.00%\u001b[0m\n",
      "\u001b[31mState: created\n",
      "Stage (1/3): waiting for CLKs\n",
      "Progress: 100.00%\u001b[0m\n",
      "\u001b[31mState: queued\n",
      "Stage (2/3): compute similarity scores\u001b[0m\n",
      "\u001b[31mState: running\n",
      "Stage (2/3): compute similarity scores\u001b[0m\n",
      "\u001b[31mState: running\n",
      "Stage (2/3): compute similarity scores\n",
      "Progress: 100.00%\u001b[0m\n",
      "\u001b[31mState: running\n",
      "Stage (3/3): compute output\u001b[0m\n",
      "\u001b[31mState: completed\n",
      "Stage (3/3): compute output\u001b[0m\n",
      "\u001b[31mDownloading result\u001b[0m\n",
      "\u001b[31mReceived result\u001b[0m\n"
     ]
    }
   ],
   "source": [
    "!anonlink results --watch \\\n",
    "        --project=\"{credentials['project_id']}\" \\\n",
    "        --apikey=\"{credentials['result_token']}\" \\\n",
    "        --run=\"{run_info['run_id']}\" \\\n",
    "        --server=\"{SERVER}\" \\\n",
    "        --output results.txt"
   ]
  },
  {
   "cell_type": "code",
   "execution_count": 24,
   "metadata": {
    "pycharm": {}
   },
   "outputs": [
    {
     "name": "stdout",
     "output_type": "stream",
     "text": [
      "The service linked 4051 entities.\n"
     ]
    }
   ],
   "source": [
    "def extract_matches(file):\n",
    "    with open(file, 'rt') as f:\n",
    "        results = json.load(f)['groups']\n",
    "    # each entry in `results` looks like this: '((0, 4039), (1, 2689))'.\n",
    "    # The format is ((dataset_id, row_id), (dataset_id, row_id))\n",
    "    # As we only have two parties in this example, we can remove the dataset_ids.\n",
    "    # Also, turning the solution into a set will make it easier to assess the\n",
    "    # quality of the matching.\n",
    "    found_matches = set((a, b) for ((_, a), (_, b)) in results)\n",
    "    print('The service linked {} entities.'.format(len(found_matches)))\n",
    "    return found_matches\n",
    "\n",
    "found_matches = extract_matches('results.txt')"
   ]
  },
  {
   "cell_type": "markdown",
   "metadata": {
    "pycharm": {}
   },
   "source": [
    "Let's investigate some of those matches and the overall matching quality. In this case we have the ground truth so we can compute the precision and recall."
   ]
  },
  {
   "cell_type": "markdown",
   "metadata": {},
   "source": [
    "Fortunately, the febrl4 datasets contain record ids which tell us the correct linkages. Using this information we are able to create a set of the true matches."
   ]
  },
  {
   "cell_type": "code",
   "execution_count": 25,
   "metadata": {},
   "outputs": [],
   "source": [
    "# rec_id in dfA has the form 'rec-1070-org'. We only want the number. Additionally, as we are \n",
    "# interested in the position of the records, we create a new index which contains the row numbers.\n",
    "dfA_ = dfA.rename(lambda x: x[4:-4], axis='index').reset_index()\n",
    "dfB_ = dfB.rename(lambda x: x[4:-6], axis='index').reset_index()\n",
    "# now we can merge dfA_ and dfB_ on the record_id.\n",
    "a = pd.DataFrame({'ida': dfA_.index, 'rec_id': dfA_['rec_id']})\n",
    "b = pd.DataFrame({'idb': dfB_.index, 'rec_id': dfB_['rec_id']})\n",
    "dfj = a.merge(b, on='rec_id', how='inner').drop(columns=['rec_id'])\n",
    "# and build a set of the corresponding row numbers.\n",
    "true_matches = set((row[0], row[1]) for row in dfj.itertuples(index=False))"
   ]
  },
  {
   "cell_type": "code",
   "execution_count": 26,
   "metadata": {
    "pycharm": {}
   },
   "outputs": [],
   "source": [
    "def describe_matching_quality(found_matches, show_examples=False):\n",
    "    if show_examples:\n",
    "        print('idx_a, idx_b,     rec_id_a,       rec_id_b')\n",
    "        print('---------------------------------------------')\n",
    "        for a_i, b_i in itertools.islice(found_matches, 10):\n",
    "            print('{:3}, {:6}, {:>15}, {:>15}'.format(a_i+1, b_i+1, a.iloc[a_i]['rec_id'], b.iloc[b_i]['rec_id']))\n",
    "        print('---------------------------------------------')\n",
    "    \n",
    "    tp = len(found_matches & true_matches)\n",
    "    fp = len(found_matches - true_matches)\n",
    "    fn = len(true_matches - found_matches)\n",
    "\n",
    "    precision = tp / (tp + fp)\n",
    "    recall = tp / (tp + fn)\n",
    "\n",
    "\n",
    "    print('Precision: {:.2f}, Recall: {:.2f}'.format(precision, recall))"
   ]
  },
  {
   "cell_type": "code",
   "execution_count": 27,
   "metadata": {
    "pycharm": {}
   },
   "outputs": [
    {
     "name": "stdout",
     "output_type": "stream",
     "text": [
      "idx_a, idx_b,     rec_id_a,       rec_id_b\n",
      "---------------------------------------------\n",
      "3170,    259,            3730,            3730\n",
      "733,   2003,            4239,            4239\n",
      "1685,   3323,            2888,            2888\n",
      "4550,   3627,            4216,            4216\n",
      "1875,   2991,            4391,            4391\n",
      "3928,   2377,            3493,            3493\n",
      "4928,   4656,             276,             276\n",
      "334,    945,            4848,            4848\n",
      "2288,   4331,            3491,            3491\n",
      "4088,   2454,            1850,            1850\n",
      "---------------------------------------------\n",
      "Precision: 1.00, Recall: 0.81\n"
     ]
    }
   ],
   "source": [
    "# NBVAL_IGNORE_OUTPUT\n",
    "describe_matching_quality(found_matches, True)"
   ]
  },
  {
   "cell_type": "markdown",
   "metadata": {
    "pycharm": {}
   },
   "source": [
    "Precision tells us about how many of the found matches are actual matches. The score of 1.0 means that we did perfectly in this respect, however, **recall**, the measure of how many of the actual matches were correctly identified, is quite low with only 81%.\n",
    "\n",
    "Let's go back and create another run with a `threshold` value of `0.8`."
   ]
  },
  {
   "cell_type": "code",
   "execution_count": 28,
   "metadata": {
    "pycharm": {}
   },
   "outputs": [
    {
     "name": "stdout",
     "output_type": "stream",
     "text": [
      "\u001b[31mConnecting to Entity Matching Server: http://0.0.0.0:8851\u001b[0m\n"
     ]
    }
   ],
   "source": [
    "# NBVAL_IGNORE_OUTPUT\n",
    "!anonlink create --verbose  \\\n",
    "    --server=\"{SERVER}\" \\\n",
    "    --output \"run_info.json\" \\\n",
    "    --threshold=0.8 \\\n",
    "    --project=\"{credentials['project_id']}\" \\\n",
    "    --apikey=\"{credentials['result_token']}\" \\\n",
    "    --name=\"CLI tutorial run B\"\n",
    "\n",
    "run_info = json.load(open('run_info.json', 'rt'))"
   ]
  },
  {
   "cell_type": "code",
   "execution_count": null,
   "metadata": {},
   "outputs": [],
   "source": []
  },
  {
   "cell_type": "code",
   "execution_count": 29,
   "metadata": {
    "pycharm": {},
    "tags": [
     "nbval-ignore-output"
    ]
   },
   "outputs": [
    {
     "name": "stdout",
     "output_type": "stream",
     "text": [
      "\u001b[31mState: queued\n",
      "Stage (2/3): compute similarity scores\u001b[0m\n",
      "\u001b[31mState: queued\n",
      "Stage (2/3): compute similarity scores\u001b[0m\n",
      "\u001b[31mState: running\n",
      "Stage (2/3): compute similarity scores\u001b[0m\n",
      "\u001b[31mState: running\n",
      "Stage (3/3): compute output\u001b[0m\n",
      "\u001b[31mState: completed\n",
      "Stage (3/3): compute output\u001b[0m\n",
      "\u001b[31mDownloading result\u001b[0m\n",
      "\u001b[31mReceived result\u001b[0m\n"
     ]
    }
   ],
   "source": [
    "!anonlink results --watch \\\n",
    "        --project=\"{credentials['project_id']}\" \\\n",
    "        --apikey=\"{credentials['result_token']}\" \\\n",
    "        --run=\"{run_info['run_id']}\" \\\n",
    "        --server=\"{SERVER}\" \\\n",
    "        --output results.txt"
   ]
  },
  {
   "cell_type": "code",
   "execution_count": 30,
   "metadata": {
    "pycharm": {}
   },
   "outputs": [
    {
     "name": "stdout",
     "output_type": "stream",
     "text": [
      "The service linked 4962 entities.\n",
      "Precision: 1.00, Recall: 0.99\n"
     ]
    }
   ],
   "source": [
    "found_matches = extract_matches('results.txt')\n",
    "\n",
    "describe_matching_quality(found_matches)"
   ]
  },
  {
   "cell_type": "markdown",
   "metadata": {
    "pycharm": {}
   },
   "source": [
    "Great, for this threshold value we get a precision of 100% and a recall of 99%. \n",
    "\n",
    "The explanation is that when the information about an entity differs slightly in the two datasets (e.g. spelling errors, abbrevations, missing values, ...) then the corresponding CLKs will differ in some number of bits as well. For the datasets in this tutorial the perturbations are such that only 80% of the derived CLK pairs overlap more than 90% (the first threshold). Whereas 99% of all matching pairs overlap more than 80%.\n",
    "\n",
    "If we keep reducing the threshold value, then we will start to observe mistakes in the found matches -- the precision decreases (if an entry in dataset A has no match in dataset B, but we keep reducing the threshold, eventually a comparison with an entry in B will be above the threshold leading to a false match). But at the same time the recall value will keep increasing for a while, as a lower threshold allows for more of the actual matches to be found. However, as our example dataset only contains matches (every entry in A has a match in B), this phenomenon cannot be observered. With the threshold `0.72` we identify all matches but one correctly (at the cost of a longer execution time)."
   ]
  },
  {
   "cell_type": "code",
   "execution_count": 31,
   "metadata": {
    "pycharm": {}
   },
   "outputs": [
    {
     "name": "stdout",
     "output_type": "stream",
     "text": [
      "\u001b[31mConnecting to Entity Matching Server: http://0.0.0.0:8851\u001b[0m\n"
     ]
    }
   ],
   "source": [
    "# NBVAL_IGNORE_OUTPUT\n",
    "!anonlink create --verbose  \\\n",
    "    --server=\"{SERVER}\" \\\n",
    "    --output \"run_info.json\" \\\n",
    "    --threshold=0.72 \\\n",
    "    --project=\"{credentials['project_id']}\" \\\n",
    "    --apikey=\"{credentials['result_token']}\" \\\n",
    "    --name=\"CLI tutorial run B\"\n",
    "\n",
    "run_info = json.load(open(\"run_info.json\", 'rt'))"
   ]
  },
  {
   "cell_type": "code",
   "execution_count": 32,
   "metadata": {
    "pycharm": {},
    "tags": [
     "nbval-ignore-output"
    ]
   },
   "outputs": [
    {
     "name": "stdout",
     "output_type": "stream",
     "text": [
      "\u001b[31mState: queued\n",
      "Stage (2/3): compute similarity scores\u001b[0m\n",
      "\u001b[31mState: queued\n",
      "Stage (2/3): compute similarity scores\u001b[0m\n",
      "\u001b[31mState: running\n",
      "Stage (2/3): compute similarity scores\u001b[0m\n",
      "\u001b[31mState: running\n",
      "Stage (2/3): compute similarity scores\n",
      "Progress: 100.00%\u001b[0m\n",
      "\u001b[31mState: running\n",
      "Stage (3/3): compute output\u001b[0m\n",
      "\u001b[31mState: completed\n",
      "Stage (3/3): compute output\u001b[0m\n",
      "\u001b[31mDownloading result\u001b[0m\n",
      "\u001b[31mReceived result\u001b[0m\n"
     ]
    }
   ],
   "source": [
    "!anonlink results --watch \\\n",
    "        --project=\"{credentials['project_id']}\" \\\n",
    "        --apikey=\"{credentials['result_token']}\" \\\n",
    "        --run=\"{run_info['run_id']}\" \\\n",
    "        --server=\"{SERVER}\" \\\n",
    "        --output results.txt"
   ]
  },
  {
   "cell_type": "code",
   "execution_count": 33,
   "metadata": {
    "pycharm": {}
   },
   "outputs": [
    {
     "name": "stdout",
     "output_type": "stream",
     "text": [
      "The service linked 4998 entities.\n",
      "Precision: 1.00, Recall: 1.00\n"
     ]
    }
   ],
   "source": [
    "found_matches = extract_matches('results.txt')\n",
    "\n",
    "describe_matching_quality(found_matches)"
   ]
  },
  {
   "cell_type": "markdown",
   "metadata": {
    "pycharm": {}
   },
   "source": [
    "It is important to choose an appropriate threshold for the amount of perturbations present in the data.\n",
    "\n",
    "Feel free to go back to the CLK generation and experiment on how different setting will affect the matching quality.\n",
    "\n",
    "## Cleanup\n",
    "\n",
    "Finally to remove the results from the service delete the individual runs, or remove the uploaded data and all runs by deleting the entire project."
   ]
  },
  {
   "cell_type": "code",
   "execution_count": 34,
   "metadata": {
    "pycharm": {}
   },
   "outputs": [
    {
     "name": "stdout",
     "output_type": "stream",
     "text": [
      "\u001b[31mRun deleted\u001b[0m\n"
     ]
    }
   ],
   "source": [
    "# NBVAL_IGNORE_OUTPUT\n",
    "# Deleting a run\n",
    "!anonlink delete --project=\"{credentials['project_id']}\" \\\n",
    "        --apikey=\"{credentials['result_token']}\" \\\n",
    "        --run=\"{run_info['run_id']}\" \\\n",
    "        --server=\"{SERVER}\""
   ]
  },
  {
   "cell_type": "code",
   "execution_count": 35,
   "metadata": {},
   "outputs": [
    {
     "name": "stdout",
     "output_type": "stream",
     "text": [
      "\u001b[31mProject deleted\u001b[0m\n"
     ]
    }
   ],
   "source": [
    "# NBVAL_IGNORE_OUTPUT\n",
    "# Deleting a project\n",
    "!anonlink delete-project --project=\"{credentials['project_id']}\" \\\n",
    "        --apikey=\"{credentials['result_token']}\" \\\n",
    "        --server=\"{SERVER}\""
   ]
  },
  {
   "cell_type": "code",
   "execution_count": null,
   "metadata": {},
   "outputs": [],
   "source": []
  }
 ],
 "metadata": {
  "kernelspec": {
   "display_name": "Python 3",
   "language": "python",
   "name": "python3"
  },
  "language_info": {
   "codemirror_mode": {
    "name": "ipython",
    "version": 3
   },
   "file_extension": ".py",
   "mimetype": "text/x-python",
   "name": "python",
   "nbconvert_exporter": "python",
   "pygments_lexer": "ipython3",
   "version": "3.7.4"
  },
  "pycharm": {
   "stem_cell": {
    "cell_type": "raw",
    "metadata": {
     "collapsed": false
    },
    "source": []
   }
  }
 },
 "nbformat": 4,
 "nbformat_minor": 4
}