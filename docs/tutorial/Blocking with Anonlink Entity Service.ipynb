{
 "cells": [
  {
   "cell_type": "markdown",
   "metadata": {},
   "source": [
    "# Client side encoding with blocking and server side linking\n",
    "\n",
    "For this tutorial we are going to encode a data set for private record linkage using the command line tool `anonlink`.\n",
    "\n",
    "Note you can also directly use the [Python API](./tutorial_api.ipynb).\n",
    "\n",
    "The Python package `recordlinkage` has a [tutorial](http://recordlinkage.readthedocs.io/en/latest/notebooks/link_two_dataframes.html) linking data sets in the clear, we will try duplicate that in a privacy preserving setting."
   ]
  },
  {
   "cell_type": "markdown",
   "metadata": {},
   "source": [
    "First install clkhash, recordlinkage and a few data science tools (pandas and numpy)."
   ]
  },
  {
   "cell_type": "code",
   "execution_count": null,
   "metadata": {
    "pycharm": {
     "is_executing": true
    },
    "scrolled": true
   },
   "outputs": [],
   "source": [
    "# NBVAL_IGNORE_OUTPUT\n",
    "!pip install -U anonlink-client recordlinkage numpy pandas metaphone matplotlib"
   ]
  },
  {
   "cell_type": "code",
   "execution_count": 11,
   "metadata": {},
   "outputs": [],
   "source": [
    "%matplotlib inline\n",
    "import pandas as pd\n",
    "import itertools\n",
    "from clkhash.describe import get_encoding_popcounts\n",
    "from clkhash.serialization import deserialize_bitarray\n",
    "import json\n",
    "import matplotlib.pyplot as plt\n",
    "from recordlinkage.datasets import load_febrl4"
   ]
  },
  {
   "cell_type": "code",
   "execution_count": 4,
   "metadata": {
    "pycharm": {
     "is_executing": true,
     "name": "#%%\n"
    }
   },
   "outputs": [
    {
     "data": {
      "text/html": [
       "<div>\n",
       "<style scoped>\n",
       "    .dataframe tbody tr th:only-of-type {\n",
       "        vertical-align: middle;\n",
       "    }\n",
       "\n",
       "    .dataframe tbody tr th {\n",
       "        vertical-align: top;\n",
       "    }\n",
       "\n",
       "    .dataframe thead th {\n",
       "        text-align: right;\n",
       "    }\n",
       "</style>\n",
       "<table border=\"1\" class=\"dataframe\">\n",
       "  <thead>\n",
       "    <tr style=\"text-align: right;\">\n",
       "      <th></th>\n",
       "      <th>given_name</th>\n",
       "      <th>surname</th>\n",
       "      <th>street_number</th>\n",
       "      <th>address_1</th>\n",
       "      <th>address_2</th>\n",
       "      <th>suburb</th>\n",
       "      <th>postcode</th>\n",
       "      <th>state</th>\n",
       "      <th>date_of_birth</th>\n",
       "      <th>soc_sec_id</th>\n",
       "    </tr>\n",
       "    <tr>\n",
       "      <th>rec_id</th>\n",
       "      <th></th>\n",
       "      <th></th>\n",
       "      <th></th>\n",
       "      <th></th>\n",
       "      <th></th>\n",
       "      <th></th>\n",
       "      <th></th>\n",
       "      <th></th>\n",
       "      <th></th>\n",
       "      <th></th>\n",
       "    </tr>\n",
       "  </thead>\n",
       "  <tbody>\n",
       "    <tr>\n",
       "      <th>rec-1070-org</th>\n",
       "      <td>michaela</td>\n",
       "      <td>neumann</td>\n",
       "      <td>8</td>\n",
       "      <td>stanley street</td>\n",
       "      <td>miami</td>\n",
       "      <td>winston hills</td>\n",
       "      <td>4223</td>\n",
       "      <td>nsw</td>\n",
       "      <td>19151111</td>\n",
       "      <td>5304218</td>\n",
       "    </tr>\n",
       "    <tr>\n",
       "      <th>rec-1016-org</th>\n",
       "      <td>courtney</td>\n",
       "      <td>painter</td>\n",
       "      <td>12</td>\n",
       "      <td>pinkerton circuit</td>\n",
       "      <td>bega flats</td>\n",
       "      <td>richlands</td>\n",
       "      <td>4560</td>\n",
       "      <td>vic</td>\n",
       "      <td>19161214</td>\n",
       "      <td>4066625</td>\n",
       "    </tr>\n",
       "    <tr>\n",
       "      <th>rec-4405-org</th>\n",
       "      <td>charles</td>\n",
       "      <td>green</td>\n",
       "      <td>38</td>\n",
       "      <td>salkauskas crescent</td>\n",
       "      <td>kela</td>\n",
       "      <td>dapto</td>\n",
       "      <td>4566</td>\n",
       "      <td>nsw</td>\n",
       "      <td>19480930</td>\n",
       "      <td>4365168</td>\n",
       "    </tr>\n",
       "    <tr>\n",
       "      <th>rec-1288-org</th>\n",
       "      <td>vanessa</td>\n",
       "      <td>parr</td>\n",
       "      <td>905</td>\n",
       "      <td>macquoid place</td>\n",
       "      <td>broadbridge manor</td>\n",
       "      <td>south grafton</td>\n",
       "      <td>2135</td>\n",
       "      <td>sa</td>\n",
       "      <td>19951119</td>\n",
       "      <td>9239102</td>\n",
       "    </tr>\n",
       "    <tr>\n",
       "      <th>rec-3585-org</th>\n",
       "      <td>mikayla</td>\n",
       "      <td>malloney</td>\n",
       "      <td>37</td>\n",
       "      <td>randwick road</td>\n",
       "      <td>avalind</td>\n",
       "      <td>hoppers crossing</td>\n",
       "      <td>4552</td>\n",
       "      <td>vic</td>\n",
       "      <td>19860208</td>\n",
       "      <td>7207688</td>\n",
       "    </tr>\n",
       "  </tbody>\n",
       "</table>\n",
       "</div>"
      ],
      "text/plain": [
       "             given_name   surname street_number            address_1  \\\n",
       "rec_id                                                                 \n",
       "rec-1070-org   michaela   neumann             8       stanley street   \n",
       "rec-1016-org   courtney   painter            12    pinkerton circuit   \n",
       "rec-4405-org    charles     green            38  salkauskas crescent   \n",
       "rec-1288-org    vanessa      parr           905       macquoid place   \n",
       "rec-3585-org    mikayla  malloney            37        randwick road   \n",
       "\n",
       "                      address_2            suburb postcode state  \\\n",
       "rec_id                                                             \n",
       "rec-1070-org              miami     winston hills     4223   nsw   \n",
       "rec-1016-org         bega flats         richlands     4560   vic   \n",
       "rec-4405-org               kela             dapto     4566   nsw   \n",
       "rec-1288-org  broadbridge manor     south grafton     2135    sa   \n",
       "rec-3585-org            avalind  hoppers crossing     4552   vic   \n",
       "\n",
       "             date_of_birth soc_sec_id  \n",
       "rec_id                                 \n",
       "rec-1070-org      19151111    5304218  \n",
       "rec-1016-org      19161214    4066625  \n",
       "rec-4405-org      19480930    4365168  \n",
       "rec-1288-org      19951119    9239102  \n",
       "rec-3585-org      19860208    7207688  "
      ]
     },
     "execution_count": 4,
     "metadata": {},
     "output_type": "execute_result"
    }
   ],
   "source": [
    "dfA, dfB = load_febrl4()\n",
    "\n",
    "dfA.head()"
   ]
  },
  {
   "cell_type": "markdown",
   "metadata": {
    "pycharm": {
     "name": "#%% md\n"
    }
   },
   "source": [
    "Note that for computing this linkage we will **not** use the social security id column or the `rec_id` index."
   ]
  },
  {
   "cell_type": "code",
   "execution_count": 5,
   "metadata": {
    "pycharm": {
     "is_executing": true
    }
   },
   "outputs": [
    {
     "data": {
      "text/plain": [
       "Index(['given_name', 'surname', 'street_number', 'address_1', 'address_2',\n",
       "       'suburb', 'postcode', 'state', 'date_of_birth', 'soc_sec_id'],\n",
       "      dtype='object')"
      ]
     },
     "execution_count": 5,
     "metadata": {},
     "output_type": "execute_result"
    }
   ],
   "source": [
    "dfA.columns"
   ]
  },
  {
   "cell_type": "code",
   "execution_count": 6,
   "metadata": {
    "pycharm": {
     "is_executing": true,
     "name": "#%%\n"
    }
   },
   "outputs": [],
   "source": [
    "dfA.to_csv('PII_a.csv')"
   ]
  },
  {
   "cell_type": "markdown",
   "metadata": {
    "pycharm": {
     "name": "#%% md\n"
    }
   },
   "source": [
    "## Hashing Schema Definition\n",
    "\n",
    "A hashing schema instructs clkhash how to treat each column for generating CLKs. A detailed description of the hashing schema can be found in the [api docs](http://clkhash.readthedocs.io/en/latest/schema.html). We will ignore the columns 'rec_id' and 'soc_sec_id' for CLK generation.\n",
    "\n"
   ]
  },
  {
   "cell_type": "code",
   "execution_count": 7,
   "metadata": {
    "pycharm": {
     "is_executing": true,
     "name": "#%%\n"
    },
    "scrolled": true
   },
   "outputs": [
    {
     "name": "stdout",
     "output_type": "stream",
     "text": [
      "{\n",
      "  \"version\": 3,\n",
      "  \"clkConfig\": {\n",
      "    \"l\": 1024,\n",
      "    \"kdf\": {\n",
      "      \"type\": \"HKDF\",\n",
      "      \"hash\": \"SHA256\",\n",
      "        \"info\": \"c2NoZW1hX2V4YW1wbGU=\",\n",
      "        \"salt\": \"SCbL2zHNnmsckfzchsNkZY9XoHk96P/G5nUBrM7ybymlEFsMV6PAeDZCNp3rfNUPCtLDMOGQHG4pCQpfhiHCyA==\",\n",
      "        \"keySize\": 64\n",
      "    }\n",
      "  },\n",
      "  \"features\": [\n",
      "    {\n",
      "      \"identifier\": \"rec_id\",\n",
      "      \"ignored\": true\n",
      "    },\n",
      "    {\n",
      "      \"identifier\": \"given_name\",\n",
      "      \"format\": { \"type\": \"string\", \"encoding\": \"utf-8\", \"maxLength\": 64 },\n",
      "      \"hashing\": { \"comparison\": {\"type\": \"ngram\", \"n\": 2}, \"strategy\": {\"bitsPerFeature\": 300}, \"hash\": {\"type\": \"doubleHash\"} }\n",
      "    },\n",
      "    {\n",
      "      \"identifier\": \"surname\",\n",
      "      \"format\": { \"type\": \"string\", \"encoding\": \"utf-8\", \"maxLength\": 64 },\n",
      "      \"hashing\": { \"comparison\": {\"type\": \"ngram\", \"n\": 2}, \"strategy\": {\"bitsPerFeature\": 300}, \"hash\": {\"type\": \"doubleHash\"} }\n",
      "    },\n",
      "    {\n",
      "      \"identifier\": \"street_number\",\n",
      "      \"format\": { \"type\": \"integer\" },\n",
      "      \"hashing\": { \"comparison\": {\"type\": \"ngram\", \"n\": 1, \"positional\": true}, \"strategy\": {\"bitsPerFeature\": 300}, \"missingValue\": {\"sentinel\": \"\"} }\n",
      "    },\n",
      "    {\n",
      "      \"identifier\": \"address_1\",\n",
      "      \"format\": { \"type\": \"string\", \"encoding\": \"utf-8\" },\n",
      "      \"hashing\": { \"comparison\": {\"type\": \"ngram\", \"n\": 2}, \"strategy\": {\"bitsPerFeature\":  300} }\n",
      "    },\n",
      "    {\n",
      "      \"identifier\": \"address_2\",\n",
      "      \"format\": { \"type\": \"string\", \"encoding\": \"utf-8\" },\n",
      "      \"hashing\": { \"comparison\": {\"type\": \"ngram\", \"n\": 2}, \"strategy\": {\"bitsPerFeature\":  300} }\n",
      "    },\n",
      "    {\n",
      "      \"identifier\": \"suburb\",\n",
      "      \"format\": { \"type\": \"string\", \"encoding\": \"utf-8\" },\n",
      "      \"hashing\": { \"comparison\": {\"type\": \"ngram\", \"n\": 2}, \"strategy\": {\"bitsPerFeature\":  300} }\n",
      "    },\n",
      "    {\n",
      "      \"identifier\": \"postcode\",\n",
      "      \"format\": { \"type\": \"integer\", \"minimum\": 100, \"maximum\": 9999 },\n",
      "      \"hashing\": { \"comparison\": {\"type\": \"ngram\", \"n\": 1, \"positional\": true}, \"strategy\": {\"bitsPerFeature\":  300} }\n",
      "    },\n",
      "    {\n",
      "      \"identifier\": \"state\",\n",
      "      \"format\": { \"type\": \"string\", \"encoding\": \"utf-8\", \"maxLength\": 3 },\n",
      "      \"hashing\": { \"comparison\": {\"type\": \"ngram\", \"n\": 2}, \"strategy\": {\"bitsPerFeature\": 300} }\n",
      "    },\n",
      "    {\n",
      "      \"identifier\": \"date_of_birth\",\n",
      "      \"format\": { \"type\": \"integer\" },\n",
      "      \"hashing\": { \"comparison\": {\"type\": \"ngram\", \"n\": 1, \"positional\": true}, \"strategy\": {\"bitsPerFeature\":  300}, \"missingValue\": {\"sentinel\": \"\"} }\n",
      "    },\n",
      "    {\n",
      "      \"identifier\": \"soc_sec_id\",\n",
      "      \"ignored\": true\n",
      "    }\n",
      "  ]\n",
      "}\n",
      "\n"
     ]
    }
   ],
   "source": [
    "with open(\"../_static/febrl_schema_v3_overweight.json\") as f:\n",
    "    print(f.read())"
   ]
  },
  {
   "cell_type": "markdown",
   "metadata": {
    "pycharm": {
     "name": "#%% md\n"
    }
   },
   "source": [
    "## Validate the schema\n",
    "\n",
    "The command line tool can check that the linkage schema is valid:"
   ]
  },
  {
   "cell_type": "code",
   "execution_count": 8,
   "metadata": {
    "pycharm": {
     "is_executing": true,
     "name": "#%%\n"
    },
    "tags": [
     "nbval-ignore-output"
    ]
   },
   "outputs": [
    {
     "name": "stdout",
     "output_type": "stream",
     "text": [
      "\u001b[32mschema is valid\u001b[0m\r\n"
     ]
    }
   ],
   "source": [
    "!anonlink validate-schema \"../_static/febrl_schema_v3_overweight.json\""
   ]
  },
  {
   "cell_type": "markdown",
   "metadata": {
    "pycharm": {
     "name": "#%% md\n"
    }
   },
   "source": [
    "## Encode the data\n",
    "\n",
    "We can now encode our Personally Identifiable Information (PII) data from the CSV file using our defined linkage schema. We must provide a *secret key* to this command - this secret has to be used by all parties contributing data. For this toy example we will use the secret `horse staple battery`, for real data, make sure that the secret contains enough entropy, as knowledge of this secret is sufficient to reconstruct the PII information from a CLK! \n",
    "\n",
    "Also, **do not share these keys with anyone, except the other participating party.**"
   ]
  },
  {
   "cell_type": "code",
   "execution_count": 9,
   "metadata": {
    "pycharm": {
     "is_executing": true,
     "name": "#%%\n"
    }
   },
   "outputs": [
    {
     "name": "stdout",
     "output_type": "stream",
     "text": [
      "generating CLKs: 100%|█| 5.00k/5.00k [00:03<00:00, 1.45kclk/s, mean=944, std=14.\n",
      "\u001b[31mCLK data written to clks_a.json\u001b[0m\n"
     ]
    }
   ],
   "source": [
    "# NBVAL_IGNORE_OUTPUT\n",
    "!anonlink hash \"PII_a.csv\" \"horse staple battery\" \"../_static/febrl_schema_v3_overweight.json\" \"clks_a.json\" -v"
   ]
  },
  {
   "cell_type": "markdown",
   "metadata": {
    "pycharm": {
     "name": "#%% md\n"
    }
   },
   "source": [
    "## Inspect the output\n",
    "\n",
    "The PII has now been encoded, anonlink-client has used the `clkhash` library to create a _Cryptographic Longterm Key_ for each entity. The stats output shows that the mean number of bits set is quite high (more than 900 out of 1024) which can effect accuracy.\n",
    "\n",
    "To fix this, we can reduce the popcount by modifying the  _'strategy'_ for different fields. \n",
    "\n",
    "This can be used to de-emphasise columns which are less suitable for linkage (e.g. information that changes frequently)."
   ]
  },
  {
   "cell_type": "code",
   "execution_count": 13,
   "metadata": {
    "pycharm": {
     "is_executing": true,
     "name": "#%%\n"
    }
   },
   "outputs": [
    {
     "data": {
      "image/png": "[encoded data removed]",
      "text/plain": [
       "<Figure size 432x288 with 1 Axes>"
      ]
     },
     "metadata": {
      "needs_background": "light"
     },
     "output_type": "display_data"
    }
   ],
   "source": [
    "def show_clk_popcounts(filename):\n",
    "    with open(filename) as f:\n",
    "        serialized_clks = json.load(f)['clks']\n",
    "    popcounts = get_encoding_popcounts([deserialize_bitarray(clk) for clk in serialized_clks])\n",
    "\n",
    "    plt.hist(popcounts, bins=50)\n",
    "    plt.title(\"Popcount Distribution\")\n",
    "    plt.xlabel(\"Number of bits set\")\n",
    "\n",
    "show_clk_popcounts(\"clks_a.json\")"
   ]
  },
  {
   "cell_type": "markdown",
   "metadata": {
    "pycharm": {
     "name": "#%% md\n"
    }
   },
   "source": [
    "First, we will reduce the value of *bits_per_feature* for each feature."
   ]
  },
  {
   "cell_type": "code",
   "execution_count": 14,
   "metadata": {
    "pycharm": {
     "is_executing": true
    }
   },
   "outputs": [
    {
     "name": "stdout",
     "output_type": "stream",
     "text": [
      "{\n",
      "  \"version\": 3,\n",
      "  \"clkConfig\": {\n",
      "    \"l\": 1024,\n",
      "    \"kdf\": {\n",
      "      \"type\": \"HKDF\",\n",
      "      \"hash\": \"SHA256\",\n",
      "        \"info\": \"c2NoZW1hX2V4YW1wbGU=\",\n",
      "        \"salt\": \"SCbL2zHNnmsckfzchsNkZY9XoHk96P/G5nUBrM7ybymlEFsMV6PAeDZCNp3rfNUPCtLDMOGQHG4pCQpfhiHCyA==\",\n",
      "        \"keySize\": 64\n",
      "    }\n",
      "  },\n",
      "  \"features\": [\n",
      "    {\n",
      "      \"identifier\": \"rec_id\",\n",
      "      \"ignored\": true\n",
      "    },\n",
      "    {\n",
      "      \"identifier\": \"given_name\",\n",
      "      \"format\": { \"type\": \"string\", \"encoding\": \"utf-8\", \"maxLength\": 64 },\n",
      "      \"hashing\": { \"comparison\": {\"type\": \"ngram\", \"n\": 2}, \"strategy\": {\"bitsPerFeature\": 200}, \"hash\": {\"type\": \"doubleHash\"} }\n",
      "    },\n",
      "    {\n",
      "      \"identifier\": \"surname\",\n",
      "      \"format\": { \"type\": \"string\", \"encoding\": \"utf-8\", \"maxLength\": 64 },\n",
      "      \"hashing\": { \"comparison\": {\"type\": \"ngram\", \"n\": 2}, \"strategy\": {\"bitsPerFeature\": 200}, \"hash\": {\"type\": \"doubleHash\"} }\n",
      "    },\n",
      "    {\n",
      "      \"identifier\": \"street_number\",\n",
      "      \"format\": { \"type\": \"integer\" },\n",
      "      \"hashing\": { \"comparison\": {\"type\": \"ngram\", \"n\": 1, \"positional\": true}, \"strategy\": {\"bitsPerFeature\": 200}, \"missingValue\": {\"sentinel\": \"\"} }\n",
      "    },\n",
      "    {\n",
      "      \"identifier\": \"address_1\",\n",
      "      \"format\": { \"type\": \"string\", \"encoding\": \"utf-8\" },\n",
      "      \"hashing\": { \"comparison\": {\"type\": \"ngram\", \"n\": 2}, \"strategy\": {\"bitsPerFeature\":  200} }\n",
      "    },\n",
      "    {\n",
      "      \"identifier\": \"address_2\",\n",
      "      \"format\": { \"type\": \"string\", \"encoding\": \"utf-8\" },\n",
      "      \"hashing\": { \"comparison\": {\"type\": \"ngram\", \"n\": 2}, \"strategy\": {\"bitsPerFeature\":  200} }\n",
      "    },\n",
      "    {\n",
      "      \"identifier\": \"suburb\",\n",
      "      \"format\": { \"type\": \"string\", \"encoding\": \"utf-8\" },\n",
      "      \"hashing\": { \"comparison\": {\"type\": \"ngram\", \"n\": 2}, \"strategy\": {\"bitsPerFeature\":  200} }\n",
      "    },\n",
      "    {\n",
      "      \"identifier\": \"postcode\",\n",
      "      \"format\": { \"type\": \"integer\", \"minimum\": 100, \"maximum\": 9999 },\n",
      "      \"hashing\": { \"comparison\": {\"type\": \"ngram\", \"n\": 1, \"positional\": true}, \"strategy\": {\"bitsPerFeature\":  200} }\n",
      "    },\n",
      "    {\n",
      "      \"identifier\": \"state\",\n",
      "      \"format\": { \"type\": \"string\", \"encoding\": \"utf-8\", \"maxLength\": 3 },\n",
      "      \"hashing\": { \"comparison\": {\"type\": \"ngram\", \"n\": 2}, \"strategy\": {\"bitsPerFeature\": 200} }\n",
      "    },\n",
      "    {\n",
      "      \"identifier\": \"date_of_birth\",\n",
      "      \"format\": { \"type\": \"integer\" },\n",
      "      \"hashing\": { \"comparison\": {\"type\": \"ngram\", \"n\": 1, \"positional\": true}, \"strategy\": {\"bitsPerFeature\":  200}, \"missingValue\": {\"sentinel\": \"\"} }\n",
      "    },\n",
      "    {\n",
      "      \"identifier\": \"soc_sec_id\",\n",
      "      \"ignored\": true\n",
      "    }\n",
      "  ]\n",
      "}\n",
      "\n"
     ]
    }
   ],
   "source": [
    "with open(\"../_static/febrl_schema_v3_reduced.json\") as f:\n",
    "    print(f.read())"
   ]
  },
  {
   "cell_type": "code",
   "execution_count": 15,
   "metadata": {
    "pycharm": {
     "is_executing": true,
     "name": "#%%\n"
    }
   },
   "outputs": [
    {
     "name": "stdout",
     "output_type": "stream",
     "text": [
      "generating CLKs: 100%|█| 5.00k/5.00k [00:02<00:00, 1.67kclk/s, mean=839, std=20.\n",
      "\u001b[31mCLK data written to clks_a.json\u001b[0m\n"
     ]
    }
   ],
   "source": [
    "# NBVAL_IGNORE_OUTPUT\n",
    "!anonlink hash \"PII_a.csv\" secret \"../_static/febrl_schema_v3_reduced.json\" \"clks_a.json\" -v"
   ]
  },
  {
   "cell_type": "markdown",
   "metadata": {
    "pycharm": {
     "name": "#%% md\n"
    }
   },
   "source": [
    "And now we will modify the `bits_per_feature` values again, this time de-emphasising the contribution of the address related columns."
   ]
  },
  {
   "cell_type": "code",
   "execution_count": 16,
   "metadata": {
    "pycharm": {
     "is_executing": true
    }
   },
   "outputs": [
    {
     "name": "stdout",
     "output_type": "stream",
     "text": [
      "{\n",
      "  \"version\": 3,\n",
      "  \"clkConfig\": {\n",
      "    \"l\": 1024,\n",
      "    \"kdf\": {\n",
      "      \"type\": \"HKDF\",\n",
      "      \"hash\": \"SHA256\",\n",
      "        \"info\": \"c2NoZW1hX2V4YW1wbGU=\",\n",
      "        \"salt\": \"SCbL2zHNnmsckfzchsNkZY9XoHk96P/G5nUBrM7ybymlEFsMV6PAeDZCNp3rfNUPCtLDMOGQHG4pCQpfhiHCyA==\",\n",
      "        \"keySize\": 64\n",
      "    }\n",
      "  },\n",
      "  \"features\": [\n",
      "    {\n",
      "      \"identifier\": \"rec_id\",\n",
      "      \"ignored\": true\n",
      "    },\n",
      "    {\n",
      "      \"identifier\": \"given_name\",\n",
      "      \"format\": { \"type\": \"string\", \"encoding\": \"utf-8\", \"maxLength\": 64 },\n",
      "      \"hashing\": { \"comparison\": {\"type\": \"ngram\", \"n\": 2}, \"strategy\": {\"bitsPerFeature\": 200}, \"hash\": {\"type\": \"doubleHash\"} }\n",
      "    },\n",
      "    {\n",
      "      \"identifier\": \"surname\",\n",
      "      \"format\": { \"type\": \"string\", \"encoding\": \"utf-8\", \"maxLength\": 64 },\n",
      "      \"hashing\": { \"comparison\": {\"type\": \"ngram\", \"n\": 2}, \"strategy\": {\"bitsPerFeature\": 200}, \"hash\": {\"type\": \"doubleHash\"} }\n",
      "    },\n",
      "    {\n",
      "      \"identifier\": \"street_number\",\n",
      "      \"format\": { \"type\": \"integer\" },\n",
      "      \"hashing\": { \"comparison\": {\"type\": \"ngram\", \"n\": 1, \"positional\": true}, \"strategy\": {\"bitsPerFeature\": 100}, \"missingValue\": {\"sentinel\": \"\"} }\n",
      "    },\n",
      "    {\n",
      "      \"identifier\": \"address_1\",\n",
      "      \"format\": { \"type\": \"string\", \"encoding\": \"utf-8\" },\n",
      "      \"hashing\": { \"comparison\": {\"type\": \"ngram\", \"n\": 2}, \"strategy\": {\"bitsPerFeature\":  100} }\n",
      "    },\n",
      "    {\n",
      "      \"identifier\": \"address_2\",\n",
      "      \"format\": { \"type\": \"string\", \"encoding\": \"utf-8\" },\n",
      "      \"hashing\": { \"comparison\": {\"type\": \"ngram\", \"n\": 2}, \"strategy\": {\"bitsPerFeature\":  100} }\n",
      "    },\n",
      "    {\n",
      "      \"identifier\": \"suburb\",\n",
      "      \"format\": { \"type\": \"string\", \"encoding\": \"utf-8\" },\n",
      "      \"hashing\": { \"comparison\": {\"type\": \"ngram\", \"n\": 2}, \"strategy\": {\"bitsPerFeature\":  100} }\n",
      "    },\n",
      "    {\n",
      "      \"identifier\": \"postcode\",\n",
      "      \"format\": { \"type\": \"integer\", \"minimum\": 50, \"maximum\": 9999 },\n",
      "      \"hashing\": { \"comparison\": {\"type\": \"ngram\", \"n\": 1, \"positional\": true}, \"strategy\": {\"bitsPerFeature\":  100} }\n",
      "    },\n",
      "    {\n",
      "      \"identifier\": \"state\",\n",
      "      \"format\": { \"type\": \"string\", \"encoding\":  \"utf-8\"},\n",
      "      \"hashing\": {\"comparison\": {\"type\": \"ngram\", \"n\": 2, \"positional\": true}, \"strategy\": {\"bitsPerFeature\": 100}, \"missingValue\": {\"sentinel\":  \"\"}\n",
      "      }\n",
      "    },\n",
      "    {\n",
      "      \"identifier\": \"date_of_birth\",\n",
      "      \"format\": { \"type\": \"integer\" },\n",
      "      \"hashing\": { \"comparison\": {\"type\": \"ngram\", \"n\": 1, \"positional\": true}, \"strategy\": {\"bitsPerFeature\":  200}, \"missingValue\": {\"sentinel\": \"\"} }\n",
      "    },\n",
      "    {\n",
      "      \"identifier\": \"soc_sec_id\",\n",
      "      \"ignored\": true\n",
      "    }\n",
      "  ]\n",
      "}\n",
      "\n"
     ]
    }
   ],
   "source": [
    "with open(\"../_static/febrl_schema_v3_final.json\") as f:\n",
    "    print(f.read())"
   ]
  },
  {
   "cell_type": "code",
   "execution_count": 17,
   "metadata": {
    "pycharm": {
     "is_executing": true
    }
   },
   "outputs": [
    {
     "name": "stdout",
     "output_type": "stream",
     "text": [
      "generating CLKs: 100%|█| 5.00k/5.00k [00:02<00:00, 2.12kclk/s, mean=696, std=23.\n",
      "\u001b[31mCLK data written to clks_a.json\u001b[0m\n"
     ]
    }
   ],
   "source": [
    "# NBVAL_IGNORE_OUTPUT\n",
    "!anonlink hash \"PII_a.csv\" secret \"../_static/febrl_schema_v3_final.json\" \"clks_a.json\" -v"
   ]
  },
  {
   "cell_type": "code",
   "execution_count": 18,
   "metadata": {
    "pycharm": {
     "is_executing": true,
     "name": "#%%\n"
    }
   },
   "outputs": [
    {
     "data": {
      "image/png": "[encoded data removed]",
      "text/plain": [
       "<Figure size 432x288 with 1 Axes>"
      ]
     },
     "metadata": {
      "needs_background": "light"
     },
     "output_type": "display_data"
    }
   ],
   "source": [
    "show_clk_popcounts(\"clks_a.json\")"
   ]
  },
  {
   "cell_type": "markdown",
   "metadata": {
    "pycharm": {}
   },
   "source": [
    "Great, now approximately half the bits are set in each CLK. \n",
    "\n",
    "Each CLK is serialized in a JSON friendly base64 format:"
   ]
  },
  {
   "cell_type": "markdown",
   "metadata": {
    "pycharm": {
     "name": "#%% md\n"
    }
   },
   "source": [
    "## Hash data set B\n",
    "\n",
    "Now we hash the second dataset using the same keys and same schema."
   ]
  },
  {
   "cell_type": "code",
   "execution_count": 19,
   "metadata": {
    "pycharm": {
     "is_executing": true,
     "name": "#%%\n"
    }
   },
   "outputs": [
    {
     "name": "stdout",
     "output_type": "stream",
     "text": [
      "generating CLKs: 100%|█| 5.00k/5.00k [00:02<00:00, 1.88kclk/s, mean=687, std=30.\n",
      "\u001b[31mCLK data written to clks_b.json\u001b[0m\n"
     ]
    }
   ],
   "source": [
    "# NBVAL_IGNORE_OUTPUT\n",
    "dfB.to_csv(\"PII_b.csv\")\n",
    "\n",
    "!anonlink hash \"PII_b.csv\" secret \"../_static/febrl_schema_v3_final.json\" \"clks_b.json\" -v"
   ]
  },
  {
   "cell_type": "code",
   "execution_count": 20,
   "metadata": {
    "pycharm": {
     "is_executing": true,
     "name": "#%%\n"
    }
   },
   "outputs": [
    {
     "data": {
      "image/png": "[encoded data removed]",
      "text/plain": [
       "<Figure size 432x288 with 1 Axes>"
      ]
     },
     "metadata": {
      "needs_background": "light"
     },
     "output_type": "display_data"
    }
   ],
   "source": [
    "show_clk_popcounts(\"clks_b.json\")"
   ]
  },
  {
   "cell_type": "markdown",
   "metadata": {
    "pycharm": {
     "name": "#%% md\n"
    }
   },
   "source": [
    "# Blocking\n",
    "\n"
   ]
  },
  {
   "cell_type": "markdown",
   "metadata": {
    "pycharm": {
     "name": "#%% md\n"
    }
   },
   "source": [
    "We create a blocking schema to group the encodings into similar blocks on the client side. The central linkage service will then compare all encodings in each block, efficient blocking can drastically reduce the total number of encoding comparisons the central linkage service must carry out."
   ]
  },
  {
   "cell_type": "code",
   "execution_count": 21,
   "metadata": {
    "pycharm": {
     "is_executing": true,
     "name": "#%%\n"
    }
   },
   "outputs": [],
   "source": [
    "# NBVAL_IGNORE_OUTPUT\n",
    "with open(\"blocking_schema.json\", 'wt') as f:\n",
    "    f.write(\"\"\"\n",
    "{\n",
    "    \"type\": \"lambda-fold\",\n",
    "    \"version\": 1,\n",
    "    \"config\": {\n",
    "        \"blocking-features\": [6],\n",
    "        \"Lambda\": 3,\n",
    "        \"bf-len\": 64,\n",
    "        \"num-hash-funcs\": 3,\n",
    "        \"K\": 5,\n",
    "        \"input-clks\": true,\n",
    "        \"random_state\": 0\n",
    "    }\n",
    "}    \n",
    "    \"\"\")"
   ]
  },
  {
   "cell_type": "code",
   "execution_count": 22,
   "metadata": {
    "pycharm": {
     "is_executing": true
    }
   },
   "outputs": [
    {
     "name": "stdout",
     "output_type": "stream",
     "text": [
      "Statistics for the generated blocks:\r\n",
      "\tNumber of Blocks:   96\r\n",
      "\tMinimum Block Size: 2\r\n",
      "\tMaximum Block Size: 1152\r\n",
      "\tAverage Block Size: 156.25\r\n",
      "\tMedian Block Size:  85\r\n",
      "\tStandard Deviation of Block Size:  188.9700616778391\r\n"
     ]
    }
   ],
   "source": [
    "# NBVAL_IGNORE_OUTPUT \n",
    "!anonlink block 'clks_a.json' 'blocking_schema.json' 'blocks_a.json'"
   ]
  },
  {
   "cell_type": "code",
   "execution_count": 23,
   "metadata": {
    "pycharm": {
     "is_executing": true,
     "name": "#%%\n"
    }
   },
   "outputs": [
    {
     "name": "stdout",
     "output_type": "stream",
     "text": [
      "Statistics for the generated blocks:\r\n",
      "\tNumber of Blocks:   96\r\n",
      "\tMinimum Block Size: 3\r\n",
      "\tMaximum Block Size: 1108\r\n",
      "\tAverage Block Size: 156.25\r\n",
      "\tMedian Block Size:  86\r\n",
      "\tStandard Deviation of Block Size:  181.9370625706651\r\n"
     ]
    }
   ],
   "source": [
    "# NBVAL_IGNORE_OUTPUT\n",
    "!anonlink block 'clks_b.json' 'blocking_schema.json' 'blocks_b.json'"
   ]
  },
  {
   "cell_type": "markdown",
   "metadata": {
    "pycharm": {
     "name": "#%% md\n"
    }
   },
   "source": [
    "Various blocking statistics are printed out to help with refining the blocking schema. The record linkage run time will be largely dominated by the maximum block size, and the number of blocks. In general the smaller the average block size, the better."
   ]
  },
  {
   "cell_type": "markdown",
   "metadata": {
    "pycharm": {
     "name": "#%% md\n"
    }
   },
   "source": [
    "## Find matches between the two sets of CLKs\n",
    "\n",
    "We have generated two sets of blocked CLKs which represent individual entitys in a privacy-preserving way. The more similar the bits in two CLKs are, the more likely it is that they represent the same entity.\n",
    "\n",
    "To compare the similarity between the bits we will use the anonlink entity service, which is provided by Data61. \n",
    "\n",
    "The necessary steps are as follows:\n",
    "\n",
    "- The analyst creates a new project. They will receive a set of credentials from the server.\n",
    "- The analyst then distributes the `update_tokens` to the participating data providers.\n",
    "- The data providers then individually upload their respective encodings.\n",
    "- The analyst can create *runs* with various thresholds (and other settings)\n",
    "- After the entity service successfully computed the mapping, it can be accessed by providing the `result_token`\n",
    "\n",
    "First we check the status of an entity service:"
   ]
  },
  {
   "cell_type": "code",
   "execution_count": 25,
   "metadata": {
    "pycharm": {
     "is_executing": true,
     "name": "#%%\n"
    }
   },
   "outputs": [
    {
     "name": "stdout",
     "output_type": "stream",
     "text": [
      "{\"project_count\": 1554, \"rate\": 521702, \"status\": \"ok\"}\r\n"
     ]
    }
   ],
   "source": [
    "# NBVAL_IGNORE_OUTPUT\n",
    "SERVER = 'https://anonlink.easd.data61.xyz'\n",
    "!anonlink status --server={SERVER}"
   ]
  },
  {
   "cell_type": "markdown",
   "metadata": {
    "pycharm": {
     "name": "#%% md\n"
    }
   },
   "source": [
    "The analyst creates a new project on the entity service by providing the hashing schema and result type. The server returns a set of credentials which provide access to the further steps for project."
   ]
  },
  {
   "cell_type": "code",
   "execution_count": 26,
   "metadata": {
    "pycharm": {
     "name": "#%%\n"
    }
   },
   "outputs": [
    {
     "name": "stdout",
     "output_type": "stream",
     "text": [
      "\u001b[31mProject created\u001b[0m\r\n"
     ]
    }
   ],
   "source": [
    "# NBVAL_IGNORE_OUTPUT\n",
    "!anonlink create-project --server={SERVER} --schema \"../_static/febrl_schema_v3_final.json\" --output \"credentials.json\" --type \"groups\" --name \"Blocking Test\" --blocked"
   ]
  },
  {
   "cell_type": "markdown",
   "metadata": {
    "pycharm": {
     "is_executing": true,
     "name": "#%%\n"
    }
   },
   "source": [
    "The returned credentials contain a \n",
    "- `project_id`, which identifies the project\n",
    "- `result_token`, which gives access to the result, once computed\n",
    "- `upload_tokens`, one for each provider, allows uploading CLKs."
   ]
  },
  {
   "cell_type": "markdown",
   "metadata": {
    "pycharm": {
     "name": "#%% md\n"
    }
   },
   "source": [
    "The returned credentials contain a \n",
    "- `project_id`, which identifies the project\n",
    "- `result_token`, which gives access to the result, once computed\n",
    "- `upload_tokens`, one for each provider, allows uploading CLKs."
   ]
  },
  {
   "cell_type": "code",
   "execution_count": 27,
   "metadata": {
    "pycharm": {
     "is_executing": true,
     "name": "#%%\n"
    }
   },
   "outputs": [
    {
     "name": "stdout",
     "output_type": "stream",
     "text": [
      "{\n",
      "    \"project_id\": \"c23150a3d79b8abc7f6af32e50fa3f99a78cb87bc306063e\",\n",
      "    \"result_token\": \"3e93c3bcb29c48c70fafbd4f8b6f50826baab3cb9b01a6e9\",\n",
      "    \"update_tokens\": [\n",
      "        \"bbadf1cf836438c013fda6c320fa1d394bd0d54ba8c7478b\",\n",
      "        \"a36fa5b5f2ec5d92bd0676adf3022ab255914dc126df42e9\"\n",
      "    ]\n",
      "}\n"
     ]
    }
   ],
   "source": [
    "# NBVAL_IGNORE_OUTPUT\n",
    "credentials = json.load(open(\"credentials.json\", 'rt'))\n",
    "print(json.dumps(credentials, indent=4))"
   ]
  },
  {
   "cell_type": "markdown",
   "metadata": {
    "pycharm": {
     "name": "#%% md\n"
    }
   },
   "source": [
    "### Uploading the CLKs to the entity service\n",
    "Each party individually uploads its respective CLKs to the entity service. They need to provide the `project_id`, which identifies the correct results, and an `update_token`.\n",
    "\n",
    "By default, data is uploaded to object store since it has more reliable uploading mechanism especially with large size datasets. You can also specify to upload to entity service directly by adding a flag `--to_entityservice` to command `upload`. A message will be printed to tell users if the encodings and blocks are uploaded to object store:\n",
    "\n",
    "```\n",
    "Anonlink client: Uploading to the external object store - MINIO\n",
    "```\n",
    "or they are uploaded to entity service:\n",
    "```\n",
    "Anonlink client: Uploading to entity service\n",
    "```\n",
    "\n",
    "Note that the progress bar is only available when uploading to object store. Uploading to entity service is performed with `requests` which does not support streaming upload yet."
   ]
  },
  {
   "cell_type": "code",
   "execution_count": 28,
   "metadata": {
    "pycharm": {
     "is_executing": true,
     "name": "#%%\n"
    }
   },
   "outputs": [
    {
     "name": "stdout",
     "output_type": "stream",
     "text": [
      "uploads\n",
      "Anonlink client: Uploading to the external object store - MINIO\n",
      "Upload blocks_a.json: |####################| 0.45 MB/0.45 MB 100% [elapsed: 00:00 left: 00:00,  1.56 MB/sec]"
     ]
    }
   ],
   "source": [
    "# NBVAL_IGNORE_OUTPUT\n",
    "!anonlink upload \\\n",
    "       --project=\"{credentials['project_id']}\" \\\n",
    "        --apikey=\"{credentials['update_tokens'][0]}\" \\\n",
    "        --output \"upload_a.json\" \\\n",
    "        --server=\"{SERVER}\" \\\n",
    "        --blocks=\"blocks_a.json\" \\\n",
    "        \"clks_a.json\""
   ]
  },
  {
   "cell_type": "code",
   "execution_count": 29,
   "metadata": {
    "pycharm": {
     "is_executing": true
    }
   },
   "outputs": [
    {
     "name": "stdout",
     "output_type": "stream",
     "text": [
      "uploads\n",
      "Anonlink client: Uploading to the external object store - MINIO\n",
      "Upload blocks_b.json: |####################| 0.45 MB/0.45 MB 100% [elapsed: 00:00 left: 00:00,  1.76 MB/sec]"
     ]
    }
   ],
   "source": [
    "# NBVAL_IGNORE_OUTPUT\n",
    "!anonlink upload \\\n",
    "       --project=\"{credentials['project_id']}\" \\\n",
    "        --apikey=\"{credentials['update_tokens'][1]}\" \\\n",
    "        --output \"upload_b.json\" \\\n",
    "        --server=\"{SERVER}\" \\\n",
    "        --blocks=\"blocks_b.json\" \\\n",
    "        \"clks_b.json\""
   ]
  },
  {
   "cell_type": "markdown",
   "metadata": {
    "pycharm": {
     "name": "#%% md\n"
    }
   },
   "source": [
    "Now that the CLK data has been uploaded the analyst can create one or more *runs*. Here we will start by calculating a mapping with a threshold of `0.9`:"
   ]
  },
  {
   "cell_type": "code",
   "execution_count": 30,
   "metadata": {
    "pycharm": {
     "is_executing": true,
     "name": "#%%\n"
    }
   },
   "outputs": [
    {
     "name": "stdout",
     "output_type": "stream",
     "text": [
      "\u001b[31mConnecting to Entity Matching Server: https://anonlink.easd.data61.xyz\u001b[0m\r\n"
     ]
    }
   ],
   "source": [
    "# NBVAL_IGNORE_OUTPUT\n",
    "!anonlink create --verbose  \\\n",
    "    --server=\"{SERVER}\" \\\n",
    "    --output \"run_info.json\" \\\n",
    "    --threshold=0.9 \\\n",
    "    --project=\"{credentials['project_id']}\" \\\n",
    "    --apikey=\"{credentials['result_token']}\" \\\n",
    "    --name=\"Blocked run\""
   ]
  },
  {
   "cell_type": "code",
   "execution_count": 31,
   "metadata": {
    "pycharm": {
     "is_executing": true
    }
   },
   "outputs": [
    {
     "data": {
      "text/plain": [
       "{'name': 'Blocked run',\n",
       " 'notes': 'Run created by anonlink-client 0.1.4b0',\n",
       " 'run_id': '3a294af61ba6123734eefae00781706158edcd58e08883fd',\n",
       " 'threshold': 0.9}"
      ]
     },
     "execution_count": 31,
     "metadata": {},
     "output_type": "execute_result"
    }
   ],
   "source": [
    "# NBVAL_IGNORE_OUTPUT\n",
    "run_info = json.load(open(\"run_info.json\", 'rt'))\n",
    "run_info"
   ]
  },
  {
   "cell_type": "markdown",
   "metadata": {
    "pycharm": {
     "name": "#%% md\n"
    }
   },
   "source": [
    "## Results\n",
    "\n",
    "Now after some delay (depending on the size) we can fetch the results. This can be done with anonlink:"
   ]
  },
  {
   "cell_type": "code",
   "execution_count": 32,
   "metadata": {
    "pycharm": {
     "is_executing": true,
     "name": "#%%\n"
    },
    "scrolled": true,
    "tags": [
     "nbval-ignore-output"
    ]
   },
   "outputs": [
    {
     "name": "stdout",
     "output_type": "stream",
     "text": [
      "\u001b[31mState: completed\n",
      "Stage (3/3): compute output\u001b[0m\n",
      "\u001b[31mState: completed\n",
      "Stage (3/3): compute output\u001b[0m\n",
      "\u001b[31mState: completed\n",
      "Stage (3/3): compute output\u001b[0m\n",
      "\u001b[31mDownloading result\u001b[0m\n",
      "\u001b[31mReceived result\u001b[0m\n"
     ]
    }
   ],
   "source": [
    "# NBVAL_IGNORE_OUTPUT\n",
    "!anonlink results --watch \\\n",
    "        --project=\"{credentials['project_id']}\" \\\n",
    "        --apikey=\"{credentials['result_token']}\" \\\n",
    "        --run=\"{run_info['run_id']}\" \\\n",
    "        --server=\"{SERVER}\" \\\n",
    "        --output results.txt"
   ]
  },
  {
   "cell_type": "code",
   "execution_count": 33,
   "metadata": {
    "pycharm": {
     "is_executing": true
    }
   },
   "outputs": [
    {
     "name": "stdout",
     "output_type": "stream",
     "text": [
      "The service linked 3941 entities.\n"
     ]
    }
   ],
   "source": [
    "# NBVAL_IGNORE_OUTPUT\n",
    "def extract_matches(file):\n",
    "    with open(file, 'rt') as f:\n",
    "        results = json.load(f)['groups']\n",
    "    # each entry in `results` looks like this: '((0, 4039), (1, 2689))'.\n",
    "    # The format is ((dataset_id, row_id), (dataset_id, row_id))\n",
    "    # As we only have two parties in this example, we can remove the dataset_ids.\n",
    "    # Also, turning the solution into a set will make it easier to assess the\n",
    "    # quality of the matching.\n",
    "    found_matches = set((a, b) for ((_, a), (_, b)) in results)\n",
    "    print('The service linked {} entities.'.format(len(found_matches)))\n",
    "    return found_matches\n",
    "\n",
    "found_matches = extract_matches('results.txt')"
   ]
  },
  {
   "cell_type": "markdown",
   "metadata": {
    "pycharm": {
     "name": "#%% md\n"
    }
   },
   "source": [
    "Let's investigate some of those matches and the overall matching quality. In this case we have the ground truth so we can compute the precision and recall."
   ]
  },
  {
   "cell_type": "markdown",
   "metadata": {},
   "source": [
    "Fortunately, the febrl4 datasets contain record ids which tell us the correct linkages. Using this information we are able to create a set of the true matches."
   ]
  },
  {
   "cell_type": "code",
   "execution_count": 34,
   "metadata": {
    "pycharm": {
     "is_executing": true,
     "name": "#%%\n"
    }
   },
   "outputs": [],
   "source": [
    "# rec_id in dfA has the form 'rec-1070-org'. We only want the number. Additionally, as we are \n",
    "# interested in the position of the records, we create a new index which contains the row numbers.\n",
    "dfA_ = dfA.rename(lambda x: x[4:-4], axis='index').reset_index()\n",
    "dfB_ = dfB.rename(lambda x: x[4:-6], axis='index').reset_index()\n",
    "# now we can merge dfA_ and dfB_ on the record_id.\n",
    "a = pd.DataFrame({'ida': dfA_.index, 'rec_id': dfA_['rec_id']})\n",
    "b = pd.DataFrame({'idb': dfB_.index, 'rec_id': dfB_['rec_id']})\n",
    "dfj = a.merge(b, on='rec_id', how='inner').drop(columns=['rec_id'])\n",
    "# and build a set of the corresponding row numbers.\n",
    "true_matches = set((row[0], row[1]) for row in dfj.itertuples(index=False))"
   ]
  },
  {
   "cell_type": "code",
   "execution_count": 35,
   "metadata": {
    "pycharm": {
     "is_executing": true
    }
   },
   "outputs": [],
   "source": [
    "def describe_matching_quality(found_matches, show_examples=False):\n",
    "    if show_examples:\n",
    "        print('idx_a, idx_b,     rec_id_a,       rec_id_b')\n",
    "        print('---------------------------------------------')\n",
    "        for a_i, b_i in itertools.islice(found_matches, 10):\n",
    "            print('{:3}, {:6}, {:>15}, {:>15}'.format(a_i+1, b_i+1, a.iloc[a_i]['rec_id'], b.iloc[b_i]['rec_id']))\n",
    "        print('---------------------------------------------')\n",
    "    \n",
    "    tp = len(found_matches & true_matches)\n",
    "    fp = len(found_matches - true_matches)\n",
    "    fn = len(true_matches - found_matches)\n",
    "\n",
    "    precision = tp / (tp + fp)\n",
    "    recall = tp / (tp + fn)\n",
    "\n",
    "\n",
    "    print('Precision: {:.2f}, Recall: {:.2f}'.format(precision, recall))"
   ]
  },
  {
   "cell_type": "code",
   "execution_count": 36,
   "metadata": {
    "pycharm": {
     "is_executing": true
    }
   },
   "outputs": [
    {
     "name": "stdout",
     "output_type": "stream",
     "text": [
      "idx_a, idx_b,     rec_id_a,       rec_id_b\n",
      "---------------------------------------------\n",
      "3170,    259,            3730,            3730\n",
      "733,   2003,            4239,            4239\n",
      "1685,   3323,            2888,            2888\n",
      "4550,   3627,            4216,            4216\n",
      "1875,   2991,            4391,            4391\n",
      "3928,   2377,            3493,            3493\n",
      "4928,   4656,             276,             276\n",
      "2288,   4331,            3491,            3491\n",
      "334,    945,            4848,            4848\n",
      "4088,   2454,            1850,            1850\n",
      "---------------------------------------------\n",
      "Precision: 1.00, Recall: 0.79\n"
     ]
    }
   ],
   "source": [
    "# NBVAL_IGNORE_OUTPUT\n",
    "describe_matching_quality(found_matches, True)"
   ]
  },
  {
   "cell_type": "markdown",
   "metadata": {
    "pycharm": {
     "name": "#%% md\n"
    }
   },
   "source": [
    "Precision tells us about how many of the found matches are actual matches, and recall tells us how many of the actual matches we found.\n",
    "\n",
    "We may have to change how we encode or block the data, but first let's create another run with a lower `threshold` value."
   ]
  },
  {
   "cell_type": "code",
   "execution_count": 37,
   "metadata": {
    "pycharm": {
     "is_executing": true,
     "name": "#%%\n"
    }
   },
   "outputs": [
    {
     "name": "stdout",
     "output_type": "stream",
     "text": [
      "\u001b[31mConnecting to Entity Matching Server: https://anonlink.easd.data61.xyz\u001b[0m\r\n"
     ]
    }
   ],
   "source": [
    "# NBVAL_IGNORE_OUTPUT\n",
    "!anonlink create --verbose  \\\n",
    "    --server=\"{SERVER}\" \\\n",
    "    --output \"run_info.json\" \\\n",
    "    --threshold=0.8 \\\n",
    "    --project=\"{credentials['project_id']}\" \\\n",
    "    --apikey=\"{credentials['result_token']}\" \\\n",
    "    --name=\"Another blocked run\"\n",
    "\n",
    "run_info = json.load(open('run_info.json', 'rt'))"
   ]
  },
  {
   "cell_type": "code",
   "execution_count": 38,
   "metadata": {
    "pycharm": {
     "is_executing": true
    },
    "tags": [
     "nbval-ignore-output"
    ]
   },
   "outputs": [
    {
     "name": "stdout",
     "output_type": "stream",
     "text": [
      "\u001b[31mState: running\n",
      "Stage (3/3): compute output\u001b[0m\n",
      "\u001b[31mState: running\n",
      "Stage (3/3): compute output\u001b[0m\n",
      "\u001b[31mState: completed\n",
      "Stage (3/3): compute output\u001b[0m\n",
      "\u001b[31mDownloading result\u001b[0m\n",
      "\u001b[31mReceived result\u001b[0m\n"
     ]
    }
   ],
   "source": [
    "# NBVAL_IGNORE_OUTPUT\n",
    "!anonlink results --watch \\\n",
    "        --project=\"{credentials['project_id']}\" \\\n",
    "        --apikey=\"{credentials['result_token']}\" \\\n",
    "        --run=\"{run_info['run_id']}\" \\\n",
    "        --server=\"{SERVER}\" \\\n",
    "        --output results.txt"
   ]
  },
  {
   "cell_type": "code",
   "execution_count": 39,
   "metadata": {
    "pycharm": {
     "is_executing": true
    }
   },
   "outputs": [
    {
     "name": "stdout",
     "output_type": "stream",
     "text": [
      "The service linked 4586 entities.\n",
      "Precision: 1.00, Recall: 0.92\n"
     ]
    }
   ],
   "source": [
    "with open(\"results.txt\", 'rt') as f:\n",
    "    results = json.load(f)['groups']\n",
    "    \n",
    "found_matches = extract_matches('results.txt')\n",
    "describe_matching_quality(found_matches)"
   ]
  },
  {
   "cell_type": "markdown",
   "metadata": {
    "pycharm": {
     "name": "#%% md\n"
    }
   },
   "source": [
    "Great, for this lower threshold value we get a higher precision.\n",
    "\n",
    "The explanation is that when the information about an entity differs slightly in the two datasets (e.g. spelling errors, abbrevations, missing values, ...) then the corresponding CLKs will differ in some number of bits as well.\n",
    "\n",
    "It is important to choose an appropriate threshold for the amount of perturbations present in the data.\n",
    "\n",
    "Feel free to go back to the encoding and blocking and experiment on how different setting will affect the matching quality."
   ]
  },
  {
   "cell_type": "markdown",
   "metadata": {},
   "source": [
    "## P-Sig Blocking\n",
    "\n",
    "Here we can try a different blocking technique - probability signature blocking."
   ]
  },
  {
   "cell_type": "code",
   "execution_count": 43,
   "metadata": {
    "pycharm": {
     "name": "#%%\n"
    }
   },
   "outputs": [
    {
     "name": "stdout",
     "output_type": "stream",
     "text": [
      "{\n",
      "        \"type\": \"p-sig\",\n",
      "        \"version\": 1,\n",
      "        \"config\": {\n",
      "            \"blocking-features\": [1, 2, 3, 4, 5, 6, 7],\n",
      "            \"filter\": {\n",
      "                \"type\": \"count\",\n",
      "                \"max\": 100,\n",
      "                \"min\": 0.00\n",
      "            },\n",
      "            \"blocking-filter\": {\n",
      "                \"type\": \"bloom filter\",\n",
      "                \"number-hash-functions\": 4,\n",
      "                \"bf-len\": 2048\n",
      "            },\n",
      "            \"signatureSpecs\": [\n",
      "                [\n",
      "                    {\"type\": \"characters-at\", \"config\": {\"pos\": [\"0\"]}, \"feature-idx\": 1},\n",
      "                    {\"type\": \"characters-at\", \"config\": {\"pos\": [\"0\"]}, \"feature-idx\": 2}\n",
      "                ],\n",
      "                [\n",
      "                    {\"type\": \"characters-at\", \"config\": {\"pos\": [\"0:\"]}, \"feature-idx\": 7}\n",
      "                ],\n",
      "                [\n",
      "                    {\"type\": \"characters-at\", \"config\": {\"pos\": [\"0:\"]}, \"feature-idx\": 4}\n",
      "                ],\n",
      "                [\n",
      "                    {\"type\": \"characters-at\", \"config\": {\"pos\": [\"0:3\"]}, \"feature-idx\": 1},\n",
      "                    {\"type\": \"characters-at\", \"config\": {\"pos\": [\"0\"]}, \"feature-idx\": 2}\n",
      "                ],\n",
      "                [\n",
      "                    {\"type\": \"characters-at\", \"config\": {\"pos\": [\"1:4\"]}, \"feature-idx\": 1},\n",
      "                    {\"type\": \"characters-at\", \"config\": {\"pos\": [\"0\"]}, \"feature-idx\": 2}\n",
      "                ],\n",
      "                [\n",
      "                    {\"type\": \"characters-at\", \"config\": {\"pos\": [\"0:\"]}, \"feature-idx\": 2},\n",
      "                    {\"type\": \"characters-at\", \"config\": {\"pos\": [\"0:\"]}, \"feature-idx\": 3},\n",
      "                    {\"type\": \"characters-at\", \"config\": {\"pos\": [\"0:\"]}, \"feature-idx\": 4}\n",
      "                ],\n",
      "                [\n",
      "                    {\"type\": \"metaphone\", \"feature-idx\": 1},\n",
      "                    {\"type\": \"metaphone\", \"feature-idx\": 2},\n",
      "                    {\"type\": \"characters-at\", \"config\": {\"pos\": [\"0:\"]}, \"feature-idx\": 7}\n",
      "                ]\n",
      "            ]\n",
      "        }\n",
      "}\n"
     ]
    }
   ],
   "source": [
    "with open(\"psig_blocking_schema.json\") as f:\n",
    "    print(f.read())"
   ]
  },
  {
   "cell_type": "code",
   "execution_count": 44,
   "metadata": {},
   "outputs": [
    {
     "name": "stdout",
     "output_type": "stream",
     "text": [
      "P-Sig: 100.0% records are covered in blocks\n",
      "Statistics for the generated blocks:\n",
      "\tNumber of Blocks:   24640\n",
      "\tMinimum Block Size: 1\n",
      "\tMaximum Block Size: 15\n",
      "\tAverage Block Size: 1.2175324675324675\n",
      "\tMedian Block Size:  1\n",
      "\tStandard Deviation of Block Size:  0.9897405036787084\n"
     ]
    }
   ],
   "source": [
    "# NBVAL_IGNORE_OUTPUT \n",
    "!anonlink block 'PII_a.csv' 'psig_blocking_schema.json' 'psig_blocks_a.json'"
   ]
  },
  {
   "cell_type": "code",
   "execution_count": 45,
   "metadata": {},
   "outputs": [
    {
     "name": "stdout",
     "output_type": "stream",
     "text": [
      "P-Sig: 100.0% records are covered in blocks\n",
      "Statistics for the generated blocks:\n",
      "\tNumber of Blocks:   24650\n",
      "\tMinimum Block Size: 1\n",
      "\tMaximum Block Size: 15\n",
      "\tAverage Block Size: 1.2170385395537526\n",
      "\tMedian Block Size:  1\n",
      "\tStandard Deviation of Block Size:  0.9891874327374874\n"
     ]
    }
   ],
   "source": [
    "# NBVAL_IGNORE_OUTPUT \n",
    "!anonlink block 'PII_b.csv' 'psig_blocking_schema.json' 'psig_blocks_b.json'"
   ]
  },
  {
   "cell_type": "code",
   "execution_count": 46,
   "metadata": {
    "pycharm": {
     "name": "#%%\n"
    }
   },
   "outputs": [
    {
     "name": "stdout",
     "output_type": "stream",
     "text": [
      "\u001b[31mProject created\u001b[0m\r\n"
     ]
    }
   ],
   "source": [
    "# NBVAL_IGNORE_OUTPUT \n",
    "!anonlink create-project --server={SERVER} --schema \"../_static/febrl_schema_v3_final.json\" --output \"credentials.json\" --type \"groups\" --name \"Blocking Test\" --blocked"
   ]
  },
  {
   "cell_type": "code",
   "execution_count": 47,
   "metadata": {
    "pycharm": {
     "name": "#%%\n"
    }
   },
   "outputs": [
    {
     "name": "stdout",
     "output_type": "stream",
     "text": [
      "{\n",
      "    \"project_id\": \"2c50410532dca33b9415a98078302b8b04b37024b6186bac\",\n",
      "    \"result_token\": \"c2a53a2442ea40dd0863bf1a45213803ca58e70422817ff7\",\n",
      "    \"update_tokens\": [\n",
      "        \"2c0b3cf1275b085fdf0991430934e58cd92e61b389ee2a2a\",\n",
      "        \"c405aa7cb58cc2461e500e188da43bfbd2bd6a58e532a754\"\n",
      "    ]\n",
      "}\n"
     ]
    }
   ],
   "source": [
    "# NBVAL_IGNORE_OUTPUT\n",
    "credentials = json.load(open(\"credentials.json\", 'rt'))\n",
    "print(json.dumps(credentials, indent=4))"
   ]
  },
  {
   "cell_type": "code",
   "execution_count": 48,
   "metadata": {
    "pycharm": {
     "name": "#%%\n"
    }
   },
   "outputs": [
    {
     "name": "stdout",
     "output_type": "stream",
     "text": [
      "uploads\n",
      "Anonlink client: Uploading to the external object store - MINIO\n",
      "Upload psig_blocks_a.json: |####################| 1.24 MB/1.24 MB 100% [elapsed: 00:00 left: 00:00,  1.93 MB/sec]"
     ]
    }
   ],
   "source": [
    "# NBVAL_IGNORE_OUTPUT\n",
    "!anonlink upload \\\n",
    "       --project=\"{credentials['project_id']}\" \\\n",
    "        --apikey=\"{credentials['update_tokens'][0]}\" \\\n",
    "        --output \"upload_a.json\" \\\n",
    "        --server=\"{SERVER}\" \\\n",
    "        --blocks=\"psig_blocks_a.json\" \\\n",
    "        \"clks_a.json\""
   ]
  },
  {
   "cell_type": "code",
   "execution_count": 49,
   "metadata": {
    "pycharm": {
     "name": "#%%\n"
    }
   },
   "outputs": [
    {
     "name": "stdout",
     "output_type": "stream",
     "text": [
      "uploads\n",
      "Anonlink client: Uploading to the external object store - MINIO\n",
      "Upload psig_blocks_b.json: |####################| 1.24 MB/1.24 MB 100% [elapsed: 00:00 left: 00:00,  2.00 MB/sec]"
     ]
    }
   ],
   "source": [
    "# NBVAL_IGNORE_OUTPUT\n",
    "!anonlink upload \\\n",
    "       --project=\"{credentials['project_id']}\" \\\n",
    "        --apikey=\"{credentials['update_tokens'][1]}\" \\\n",
    "        --output \"upload_b.json\" \\\n",
    "        --server=\"{SERVER}\" \\\n",
    "        --blocks=\"psig_blocks_b.json\" \\\n",
    "        \"clks_b.json\""
   ]
  },
  {
   "cell_type": "code",
   "execution_count": 50,
   "metadata": {
    "pycharm": {
     "name": "#%%\n"
    }
   },
   "outputs": [
    {
     "name": "stdout",
     "output_type": "stream",
     "text": [
      "\u001b[31mConnecting to Entity Matching Server: https://anonlink.easd.data61.xyz\u001b[0m\r\n"
     ]
    }
   ],
   "source": [
    "# NBVAL_IGNORE_OUTPUT\n",
    "!anonlink create --verbose  \\\n",
    "    --server=\"{SERVER}\" \\\n",
    "    --output \"run_info.json\" \\\n",
    "    --threshold=0.8 \\\n",
    "    --project=\"{credentials['project_id']}\" \\\n",
    "    --apikey=\"{credentials['result_token']}\" \\\n",
    "    --name=\"Psig Blocked run\""
   ]
  },
  {
   "cell_type": "code",
   "execution_count": 51,
   "metadata": {
    "pycharm": {
     "name": "#%%\n"
    }
   },
   "outputs": [
    {
     "data": {
      "text/plain": [
       "{'name': 'Psig Blocked run',\n",
       " 'notes': 'Run created by anonlink-client 0.1.4b0',\n",
       " 'run_id': '7e090fc37a00dbb54d47babb65921af8d0053d189ada1d23',\n",
       " 'threshold': 0.8}"
      ]
     },
     "execution_count": 51,
     "metadata": {},
     "output_type": "execute_result"
    }
   ],
   "source": [
    "# NBVAL_IGNORE_OUTPUT\n",
    "run_info = json.load(open(\"run_info.json\", 'rt'))\n",
    "run_info"
   ]
  },
  {
   "cell_type": "code",
   "execution_count": 52,
   "metadata": {
    "pycharm": {
     "name": "#%%\n"
    }
   },
   "outputs": [
    {
     "name": "stdout",
     "output_type": "stream",
     "text": [
      "\u001b[31mState: created\n",
      "Stage (1/3): waiting for CLKs\n",
      "Progress: 0.00%\u001b[0m\n",
      "\u001b[31mState: created\n",
      "Stage (1/3): waiting for CLKs\n",
      "Progress: 0.00%\u001b[0m\n",
      "\u001b[31mState: created\n",
      "Stage (1/3): waiting for CLKs\n",
      "Progress: 50.00%\u001b[0m\n",
      "\u001b[31mState: running\n",
      "Stage (2/3): compute similarity scores\u001b[0m\n",
      "\u001b[31mState: running\n",
      "Stage (2/3): compute similarity scores\n",
      "Progress: 100.00%\u001b[0m\n",
      "\u001b[31mState: running\n",
      "Stage (3/3): compute output\u001b[0m\n",
      "\u001b[31mState: completed\n",
      "Stage (3/3): compute output\u001b[0m\n",
      "\u001b[31mDownloading result\u001b[0m\n",
      "\u001b[31mReceived result\u001b[0m\n"
     ]
    }
   ],
   "source": [
    "# NBVAL_IGNORE_OUTPUT\n",
    "!anonlink results --watch \\\n",
    "        --project=\"{credentials['project_id']}\" \\\n",
    "        --apikey=\"{credentials['result_token']}\" \\\n",
    "        --run=\"{run_info['run_id']}\" \\\n",
    "        --server=\"{SERVER}\" \\\n",
    "        --output psig_results.txt"
   ]
  },
  {
   "cell_type": "code",
   "execution_count": 53,
   "metadata": {
    "pycharm": {
     "name": "#%%\n"
    }
   },
   "outputs": [
    {
     "name": "stdout",
     "output_type": "stream",
     "text": [
      "The service linked 4752 entities.\n",
      "Precision: 1.00, Recall: 0.95\n"
     ]
    }
   ],
   "source": [
    "found_matches = extract_matches('psig_results.txt')\n",
    "describe_matching_quality(found_matches)"
   ]
  },
  {
   "cell_type": "markdown",
   "metadata": {},
   "source": [
    "## Cleanup\n",
    "\n",
    "Finally to remove the results from the service delete the individual runs, or remove the uploaded data and all runs by deleting the entire project."
   ]
  },
  {
   "cell_type": "code",
   "execution_count": 54,
   "metadata": {
    "pycharm": {
     "name": "#%%\n"
    }
   },
   "outputs": [
    {
     "name": "stdout",
     "output_type": "stream",
     "text": [
      "\u001b[31mRun deleted\u001b[0m\r\n"
     ]
    }
   ],
   "source": [
    "# NBVAL_IGNORE_OUTPUT\n",
    "# Deleting a run\n",
    "!anonlink delete --project=\"{credentials['project_id']}\" \\\n",
    "        --apikey=\"{credentials['result_token']}\" \\\n",
    "        --run=\"{run_info['run_id']}\" \\\n",
    "        --server=\"{SERVER}\""
   ]
  },
  {
   "cell_type": "code",
   "execution_count": 55,
   "metadata": {
    "pycharm": {
     "name": "#%%\n"
    }
   },
   "outputs": [
    {
     "name": "stdout",
     "output_type": "stream",
     "text": [
      "\u001b[31mProject deleted\u001b[0m\r\n"
     ]
    }
   ],
   "source": [
    "# NBVAL_IGNORE_OUTPUT\n",
    "# Deleting a project\n",
    "!anonlink delete-project --project=\"{credentials['project_id']}\" \\\n",
    "        --apikey=\"{credentials['result_token']}\" \\\n",
    "        --server=\"{SERVER}\""
   ]
  },
  {
   "cell_type": "code",
   "execution_count": null,
   "metadata": {
    "pycharm": {
     "name": "#%%\n"
    }
   },
   "outputs": [],
   "source": []
  }
 ],
 "metadata": {
  "kernelspec": {
   "display_name": "Python 3",
   "language": "python",
   "name": "python3"
  },
  "language_info": {
   "codemirror_mode": {
    "name": "ipython",
    "version": 3
   },
   "file_extension": ".py",
   "mimetype": "text/x-python",
   "name": "python",
   "nbconvert_exporter": "python",
   "pygments_lexer": "ipython3",
   "version": "3.7.6"
  }
 },
 "nbformat": 4,
 "nbformat_minor": 4
}
